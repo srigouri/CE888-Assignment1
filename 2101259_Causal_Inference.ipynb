{
  "nbformat": 4,
  "nbformat_minor": 0,
  "metadata": {
    "colab": {
      "name": "2101259.ipynb",
      "provenance": [],
      "collapsed_sections": [],
      "authorship_tag": "ABX9TyPATlyqIULbZ0Wm55bkwGY8",
      "include_colab_link": true
    },
    "kernelspec": {
      "name": "python3",
      "display_name": "Python 3"
    },
    "language_info": {
      "name": "python"
    }
  },
  "cells": [
    {
      "cell_type": "markdown",
      "metadata": {
        "id": "view-in-github",
        "colab_type": "text"
      },
      "source": [
        "<a href=\"https://colab.research.google.com/github/srigouri/CE888-Assignment1/blob/main/2101259_Causal_Inference.ipynb\" target=\"_parent\"><img src=\"https://colab.research.google.com/assets/colab-badge.svg\" alt=\"Open In Colab\"/></a>"
      ]
    },
    {
      "cell_type": "markdown",
      "source": [
        "CAUSAL INFERENCE ON IHDP AND JOBS DATASET \n",
        "-------------------\n",
        "\n",
        "My assignment is to train a machine learning model for which causality remains a hurdle.Making predictions and dealing with unfamiliar events is difficult when there is a lack of causal knowledge.Causality can help machine learning's inability to generalise.Here the task is divided into 2 parts.\n",
        "Part-1 deals with IHDP dataset and \n",
        "Part-2 deals with Jobs dataset."
      ],
      "metadata": {
        "id": "HfoqjkOk_ccY"
      }
    },
    {
      "cell_type": "markdown",
      "source": [
        "#Step-1 Loading required packages:"
      ],
      "metadata": {
        "id": "ujkdWjf-CyOx"
      }
    },
    {
      "cell_type": "code",
      "source": [
        "!pip install econml"
      ],
      "metadata": {
        "colab": {
          "base_uri": "https://localhost:8080/"
        },
        "id": "RiGMuBPiC6jW",
        "outputId": "847e0f96-ea36-4f55-c813-283bc9d829ea"
      },
      "execution_count": 26,
      "outputs": [
        {
          "output_type": "stream",
          "name": "stdout",
          "text": [
            "Requirement already satisfied: econml in /usr/local/lib/python3.7/dist-packages (0.13.0)\n",
            "Requirement already satisfied: statsmodels>=0.10 in /usr/local/lib/python3.7/dist-packages (from econml) (0.10.2)\n",
            "Requirement already satisfied: lightgbm in /usr/local/lib/python3.7/dist-packages (from econml) (2.2.3)\n",
            "Requirement already satisfied: scikit-learn>0.22.0 in /usr/local/lib/python3.7/dist-packages (from econml) (1.0.2)\n",
            "Requirement already satisfied: joblib>=0.13.0 in /usr/local/lib/python3.7/dist-packages (from econml) (1.1.0)\n",
            "Requirement already satisfied: pandas in /usr/local/lib/python3.7/dist-packages (from econml) (1.3.5)\n",
            "Requirement already satisfied: shap<0.40.0,>=0.38.1 in /usr/local/lib/python3.7/dist-packages (from econml) (0.39.0)\n",
            "Requirement already satisfied: sparse in /usr/local/lib/python3.7/dist-packages (from econml) (0.13.0)\n",
            "Requirement already satisfied: dowhy<0.7 in /usr/local/lib/python3.7/dist-packages (from econml) (0.6)\n",
            "Requirement already satisfied: numpy in /usr/local/lib/python3.7/dist-packages (from econml) (1.21.5)\n",
            "Requirement already satisfied: scipy>1.4.0 in /usr/local/lib/python3.7/dist-packages (from econml) (1.4.1)\n",
            "Requirement already satisfied: networkx>=2.0 in /usr/local/lib/python3.7/dist-packages (from dowhy<0.7->econml) (2.6.3)\n",
            "Requirement already satisfied: pydot>=1.4 in /usr/local/lib/python3.7/dist-packages (from dowhy<0.7->econml) (1.4.2)\n",
            "Requirement already satisfied: sympy>=1.4 in /usr/local/lib/python3.7/dist-packages (from dowhy<0.7->econml) (1.7.1)\n",
            "Requirement already satisfied: python-dateutil>=2.7.3 in /usr/local/lib/python3.7/dist-packages (from pandas->econml) (2.8.2)\n",
            "Requirement already satisfied: pytz>=2017.3 in /usr/local/lib/python3.7/dist-packages (from pandas->econml) (2018.9)\n",
            "Requirement already satisfied: pyparsing>=2.1.4 in /usr/local/lib/python3.7/dist-packages (from pydot>=1.4->dowhy<0.7->econml) (3.0.7)\n",
            "Requirement already satisfied: six>=1.5 in /usr/local/lib/python3.7/dist-packages (from python-dateutil>=2.7.3->pandas->econml) (1.15.0)\n",
            "Requirement already satisfied: threadpoolctl>=2.0.0 in /usr/local/lib/python3.7/dist-packages (from scikit-learn>0.22.0->econml) (3.1.0)\n",
            "Requirement already satisfied: numba in /usr/local/lib/python3.7/dist-packages (from shap<0.40.0,>=0.38.1->econml) (0.51.2)\n",
            "Requirement already satisfied: cloudpickle in /usr/local/lib/python3.7/dist-packages (from shap<0.40.0,>=0.38.1->econml) (1.3.0)\n",
            "Requirement already satisfied: slicer==0.0.7 in /usr/local/lib/python3.7/dist-packages (from shap<0.40.0,>=0.38.1->econml) (0.0.7)\n",
            "Requirement already satisfied: tqdm>4.25.0 in /usr/local/lib/python3.7/dist-packages (from shap<0.40.0,>=0.38.1->econml) (4.62.3)\n",
            "Requirement already satisfied: patsy>=0.4.0 in /usr/local/lib/python3.7/dist-packages (from statsmodels>=0.10->econml) (0.5.2)\n",
            "Requirement already satisfied: mpmath>=0.19 in /usr/local/lib/python3.7/dist-packages (from sympy>=1.4->dowhy<0.7->econml) (1.2.1)\n",
            "Requirement already satisfied: setuptools in /usr/local/lib/python3.7/dist-packages (from numba->shap<0.40.0,>=0.38.1->econml) (57.4.0)\n",
            "Requirement already satisfied: llvmlite<0.35,>=0.34.0.dev0 in /usr/local/lib/python3.7/dist-packages (from numba->shap<0.40.0,>=0.38.1->econml) (0.34.0)\n"
          ]
        }
      ]
    },
    {
      "cell_type": "code",
      "source": [
        "from econml.metalearners import XLearner\n",
        "from sklearn.ensemble import RandomForestRegressor, RandomForestClassifier\n",
        "from sklearn.model_selection import train_test_split\n",
        "from sklearn.preprocessing import StandardScaler\n",
        "import numpy as np\n",
        "import pandas as pd\n",
        "import scipy.stats as st\n",
        "from sklearn.decomposition import PCA\n",
        "import seaborn as sns\n",
        "import matplotlib.pyplot as plt\n",
        "import dowhy\n",
        "from dowhy import CausalModel"
      ],
      "metadata": {
        "id": "Y_VEMY8FDZQk"
      },
      "execution_count": 27,
      "outputs": []
    },
    {
      "cell_type": "markdown",
      "source": [
        "# **PART-1**\n",
        "\n",
        "---\n",
        "# Step-2  Average Effect:\n",
        "\n"
      ],
      "metadata": {
        "id": "2Dk32IQyJDxo"
      }
    },
    {
      "cell_type": "markdown",
      "source": [
        "# 1.Problem Setting\n",
        "\n",
        "Part-1: To estimate the casual effects of how the family support (treatment) effects the cognitive test score for the child (outcome).\n"
      ],
      "metadata": {
        "id": "M0jbj-eOB2vq"
      }
    },
    {
      "cell_type": "markdown",
      "source": [
        "#2.Metrics"
      ],
      "metadata": {
        "id": "1LO-PFlQrOBF"
      }
    },
    {
      "cell_type": "markdown",
      "source": [
        "These are the two functions used to calculate Absolute error for the Average Treatment Effect (ATE) and Precision in Estimating the Heterogeneous Treatment Effect (PEHE) using two arguments true treatment effect value(effect_true) and predicted treatment effect value(effect_pred)."
      ],
      "metadata": {
        "id": "kxw05xlWrkQE"
      }
    },
    {
      "cell_type": "code",
      "source": [
        "def abs_ate(effect_true, effect_pred):\n",
        "  return np.abs((np.mean(effect_true)-(np.mean(effect_pred))))\n",
        "\n",
        "def pehe(effect_true, effect_pred):\n",
        "  return np.sqrt(np.mean(np.square((effect_true - effect_pred))))"
      ],
      "metadata": {
        "id": "_ptAvOizrSsp"
      },
      "execution_count": 28,
      "outputs": []
    },
    {
      "cell_type": "markdown",
      "source": [
        "Loading IHDP Dataset:"
      ],
      "metadata": {
        "id": "KzGvKNQ7_25u"
      }
    },
    {
      "cell_type": "code",
      "execution_count": 29,
      "metadata": {
        "colab": {
          "base_uri": "https://localhost:8080/",
          "height": 270
        },
        "id": "qZ1yV8NSaw2t",
        "outputId": "9030be77-cff1-4e78-e119-66e014cc75fe"
      },
      "outputs": [
        {
          "output_type": "execute_result",
          "data": {
            "text/html": [
              "\n",
              "  <div id=\"df-45a0f450-a94d-430d-bd33-02112d27a76c\">\n",
              "    <div class=\"colab-df-container\">\n",
              "      <div>\n",
              "<style scoped>\n",
              "    .dataframe tbody tr th:only-of-type {\n",
              "        vertical-align: middle;\n",
              "    }\n",
              "\n",
              "    .dataframe tbody tr th {\n",
              "        vertical-align: top;\n",
              "    }\n",
              "\n",
              "    .dataframe thead th {\n",
              "        text-align: right;\n",
              "    }\n",
              "</style>\n",
              "<table border=\"1\" class=\"dataframe\">\n",
              "  <thead>\n",
              "    <tr style=\"text-align: right;\">\n",
              "      <th></th>\n",
              "      <th>x1</th>\n",
              "      <th>x2</th>\n",
              "      <th>x3</th>\n",
              "      <th>x4</th>\n",
              "      <th>x5</th>\n",
              "      <th>x6</th>\n",
              "      <th>x7</th>\n",
              "      <th>x8</th>\n",
              "      <th>x9</th>\n",
              "      <th>x10</th>\n",
              "      <th>x11</th>\n",
              "      <th>x12</th>\n",
              "      <th>x13</th>\n",
              "      <th>x14</th>\n",
              "      <th>x15</th>\n",
              "      <th>x16</th>\n",
              "      <th>x17</th>\n",
              "      <th>x18</th>\n",
              "      <th>x19</th>\n",
              "      <th>x20</th>\n",
              "      <th>x21</th>\n",
              "      <th>x22</th>\n",
              "      <th>x23</th>\n",
              "      <th>x24</th>\n",
              "      <th>x25</th>\n",
              "      <th>t</th>\n",
              "      <th>yf</th>\n",
              "      <th>ycf</th>\n",
              "      <th>ite</th>\n",
              "    </tr>\n",
              "  </thead>\n",
              "  <tbody>\n",
              "    <tr>\n",
              "      <th>0</th>\n",
              "      <td>1.397395</td>\n",
              "      <td>0.996346</td>\n",
              "      <td>-1.105624</td>\n",
              "      <td>-0.879606</td>\n",
              "      <td>0.308569</td>\n",
              "      <td>-1.023402</td>\n",
              "      <td>1.0</td>\n",
              "      <td>0.0</td>\n",
              "      <td>0.0</td>\n",
              "      <td>0.0</td>\n",
              "      <td>1.0</td>\n",
              "      <td>0.0</td>\n",
              "      <td>1.0</td>\n",
              "      <td>1.0</td>\n",
              "      <td>0.0</td>\n",
              "      <td>0.0</td>\n",
              "      <td>1.0</td>\n",
              "      <td>1.0</td>\n",
              "      <td>0.0</td>\n",
              "      <td>0.0</td>\n",
              "      <td>0.0</td>\n",
              "      <td>0.0</td>\n",
              "      <td>0.0</td>\n",
              "      <td>0.0</td>\n",
              "      <td>1.0</td>\n",
              "      <td>1.0</td>\n",
              "      <td>4.771232</td>\n",
              "      <td>-0.298509</td>\n",
              "      <td>4.657928</td>\n",
              "    </tr>\n",
              "    <tr>\n",
              "      <th>1</th>\n",
              "      <td>0.269033</td>\n",
              "      <td>0.196818</td>\n",
              "      <td>0.383828</td>\n",
              "      <td>0.161703</td>\n",
              "      <td>-0.629189</td>\n",
              "      <td>1.460832</td>\n",
              "      <td>1.0</td>\n",
              "      <td>0.0</td>\n",
              "      <td>1.0</td>\n",
              "      <td>0.0</td>\n",
              "      <td>0.0</td>\n",
              "      <td>1.0</td>\n",
              "      <td>0.0</td>\n",
              "      <td>0.0</td>\n",
              "      <td>0.0</td>\n",
              "      <td>1.0</td>\n",
              "      <td>1.0</td>\n",
              "      <td>1.0</td>\n",
              "      <td>1.0</td>\n",
              "      <td>0.0</td>\n",
              "      <td>0.0</td>\n",
              "      <td>0.0</td>\n",
              "      <td>0.0</td>\n",
              "      <td>0.0</td>\n",
              "      <td>0.0</td>\n",
              "      <td>0.0</td>\n",
              "      <td>2.956273</td>\n",
              "      <td>5.783770</td>\n",
              "      <td>3.428604</td>\n",
              "    </tr>\n",
              "    <tr>\n",
              "      <th>2</th>\n",
              "      <td>1.051537</td>\n",
              "      <td>1.795874</td>\n",
              "      <td>-1.105624</td>\n",
              "      <td>0.161703</td>\n",
              "      <td>-0.629189</td>\n",
              "      <td>0.963985</td>\n",
              "      <td>1.0</td>\n",
              "      <td>0.0</td>\n",
              "      <td>1.0</td>\n",
              "      <td>1.0</td>\n",
              "      <td>0.0</td>\n",
              "      <td>0.0</td>\n",
              "      <td>0.0</td>\n",
              "      <td>0.0</td>\n",
              "      <td>0.0</td>\n",
              "      <td>1.0</td>\n",
              "      <td>1.0</td>\n",
              "      <td>1.0</td>\n",
              "      <td>0.0</td>\n",
              "      <td>0.0</td>\n",
              "      <td>0.0</td>\n",
              "      <td>0.0</td>\n",
              "      <td>0.0</td>\n",
              "      <td>0.0</td>\n",
              "      <td>1.0</td>\n",
              "      <td>0.0</td>\n",
              "      <td>4.164164</td>\n",
              "      <td>7.055789</td>\n",
              "      <td>3.658195</td>\n",
              "    </tr>\n",
              "    <tr>\n",
              "      <th>3</th>\n",
              "      <td>0.662446</td>\n",
              "      <td>0.196818</td>\n",
              "      <td>-0.733261</td>\n",
              "      <td>-0.879606</td>\n",
              "      <td>0.371086</td>\n",
              "      <td>-0.692171</td>\n",
              "      <td>1.0</td>\n",
              "      <td>0.0</td>\n",
              "      <td>0.0</td>\n",
              "      <td>0.0</td>\n",
              "      <td>0.0</td>\n",
              "      <td>1.0</td>\n",
              "      <td>0.0</td>\n",
              "      <td>1.0</td>\n",
              "      <td>0.0</td>\n",
              "      <td>1.0</td>\n",
              "      <td>0.0</td>\n",
              "      <td>1.0</td>\n",
              "      <td>0.0</td>\n",
              "      <td>1.0</td>\n",
              "      <td>0.0</td>\n",
              "      <td>0.0</td>\n",
              "      <td>0.0</td>\n",
              "      <td>0.0</td>\n",
              "      <td>0.0</td>\n",
              "      <td>1.0</td>\n",
              "      <td>6.172307</td>\n",
              "      <td>1.379697</td>\n",
              "      <td>4.585505</td>\n",
              "    </tr>\n",
              "    <tr>\n",
              "      <th>4</th>\n",
              "      <td>0.856992</td>\n",
              "      <td>1.795874</td>\n",
              "      <td>0.011465</td>\n",
              "      <td>-0.879606</td>\n",
              "      <td>0.558638</td>\n",
              "      <td>0.301522</td>\n",
              "      <td>0.0</td>\n",
              "      <td>1.0</td>\n",
              "      <td>1.0</td>\n",
              "      <td>0.0</td>\n",
              "      <td>0.0</td>\n",
              "      <td>0.0</td>\n",
              "      <td>0.0</td>\n",
              "      <td>1.0</td>\n",
              "      <td>0.0</td>\n",
              "      <td>1.0</td>\n",
              "      <td>0.0</td>\n",
              "      <td>1.0</td>\n",
              "      <td>1.0</td>\n",
              "      <td>0.0</td>\n",
              "      <td>0.0</td>\n",
              "      <td>0.0</td>\n",
              "      <td>0.0</td>\n",
              "      <td>0.0</td>\n",
              "      <td>0.0</td>\n",
              "      <td>1.0</td>\n",
              "      <td>7.834469</td>\n",
              "      <td>2.747986</td>\n",
              "      <td>4.265591</td>\n",
              "    </tr>\n",
              "  </tbody>\n",
              "</table>\n",
              "</div>\n",
              "      <button class=\"colab-df-convert\" onclick=\"convertToInteractive('df-45a0f450-a94d-430d-bd33-02112d27a76c')\"\n",
              "              title=\"Convert this dataframe to an interactive table.\"\n",
              "              style=\"display:none;\">\n",
              "        \n",
              "  <svg xmlns=\"http://www.w3.org/2000/svg\" height=\"24px\"viewBox=\"0 0 24 24\"\n",
              "       width=\"24px\">\n",
              "    <path d=\"M0 0h24v24H0V0z\" fill=\"none\"/>\n",
              "    <path d=\"M18.56 5.44l.94 2.06.94-2.06 2.06-.94-2.06-.94-.94-2.06-.94 2.06-2.06.94zm-11 1L8.5 8.5l.94-2.06 2.06-.94-2.06-.94L8.5 2.5l-.94 2.06-2.06.94zm10 10l.94 2.06.94-2.06 2.06-.94-2.06-.94-.94-2.06-.94 2.06-2.06.94z\"/><path d=\"M17.41 7.96l-1.37-1.37c-.4-.4-.92-.59-1.43-.59-.52 0-1.04.2-1.43.59L10.3 9.45l-7.72 7.72c-.78.78-.78 2.05 0 2.83L4 21.41c.39.39.9.59 1.41.59.51 0 1.02-.2 1.41-.59l7.78-7.78 2.81-2.81c.8-.78.8-2.07 0-2.86zM5.41 20L4 18.59l7.72-7.72 1.47 1.35L5.41 20z\"/>\n",
              "  </svg>\n",
              "      </button>\n",
              "      \n",
              "  <style>\n",
              "    .colab-df-container {\n",
              "      display:flex;\n",
              "      flex-wrap:wrap;\n",
              "      gap: 12px;\n",
              "    }\n",
              "\n",
              "    .colab-df-convert {\n",
              "      background-color: #E8F0FE;\n",
              "      border: none;\n",
              "      border-radius: 50%;\n",
              "      cursor: pointer;\n",
              "      display: none;\n",
              "      fill: #1967D2;\n",
              "      height: 32px;\n",
              "      padding: 0 0 0 0;\n",
              "      width: 32px;\n",
              "    }\n",
              "\n",
              "    .colab-df-convert:hover {\n",
              "      background-color: #E2EBFA;\n",
              "      box-shadow: 0px 1px 2px rgba(60, 64, 67, 0.3), 0px 1px 3px 1px rgba(60, 64, 67, 0.15);\n",
              "      fill: #174EA6;\n",
              "    }\n",
              "\n",
              "    [theme=dark] .colab-df-convert {\n",
              "      background-color: #3B4455;\n",
              "      fill: #D2E3FC;\n",
              "    }\n",
              "\n",
              "    [theme=dark] .colab-df-convert:hover {\n",
              "      background-color: #434B5C;\n",
              "      box-shadow: 0px 1px 3px 1px rgba(0, 0, 0, 0.15);\n",
              "      filter: drop-shadow(0px 1px 2px rgba(0, 0, 0, 0.3));\n",
              "      fill: #FFFFFF;\n",
              "    }\n",
              "  </style>\n",
              "\n",
              "      <script>\n",
              "        const buttonEl =\n",
              "          document.querySelector('#df-45a0f450-a94d-430d-bd33-02112d27a76c button.colab-df-convert');\n",
              "        buttonEl.style.display =\n",
              "          google.colab.kernel.accessAllowed ? 'block' : 'none';\n",
              "\n",
              "        async function convertToInteractive(key) {\n",
              "          const element = document.querySelector('#df-45a0f450-a94d-430d-bd33-02112d27a76c');\n",
              "          const dataTable =\n",
              "            await google.colab.kernel.invokeFunction('convertToInteractive',\n",
              "                                                     [key], {});\n",
              "          if (!dataTable) return;\n",
              "\n",
              "          const docLinkHtml = 'Like what you see? Visit the ' +\n",
              "            '<a target=\"_blank\" href=https://colab.research.google.com/notebooks/data_table.ipynb>data table notebook</a>'\n",
              "            + ' to learn more about interactive tables.';\n",
              "          element.innerHTML = '';\n",
              "          dataTable['output_type'] = 'display_data';\n",
              "          await google.colab.output.renderOutput(dataTable, element);\n",
              "          const docLink = document.createElement('div');\n",
              "          docLink.innerHTML = docLinkHtml;\n",
              "          element.appendChild(docLink);\n",
              "        }\n",
              "      </script>\n",
              "    </div>\n",
              "  </div>\n",
              "  "
            ],
            "text/plain": [
              "         x1        x2        x3        x4  ...    t        yf       ycf       ite\n",
              "0  1.397395  0.996346 -1.105624 -0.879606  ...  1.0  4.771232 -0.298509  4.657928\n",
              "1  0.269033  0.196818  0.383828  0.161703  ...  0.0  2.956273  5.783770  3.428604\n",
              "2  1.051537  1.795874 -1.105624  0.161703  ...  0.0  4.164164  7.055789  3.658195\n",
              "3  0.662446  0.196818 -0.733261 -0.879606  ...  1.0  6.172307  1.379697  4.585505\n",
              "4  0.856992  1.795874  0.011465 -0.879606  ...  1.0  7.834469  2.747986  4.265591\n",
              "\n",
              "[5 rows x 29 columns]"
            ]
          },
          "metadata": {},
          "execution_count": 29
        }
      ],
      "source": [
        "ihdp_data=pd.read_csv('https://raw.githubusercontent.com/dmachlanski/CE888_2022/main/project/data/ihdp.csv')\n",
        "ihdp_data.head()"
      ]
    },
    {
      "cell_type": "code",
      "source": [
        "ihdp_data.describe()"
      ],
      "metadata": {
        "colab": {
          "base_uri": "https://localhost:8080/",
          "height": 364
        },
        "id": "Lo_hCsFdn-9N",
        "outputId": "0454aa92-7e82-4ef0-d8b0-10f0a039c12b"
      },
      "execution_count": 30,
      "outputs": [
        {
          "output_type": "execute_result",
          "data": {
            "text/html": [
              "\n",
              "  <div id=\"df-d3384b10-87a8-4196-b093-4f72ca088682\">\n",
              "    <div class=\"colab-df-container\">\n",
              "      <div>\n",
              "<style scoped>\n",
              "    .dataframe tbody tr th:only-of-type {\n",
              "        vertical-align: middle;\n",
              "    }\n",
              "\n",
              "    .dataframe tbody tr th {\n",
              "        vertical-align: top;\n",
              "    }\n",
              "\n",
              "    .dataframe thead th {\n",
              "        text-align: right;\n",
              "    }\n",
              "</style>\n",
              "<table border=\"1\" class=\"dataframe\">\n",
              "  <thead>\n",
              "    <tr style=\"text-align: right;\">\n",
              "      <th></th>\n",
              "      <th>x1</th>\n",
              "      <th>x2</th>\n",
              "      <th>x3</th>\n",
              "      <th>x4</th>\n",
              "      <th>x5</th>\n",
              "      <th>x6</th>\n",
              "      <th>x7</th>\n",
              "      <th>x8</th>\n",
              "      <th>x9</th>\n",
              "      <th>x10</th>\n",
              "      <th>x11</th>\n",
              "      <th>x12</th>\n",
              "      <th>x13</th>\n",
              "      <th>x14</th>\n",
              "      <th>x15</th>\n",
              "      <th>x16</th>\n",
              "      <th>x17</th>\n",
              "      <th>x18</th>\n",
              "      <th>x19</th>\n",
              "      <th>x20</th>\n",
              "      <th>x21</th>\n",
              "      <th>x22</th>\n",
              "      <th>x23</th>\n",
              "      <th>x24</th>\n",
              "      <th>x25</th>\n",
              "      <th>t</th>\n",
              "      <th>yf</th>\n",
              "      <th>ycf</th>\n",
              "      <th>ite</th>\n",
              "    </tr>\n",
              "  </thead>\n",
              "  <tbody>\n",
              "    <tr>\n",
              "      <th>count</th>\n",
              "      <td>7.470000e+02</td>\n",
              "      <td>7.470000e+02</td>\n",
              "      <td>7.470000e+02</td>\n",
              "      <td>7.470000e+02</td>\n",
              "      <td>7.470000e+02</td>\n",
              "      <td>7.470000e+02</td>\n",
              "      <td>747.000000</td>\n",
              "      <td>747.000000</td>\n",
              "      <td>747.000000</td>\n",
              "      <td>747.000000</td>\n",
              "      <td>747.000000</td>\n",
              "      <td>747.000000</td>\n",
              "      <td>747.000000</td>\n",
              "      <td>747.000000</td>\n",
              "      <td>747.000000</td>\n",
              "      <td>747.000000</td>\n",
              "      <td>747.000000</td>\n",
              "      <td>747.000000</td>\n",
              "      <td>747.000000</td>\n",
              "      <td>747.000000</td>\n",
              "      <td>747.000000</td>\n",
              "      <td>747.000000</td>\n",
              "      <td>747.000000</td>\n",
              "      <td>747.000000</td>\n",
              "      <td>747.000000</td>\n",
              "      <td>747.000000</td>\n",
              "      <td>747.000000</td>\n",
              "      <td>747.000000</td>\n",
              "      <td>747.000000</td>\n",
              "    </tr>\n",
              "    <tr>\n",
              "      <th>mean</th>\n",
              "      <td>3.626431e-17</td>\n",
              "      <td>2.348263e-17</td>\n",
              "      <td>-4.666801e-17</td>\n",
              "      <td>-9.012574e-16</td>\n",
              "      <td>4.518177e-17</td>\n",
              "      <td>-7.251376e-16</td>\n",
              "      <td>0.514056</td>\n",
              "      <td>0.093708</td>\n",
              "      <td>0.520750</td>\n",
              "      <td>0.364123</td>\n",
              "      <td>0.269076</td>\n",
              "      <td>0.219545</td>\n",
              "      <td>0.358768</td>\n",
              "      <td>0.463186</td>\n",
              "      <td>0.140562</td>\n",
              "      <td>0.959839</td>\n",
              "      <td>0.594378</td>\n",
              "      <td>0.963855</td>\n",
              "      <td>0.135207</td>\n",
              "      <td>0.135207</td>\n",
              "      <td>0.156627</td>\n",
              "      <td>0.081660</td>\n",
              "      <td>0.073628</td>\n",
              "      <td>0.128514</td>\n",
              "      <td>0.157965</td>\n",
              "      <td>0.186078</td>\n",
              "      <td>3.159538</td>\n",
              "      <td>5.696107</td>\n",
              "      <td>4.016067</td>\n",
              "    </tr>\n",
              "    <tr>\n",
              "      <th>std</th>\n",
              "      <td>1.000000e+00</td>\n",
              "      <td>1.000000e+00</td>\n",
              "      <td>1.000000e+00</td>\n",
              "      <td>1.000000e+00</td>\n",
              "      <td>1.000000e+00</td>\n",
              "      <td>1.000000e+00</td>\n",
              "      <td>0.500137</td>\n",
              "      <td>0.291618</td>\n",
              "      <td>0.499904</td>\n",
              "      <td>0.481506</td>\n",
              "      <td>0.443777</td>\n",
              "      <td>0.414216</td>\n",
              "      <td>0.479960</td>\n",
              "      <td>0.498977</td>\n",
              "      <td>0.347802</td>\n",
              "      <td>0.196467</td>\n",
              "      <td>0.491341</td>\n",
              "      <td>0.186775</td>\n",
              "      <td>0.342174</td>\n",
              "      <td>0.342174</td>\n",
              "      <td>0.363692</td>\n",
              "      <td>0.274029</td>\n",
              "      <td>0.261339</td>\n",
              "      <td>0.334886</td>\n",
              "      <td>0.364953</td>\n",
              "      <td>0.389430</td>\n",
              "      <td>2.179956</td>\n",
              "      <td>1.980121</td>\n",
              "      <td>0.859736</td>\n",
              "    </tr>\n",
              "    <tr>\n",
              "      <th>min</th>\n",
              "      <td>-2.731287e+00</td>\n",
              "      <td>-3.800823e+00</td>\n",
              "      <td>-1.850350e+00</td>\n",
              "      <td>-8.796060e-01</td>\n",
              "      <td>-5.130428e+00</td>\n",
              "      <td>-1.851480e+00</td>\n",
              "      <td>0.000000</td>\n",
              "      <td>0.000000</td>\n",
              "      <td>0.000000</td>\n",
              "      <td>0.000000</td>\n",
              "      <td>0.000000</td>\n",
              "      <td>0.000000</td>\n",
              "      <td>0.000000</td>\n",
              "      <td>0.000000</td>\n",
              "      <td>0.000000</td>\n",
              "      <td>0.000000</td>\n",
              "      <td>0.000000</td>\n",
              "      <td>0.000000</td>\n",
              "      <td>0.000000</td>\n",
              "      <td>0.000000</td>\n",
              "      <td>0.000000</td>\n",
              "      <td>0.000000</td>\n",
              "      <td>0.000000</td>\n",
              "      <td>0.000000</td>\n",
              "      <td>0.000000</td>\n",
              "      <td>0.000000</td>\n",
              "      <td>-1.543902</td>\n",
              "      <td>-1.037628</td>\n",
              "      <td>-1.866989</td>\n",
              "    </tr>\n",
              "    <tr>\n",
              "      <th>25%</th>\n",
              "      <td>-6.669461e-01</td>\n",
              "      <td>-6.027100e-01</td>\n",
              "      <td>-7.332610e-01</td>\n",
              "      <td>-8.796060e-01</td>\n",
              "      <td>-5.666720e-01</td>\n",
              "      <td>-8.577868e-01</td>\n",
              "      <td>0.000000</td>\n",
              "      <td>0.000000</td>\n",
              "      <td>0.000000</td>\n",
              "      <td>0.000000</td>\n",
              "      <td>0.000000</td>\n",
              "      <td>0.000000</td>\n",
              "      <td>0.000000</td>\n",
              "      <td>0.000000</td>\n",
              "      <td>0.000000</td>\n",
              "      <td>1.000000</td>\n",
              "      <td>0.000000</td>\n",
              "      <td>1.000000</td>\n",
              "      <td>0.000000</td>\n",
              "      <td>0.000000</td>\n",
              "      <td>0.000000</td>\n",
              "      <td>0.000000</td>\n",
              "      <td>0.000000</td>\n",
              "      <td>0.000000</td>\n",
              "      <td>0.000000</td>\n",
              "      <td>0.000000</td>\n",
              "      <td>1.626779</td>\n",
              "      <td>5.053598</td>\n",
              "      <td>3.775936</td>\n",
              "    </tr>\n",
              "    <tr>\n",
              "      <th>50%</th>\n",
              "      <td>1.652752e-01</td>\n",
              "      <td>1.968181e-01</td>\n",
              "      <td>-3.608980e-01</td>\n",
              "      <td>1.617025e-01</td>\n",
              "      <td>1.210172e-01</td>\n",
              "      <td>-2.970882e-02</td>\n",
              "      <td>1.000000</td>\n",
              "      <td>0.000000</td>\n",
              "      <td>1.000000</td>\n",
              "      <td>0.000000</td>\n",
              "      <td>0.000000</td>\n",
              "      <td>0.000000</td>\n",
              "      <td>0.000000</td>\n",
              "      <td>0.000000</td>\n",
              "      <td>0.000000</td>\n",
              "      <td>1.000000</td>\n",
              "      <td>1.000000</td>\n",
              "      <td>1.000000</td>\n",
              "      <td>0.000000</td>\n",
              "      <td>0.000000</td>\n",
              "      <td>0.000000</td>\n",
              "      <td>0.000000</td>\n",
              "      <td>0.000000</td>\n",
              "      <td>0.000000</td>\n",
              "      <td>0.000000</td>\n",
              "      <td>0.000000</td>\n",
              "      <td>2.577294</td>\n",
              "      <td>6.209686</td>\n",
              "      <td>4.304433</td>\n",
              "    </tr>\n",
              "    <tr>\n",
              "      <th>75%</th>\n",
              "      <td>8.137593e-01</td>\n",
              "      <td>5.965822e-01</td>\n",
              "      <td>7.561910e-01</td>\n",
              "      <td>1.617025e-01</td>\n",
              "      <td>6.836721e-01</td>\n",
              "      <td>6.327536e-01</td>\n",
              "      <td>1.000000</td>\n",
              "      <td>0.000000</td>\n",
              "      <td>1.000000</td>\n",
              "      <td>1.000000</td>\n",
              "      <td>1.000000</td>\n",
              "      <td>0.000000</td>\n",
              "      <td>1.000000</td>\n",
              "      <td>1.000000</td>\n",
              "      <td>0.000000</td>\n",
              "      <td>1.000000</td>\n",
              "      <td>1.000000</td>\n",
              "      <td>1.000000</td>\n",
              "      <td>0.000000</td>\n",
              "      <td>0.000000</td>\n",
              "      <td>0.000000</td>\n",
              "      <td>0.000000</td>\n",
              "      <td>0.000000</td>\n",
              "      <td>0.000000</td>\n",
              "      <td>0.000000</td>\n",
              "      <td>0.000000</td>\n",
              "      <td>4.494637</td>\n",
              "      <td>6.948922</td>\n",
              "      <td>4.569454</td>\n",
              "    </tr>\n",
              "    <tr>\n",
              "      <th>max</th>\n",
              "      <td>1.505476e+00</td>\n",
              "      <td>2.595403e+00</td>\n",
              "      <td>2.990369e+00</td>\n",
              "      <td>2.244320e+00</td>\n",
              "      <td>2.371637e+00</td>\n",
              "      <td>2.951372e+00</td>\n",
              "      <td>1.000000</td>\n",
              "      <td>1.000000</td>\n",
              "      <td>1.000000</td>\n",
              "      <td>1.000000</td>\n",
              "      <td>1.000000</td>\n",
              "      <td>1.000000</td>\n",
              "      <td>1.000000</td>\n",
              "      <td>1.000000</td>\n",
              "      <td>1.000000</td>\n",
              "      <td>1.000000</td>\n",
              "      <td>1.000000</td>\n",
              "      <td>1.000000</td>\n",
              "      <td>1.000000</td>\n",
              "      <td>1.000000</td>\n",
              "      <td>1.000000</td>\n",
              "      <td>1.000000</td>\n",
              "      <td>1.000000</td>\n",
              "      <td>1.000000</td>\n",
              "      <td>1.000000</td>\n",
              "      <td>1.000000</td>\n",
              "      <td>11.268228</td>\n",
              "      <td>10.171004</td>\n",
              "      <td>4.670125</td>\n",
              "    </tr>\n",
              "  </tbody>\n",
              "</table>\n",
              "</div>\n",
              "      <button class=\"colab-df-convert\" onclick=\"convertToInteractive('df-d3384b10-87a8-4196-b093-4f72ca088682')\"\n",
              "              title=\"Convert this dataframe to an interactive table.\"\n",
              "              style=\"display:none;\">\n",
              "        \n",
              "  <svg xmlns=\"http://www.w3.org/2000/svg\" height=\"24px\"viewBox=\"0 0 24 24\"\n",
              "       width=\"24px\">\n",
              "    <path d=\"M0 0h24v24H0V0z\" fill=\"none\"/>\n",
              "    <path d=\"M18.56 5.44l.94 2.06.94-2.06 2.06-.94-2.06-.94-.94-2.06-.94 2.06-2.06.94zm-11 1L8.5 8.5l.94-2.06 2.06-.94-2.06-.94L8.5 2.5l-.94 2.06-2.06.94zm10 10l.94 2.06.94-2.06 2.06-.94-2.06-.94-.94-2.06-.94 2.06-2.06.94z\"/><path d=\"M17.41 7.96l-1.37-1.37c-.4-.4-.92-.59-1.43-.59-.52 0-1.04.2-1.43.59L10.3 9.45l-7.72 7.72c-.78.78-.78 2.05 0 2.83L4 21.41c.39.39.9.59 1.41.59.51 0 1.02-.2 1.41-.59l7.78-7.78 2.81-2.81c.8-.78.8-2.07 0-2.86zM5.41 20L4 18.59l7.72-7.72 1.47 1.35L5.41 20z\"/>\n",
              "  </svg>\n",
              "      </button>\n",
              "      \n",
              "  <style>\n",
              "    .colab-df-container {\n",
              "      display:flex;\n",
              "      flex-wrap:wrap;\n",
              "      gap: 12px;\n",
              "    }\n",
              "\n",
              "    .colab-df-convert {\n",
              "      background-color: #E8F0FE;\n",
              "      border: none;\n",
              "      border-radius: 50%;\n",
              "      cursor: pointer;\n",
              "      display: none;\n",
              "      fill: #1967D2;\n",
              "      height: 32px;\n",
              "      padding: 0 0 0 0;\n",
              "      width: 32px;\n",
              "    }\n",
              "\n",
              "    .colab-df-convert:hover {\n",
              "      background-color: #E2EBFA;\n",
              "      box-shadow: 0px 1px 2px rgba(60, 64, 67, 0.3), 0px 1px 3px 1px rgba(60, 64, 67, 0.15);\n",
              "      fill: #174EA6;\n",
              "    }\n",
              "\n",
              "    [theme=dark] .colab-df-convert {\n",
              "      background-color: #3B4455;\n",
              "      fill: #D2E3FC;\n",
              "    }\n",
              "\n",
              "    [theme=dark] .colab-df-convert:hover {\n",
              "      background-color: #434B5C;\n",
              "      box-shadow: 0px 1px 3px 1px rgba(0, 0, 0, 0.15);\n",
              "      filter: drop-shadow(0px 1px 2px rgba(0, 0, 0, 0.3));\n",
              "      fill: #FFFFFF;\n",
              "    }\n",
              "  </style>\n",
              "\n",
              "      <script>\n",
              "        const buttonEl =\n",
              "          document.querySelector('#df-d3384b10-87a8-4196-b093-4f72ca088682 button.colab-df-convert');\n",
              "        buttonEl.style.display =\n",
              "          google.colab.kernel.accessAllowed ? 'block' : 'none';\n",
              "\n",
              "        async function convertToInteractive(key) {\n",
              "          const element = document.querySelector('#df-d3384b10-87a8-4196-b093-4f72ca088682');\n",
              "          const dataTable =\n",
              "            await google.colab.kernel.invokeFunction('convertToInteractive',\n",
              "                                                     [key], {});\n",
              "          if (!dataTable) return;\n",
              "\n",
              "          const docLinkHtml = 'Like what you see? Visit the ' +\n",
              "            '<a target=\"_blank\" href=https://colab.research.google.com/notebooks/data_table.ipynb>data table notebook</a>'\n",
              "            + ' to learn more about interactive tables.';\n",
              "          element.innerHTML = '';\n",
              "          dataTable['output_type'] = 'display_data';\n",
              "          await google.colab.output.renderOutput(dataTable, element);\n",
              "          const docLink = document.createElement('div');\n",
              "          docLink.innerHTML = docLinkHtml;\n",
              "          element.appendChild(docLink);\n",
              "        }\n",
              "      </script>\n",
              "    </div>\n",
              "  </div>\n",
              "  "
            ],
            "text/plain": [
              "                 x1            x2  ...         ycf         ite\n",
              "count  7.470000e+02  7.470000e+02  ...  747.000000  747.000000\n",
              "mean   3.626431e-17  2.348263e-17  ...    5.696107    4.016067\n",
              "std    1.000000e+00  1.000000e+00  ...    1.980121    0.859736\n",
              "min   -2.731287e+00 -3.800823e+00  ...   -1.037628   -1.866989\n",
              "25%   -6.669461e-01 -6.027100e-01  ...    5.053598    3.775936\n",
              "50%    1.652752e-01  1.968181e-01  ...    6.209686    4.304433\n",
              "75%    8.137593e-01  5.965822e-01  ...    6.948922    4.569454\n",
              "max    1.505476e+00  2.595403e+00  ...   10.171004    4.670125\n",
              "\n",
              "[8 rows x 29 columns]"
            ]
          },
          "metadata": {},
          "execution_count": 30
        }
      ]
    },
    {
      "cell_type": "markdown",
      "source": [
        "In the above scenario,yf are outcomes observed with the treatment(t) i.e family support is given(t=1), no family support(t=0).ycf(counterfactuals) are the outcomes that would have been observed had the treatment been different."
      ],
      "metadata": {
        "id": "MqUdLvBGHABT"
      }
    },
    {
      "cell_type": "code",
      "source": [
        "ihdp_data.isnull().sum()"
      ],
      "metadata": {
        "colab": {
          "base_uri": "https://localhost:8080/"
        },
        "id": "mqU3NRD-9_9T",
        "outputId": "59c64839-ea22-434d-a1c8-5fc982e735af"
      },
      "execution_count": 31,
      "outputs": [
        {
          "output_type": "execute_result",
          "data": {
            "text/plain": [
              "x1     0\n",
              "x2     0\n",
              "x3     0\n",
              "x4     0\n",
              "x5     0\n",
              "x6     0\n",
              "x7     0\n",
              "x8     0\n",
              "x9     0\n",
              "x10    0\n",
              "x11    0\n",
              "x12    0\n",
              "x13    0\n",
              "x14    0\n",
              "x15    0\n",
              "x16    0\n",
              "x17    0\n",
              "x18    0\n",
              "x19    0\n",
              "x20    0\n",
              "x21    0\n",
              "x22    0\n",
              "x23    0\n",
              "x24    0\n",
              "x25    0\n",
              "t      0\n",
              "yf     0\n",
              "ycf    0\n",
              "ite    0\n",
              "dtype: int64"
            ]
          },
          "metadata": {},
          "execution_count": 31
        }
      ]
    },
    {
      "cell_type": "code",
      "source": [
        "X=ihdp_data[['x1','x2','x3','x4','x5','x6','x7','x8','x9','x10','x11','x12','x13','x14','x15','x16','x17','x18','x19','x20','x21','x22','x23','x24','x25']]\n",
        "T=ihdp_data['t']\n",
        "Y=ihdp_data[['yf','ycf']]\n",
        "ite=ihdp_data['ite']"
      ],
      "metadata": {
        "id": "b7jiLZz4bkN6"
      },
      "execution_count": 32,
      "outputs": []
    },
    {
      "cell_type": "code",
      "source": [
        "Y.describe()"
      ],
      "metadata": {
        "colab": {
          "base_uri": "https://localhost:8080/",
          "height": 300
        },
        "id": "lu0Af3HgXdrc",
        "outputId": "95b242e7-bbae-4db2-bd49-95b4929bd744"
      },
      "execution_count": 33,
      "outputs": [
        {
          "output_type": "execute_result",
          "data": {
            "text/html": [
              "\n",
              "  <div id=\"df-3fca055f-1b09-4344-a0e3-e2bfa4468077\">\n",
              "    <div class=\"colab-df-container\">\n",
              "      <div>\n",
              "<style scoped>\n",
              "    .dataframe tbody tr th:only-of-type {\n",
              "        vertical-align: middle;\n",
              "    }\n",
              "\n",
              "    .dataframe tbody tr th {\n",
              "        vertical-align: top;\n",
              "    }\n",
              "\n",
              "    .dataframe thead th {\n",
              "        text-align: right;\n",
              "    }\n",
              "</style>\n",
              "<table border=\"1\" class=\"dataframe\">\n",
              "  <thead>\n",
              "    <tr style=\"text-align: right;\">\n",
              "      <th></th>\n",
              "      <th>yf</th>\n",
              "      <th>ycf</th>\n",
              "    </tr>\n",
              "  </thead>\n",
              "  <tbody>\n",
              "    <tr>\n",
              "      <th>count</th>\n",
              "      <td>747.000000</td>\n",
              "      <td>747.000000</td>\n",
              "    </tr>\n",
              "    <tr>\n",
              "      <th>mean</th>\n",
              "      <td>3.159538</td>\n",
              "      <td>5.696107</td>\n",
              "    </tr>\n",
              "    <tr>\n",
              "      <th>std</th>\n",
              "      <td>2.179956</td>\n",
              "      <td>1.980121</td>\n",
              "    </tr>\n",
              "    <tr>\n",
              "      <th>min</th>\n",
              "      <td>-1.543902</td>\n",
              "      <td>-1.037628</td>\n",
              "    </tr>\n",
              "    <tr>\n",
              "      <th>25%</th>\n",
              "      <td>1.626779</td>\n",
              "      <td>5.053598</td>\n",
              "    </tr>\n",
              "    <tr>\n",
              "      <th>50%</th>\n",
              "      <td>2.577294</td>\n",
              "      <td>6.209686</td>\n",
              "    </tr>\n",
              "    <tr>\n",
              "      <th>75%</th>\n",
              "      <td>4.494637</td>\n",
              "      <td>6.948922</td>\n",
              "    </tr>\n",
              "    <tr>\n",
              "      <th>max</th>\n",
              "      <td>11.268228</td>\n",
              "      <td>10.171004</td>\n",
              "    </tr>\n",
              "  </tbody>\n",
              "</table>\n",
              "</div>\n",
              "      <button class=\"colab-df-convert\" onclick=\"convertToInteractive('df-3fca055f-1b09-4344-a0e3-e2bfa4468077')\"\n",
              "              title=\"Convert this dataframe to an interactive table.\"\n",
              "              style=\"display:none;\">\n",
              "        \n",
              "  <svg xmlns=\"http://www.w3.org/2000/svg\" height=\"24px\"viewBox=\"0 0 24 24\"\n",
              "       width=\"24px\">\n",
              "    <path d=\"M0 0h24v24H0V0z\" fill=\"none\"/>\n",
              "    <path d=\"M18.56 5.44l.94 2.06.94-2.06 2.06-.94-2.06-.94-.94-2.06-.94 2.06-2.06.94zm-11 1L8.5 8.5l.94-2.06 2.06-.94-2.06-.94L8.5 2.5l-.94 2.06-2.06.94zm10 10l.94 2.06.94-2.06 2.06-.94-2.06-.94-.94-2.06-.94 2.06-2.06.94z\"/><path d=\"M17.41 7.96l-1.37-1.37c-.4-.4-.92-.59-1.43-.59-.52 0-1.04.2-1.43.59L10.3 9.45l-7.72 7.72c-.78.78-.78 2.05 0 2.83L4 21.41c.39.39.9.59 1.41.59.51 0 1.02-.2 1.41-.59l7.78-7.78 2.81-2.81c.8-.78.8-2.07 0-2.86zM5.41 20L4 18.59l7.72-7.72 1.47 1.35L5.41 20z\"/>\n",
              "  </svg>\n",
              "      </button>\n",
              "      \n",
              "  <style>\n",
              "    .colab-df-container {\n",
              "      display:flex;\n",
              "      flex-wrap:wrap;\n",
              "      gap: 12px;\n",
              "    }\n",
              "\n",
              "    .colab-df-convert {\n",
              "      background-color: #E8F0FE;\n",
              "      border: none;\n",
              "      border-radius: 50%;\n",
              "      cursor: pointer;\n",
              "      display: none;\n",
              "      fill: #1967D2;\n",
              "      height: 32px;\n",
              "      padding: 0 0 0 0;\n",
              "      width: 32px;\n",
              "    }\n",
              "\n",
              "    .colab-df-convert:hover {\n",
              "      background-color: #E2EBFA;\n",
              "      box-shadow: 0px 1px 2px rgba(60, 64, 67, 0.3), 0px 1px 3px 1px rgba(60, 64, 67, 0.15);\n",
              "      fill: #174EA6;\n",
              "    }\n",
              "\n",
              "    [theme=dark] .colab-df-convert {\n",
              "      background-color: #3B4455;\n",
              "      fill: #D2E3FC;\n",
              "    }\n",
              "\n",
              "    [theme=dark] .colab-df-convert:hover {\n",
              "      background-color: #434B5C;\n",
              "      box-shadow: 0px 1px 3px 1px rgba(0, 0, 0, 0.15);\n",
              "      filter: drop-shadow(0px 1px 2px rgba(0, 0, 0, 0.3));\n",
              "      fill: #FFFFFF;\n",
              "    }\n",
              "  </style>\n",
              "\n",
              "      <script>\n",
              "        const buttonEl =\n",
              "          document.querySelector('#df-3fca055f-1b09-4344-a0e3-e2bfa4468077 button.colab-df-convert');\n",
              "        buttonEl.style.display =\n",
              "          google.colab.kernel.accessAllowed ? 'block' : 'none';\n",
              "\n",
              "        async function convertToInteractive(key) {\n",
              "          const element = document.querySelector('#df-3fca055f-1b09-4344-a0e3-e2bfa4468077');\n",
              "          const dataTable =\n",
              "            await google.colab.kernel.invokeFunction('convertToInteractive',\n",
              "                                                     [key], {});\n",
              "          if (!dataTable) return;\n",
              "\n",
              "          const docLinkHtml = 'Like what you see? Visit the ' +\n",
              "            '<a target=\"_blank\" href=https://colab.research.google.com/notebooks/data_table.ipynb>data table notebook</a>'\n",
              "            + ' to learn more about interactive tables.';\n",
              "          element.innerHTML = '';\n",
              "          dataTable['output_type'] = 'display_data';\n",
              "          await google.colab.output.renderOutput(dataTable, element);\n",
              "          const docLink = document.createElement('div');\n",
              "          docLink.innerHTML = docLinkHtml;\n",
              "          element.appendChild(docLink);\n",
              "        }\n",
              "      </script>\n",
              "    </div>\n",
              "  </div>\n",
              "  "
            ],
            "text/plain": [
              "               yf         ycf\n",
              "count  747.000000  747.000000\n",
              "mean     3.159538    5.696107\n",
              "std      2.179956    1.980121\n",
              "min     -1.543902   -1.037628\n",
              "25%      1.626779    5.053598\n",
              "50%      2.577294    6.209686\n",
              "75%      4.494637    6.948922\n",
              "max     11.268228   10.171004"
            ]
          },
          "metadata": {},
          "execution_count": 33
        }
      ]
    },
    {
      "cell_type": "code",
      "source": [
        "T.value_counts()"
      ],
      "metadata": {
        "colab": {
          "base_uri": "https://localhost:8080/"
        },
        "id": "WuUP0CWG8qR9",
        "outputId": "f55b9b92-2d10-4130-81f7-ce60d5b7638b"
      },
      "execution_count": 34,
      "outputs": [
        {
          "output_type": "execute_result",
          "data": {
            "text/plain": [
              "0.0    608\n",
              "1.0    139\n",
              "Name: t, dtype: int64"
            ]
          },
          "metadata": {},
          "execution_count": 34
        }
      ]
    },
    {
      "cell_type": "markdown",
      "source": [
        "Applying Principal Component Analysis(PCA) for dimensionality reduction of X which has got 25 features as inputs"
      ],
      "metadata": {
        "id": "E5s2BHXiuzN7"
      }
    },
    {
      "cell_type": "markdown",
      "source": [
        "#Data Pre-processing:"
      ],
      "metadata": {
        "id": "n68gHCYMoJr5"
      }
    },
    {
      "cell_type": "code",
      "source": [
        "x_train, x_test, t_train, t_test, y_train, y_test, ite_train, ite_test = train_test_split(X, T, Y, ite, test_size=0.2)\n",
        "\n",
        "scaler_x = StandardScaler()\n",
        "x_train = scaler_x.fit_transform(x_train)\n",
        "x_test = scaler_x.transform(x_test)"
      ],
      "metadata": {
        "id": "-BosFZi12DrO"
      },
      "execution_count": 35,
      "outputs": []
    },
    {
      "cell_type": "markdown",
      "source": [
        "**Treatment Effect:**        \n",
        "\n",
        "The Average Treatment Effect (ATE) builds on ITE:\n",
        "AT E = E[ITE]\n",
        "Note: empirical (sample) ATE is the mean of ITEs"
      ],
      "metadata": {
        "id": "EaXxqLY7seHM"
      }
    },
    {
      "cell_type": "code",
      "source": [
        "ATE=np.mean(ite)\n",
        "ATE"
      ],
      "metadata": {
        "id": "Ramw-FfNcP-a",
        "colab": {
          "base_uri": "https://localhost:8080/",
          "height": 38
        },
        "outputId": "01e255a1-1b0d-4960-ac82-feae54a4ec92"
      },
      "execution_count": 36,
      "outputs": [
        {
          "output_type": "execute_result",
          "data": {
            "image/png": "[encoded data removed]",
            "text/latex": "$\\displaystyle 4.01606689611834$",
            "text/plain": [
              "4.016066896118339"
            ]
          },
          "metadata": {},
          "execution_count": 36
        }
      ]
    },
    {
      "cell_type": "markdown",
      "source": [
        "#LINEAR REGRESSION"
      ],
      "metadata": {
        "id": "4ZXEVriaqwys"
      }
    },
    {
      "cell_type": "markdown",
      "source": [
        "Description:"
      ],
      "metadata": {
        "id": "YKpY1p6upai7"
      }
    },
    {
      "cell_type": "markdown",
      "source": [
        "\n",
        "With Linear Regression model I will estimate P(Y|X,T) , that is, we regress Y on X and T. Once trained, the model predicts potential outcomes  y^(i)t . Thus, to obtain ITE predictions for each individual, we need to predict both  yf^  and  ycf^ , that is, predict the outcomes for both factual and counterfactual treatments for each individual.\n",
        "\n",
        "By calculating the difference between the factual and counterfactual outcome, we can obtain the effect per given individual. In other words:\n",
        "\n",
        "ITEˆ(i)=yf^−ycf^"
      ],
      "metadata": {
        "id": "0YvhHRfBpWpv"
      }
    },
    {
      "cell_type": "markdown",
      "source": [
        "We will merge both X columns and Treatment column and build a model to make predictions on outcome.then compute ATE^ by taking average of sum of ITE^ which is obtained by diffecences of yf^ and ycf^ from test data."
      ],
      "metadata": {
        "id": "b8tmJ2NGtBhX"
      }
    },
    {
      "cell_type": "markdown",
      "source": [
        "Applying Principal Component Analysis(PCA) for dimensionality reduction of X which has got 25 features as inputs\n",
        "\n"
      ],
      "metadata": {
        "id": "5s6Qyvp-zSRI"
      }
    },
    {
      "cell_type": "code",
      "source": [
        "pca = PCA()\n",
        "pca.fit(X)"
      ],
      "metadata": {
        "id": "sEWvMjDmzVUw",
        "outputId": "f0b564c2-4162-4e79-f2de-0a10e69264f3",
        "colab": {
          "base_uri": "https://localhost:8080/"
        }
      },
      "execution_count": 37,
      "outputs": [
        {
          "output_type": "execute_result",
          "data": {
            "text/plain": [
              "PCA()"
            ]
          },
          "metadata": {},
          "execution_count": 37
        }
      ]
    },
    {
      "cell_type": "code",
      "source": [
        "pca.explained_variance_ratio_"
      ],
      "metadata": {
        "id": "nUZQ8z5YzacQ",
        "outputId": "4f721cc5-7ffa-40d4-a2fc-d4f5b4864b55",
        "colab": {
          "base_uri": "https://localhost:8080/"
        }
      },
      "execution_count": 38,
      "outputs": [
        {
          "output_type": "execute_result",
          "data": {
            "text/plain": [
              "array([0.28846764, 0.16068443, 0.12091722, 0.10756642, 0.03655703,\n",
              "       0.03477248, 0.02955641, 0.02555713, 0.02419276, 0.0210092 ,\n",
              "       0.02045709, 0.01883792, 0.01512188, 0.01387969, 0.0134508 ,\n",
              "       0.01227229, 0.01169198, 0.00945866, 0.00875866, 0.0077226 ,\n",
              "       0.00696545, 0.00377168, 0.00359057, 0.00309412, 0.00164588])"
            ]
          },
          "metadata": {},
          "execution_count": 38
        }
      ]
    },
    {
      "cell_type": "code",
      "source": [
        "from matplotlib import markers\n",
        "plt.figure(figsize=(10,8))\n",
        "plt.plot(pca.explained_variance_ratio_.cumsum(),marker='o',linestyle='--')\n",
        "plt.xlabel('No. of components')\n",
        "plt.ylabel('Cumulative Explained variance')"
      ],
      "metadata": {
        "id": "XAsW6vbozafq",
        "outputId": "8f1bfed0-2eea-42c1-dc4e-47d5322c8c70",
        "colab": {
          "base_uri": "https://localhost:8080/",
          "height": 515
        }
      },
      "execution_count": 39,
      "outputs": [
        {
          "output_type": "execute_result",
          "data": {
            "text/plain": [
              "Text(0, 0.5, 'Cumulative Explained variance')"
            ]
          },
          "metadata": {},
          "execution_count": 39
        },
        {
          "output_type": "display_data",
          "data": {
            "image/png": "[encoded data removed]",
            "text/plain": [
              "<Figure size 720x576 with 1 Axes>"
            ]
          },
          "metadata": {
            "needs_background": "light"
          }
        }
      ]
    },
    {
      "cell_type": "code",
      "source": [
        "pca1 = PCA(n_components=7)\n",
        "X_pca=pca1.fit(X)\n"
      ],
      "metadata": {
        "id": "aXfKn8cAzh9z"
      },
      "execution_count": 50,
      "outputs": []
    },
    {
      "cell_type": "markdown",
      "source": [
        "#Evaluation"
      ],
      "metadata": {
        "id": "DyT7o4wbwBwE"
      }
    },
    {
      "cell_type": "markdown",
      "source": [
        "econml.dr.LinearDRLearner() is the CATE Estimator I am planning to use for double robustness and evaluate my predictions using metrics functions Abs_ate and pehe functions."
      ],
      "metadata": {
        "id": "VMEq00dJxS7Q"
      }
    },
    {
      "cell_type": "markdown",
      "source": [
        "To clean up residual covariate imbalance,regression adjustment like \"double robustness\" is used."
      ],
      "metadata": {
        "id": "xnHekUssvmmT"
      }
    },
    {
      "cell_type": "markdown",
      "source": [
        "Function to compute sample weights.\n",
        "\n"
      ],
      "metadata": {
        "id": "W27nHsEOtBuj"
      }
    },
    {
      "cell_type": "code",
      "source": [
        "def get_ps_weights(clf, x, t):\n",
        "  ti = np.squeeze(t)\n",
        "  clf.fit(x, ti)\n",
        "  ptx = clf.predict_proba(x).T[1].T + 0.0001\n",
        "  wi = ((ti/ptx)+((1-ti)/(1-ptx))) \n",
        "  return wi"
      ],
      "metadata": {
        "id": "pkyFzZsXtCQU"
      },
      "execution_count": 41,
      "outputs": []
    },
    {
      "cell_type": "markdown",
      "source": [
        "#PART-2"
      ],
      "metadata": {
        "id": "ZTWHNmDJE7Yf"
      }
    },
    {
      "cell_type": "markdown",
      "source": [
        "\n",
        "\n",
        "---------------------------------------------------------------------------------------------------------\n",
        "\n"
      ],
      "metadata": {
        "id": "5t0XwtNa3ZTF"
      }
    },
    {
      "cell_type": "markdown",
      "source": [
        "#1.Problem Setting\n"
      ],
      "metadata": {
        "id": "YxL33xShE5rh"
      }
    },
    {
      "cell_type": "markdown",
      "source": [
        "Loading Jobs Dataset:"
      ],
      "metadata": {
        "id": "V4uDfJhZFZTy"
      }
    },
    {
      "cell_type": "markdown",
      "source": [
        "The Jobs dataset is a combination of the experiment done by as part of the National\n",
        "Supported Work Program (NSWP) and observational data from the Panel Study of Income Dynamics (PSID)"
      ],
      "metadata": {
        "id": "IuHMGvGkFZXY"
      }
    },
    {
      "cell_type": "code",
      "source": [
        "Jobs_data=pd.read_csv('https://raw.githubusercontent.com/dmachlanski/CE888_2022/main/project/data/jobs.csv')\n",
        "Jobs_data.head()"
      ],
      "metadata": {
        "id": "hqBglz8A3jV6",
        "colab": {
          "base_uri": "https://localhost:8080/",
          "height": 206
        },
        "outputId": "453e924e-50e3-4e51-d809-ec468726d96c"
      },
      "execution_count": 42,
      "outputs": [
        {
          "output_type": "execute_result",
          "data": {
            "text/html": [
              "\n",
              "  <div id=\"df-a75964de-4b69-4640-94d2-2880c9aa100f\">\n",
              "    <div class=\"colab-df-container\">\n",
              "      <div>\n",
              "<style scoped>\n",
              "    .dataframe tbody tr th:only-of-type {\n",
              "        vertical-align: middle;\n",
              "    }\n",
              "\n",
              "    .dataframe tbody tr th {\n",
              "        vertical-align: top;\n",
              "    }\n",
              "\n",
              "    .dataframe thead th {\n",
              "        text-align: right;\n",
              "    }\n",
              "</style>\n",
              "<table border=\"1\" class=\"dataframe\">\n",
              "  <thead>\n",
              "    <tr style=\"text-align: right;\">\n",
              "      <th></th>\n",
              "      <th>x1</th>\n",
              "      <th>x2</th>\n",
              "      <th>x3</th>\n",
              "      <th>x4</th>\n",
              "      <th>x5</th>\n",
              "      <th>x6</th>\n",
              "      <th>x7</th>\n",
              "      <th>x8</th>\n",
              "      <th>x9</th>\n",
              "      <th>x10</th>\n",
              "      <th>x11</th>\n",
              "      <th>x12</th>\n",
              "      <th>x13</th>\n",
              "      <th>x14</th>\n",
              "      <th>x15</th>\n",
              "      <th>x16</th>\n",
              "      <th>x17</th>\n",
              "      <th>t</th>\n",
              "      <th>y</th>\n",
              "      <th>e</th>\n",
              "    </tr>\n",
              "  </thead>\n",
              "  <tbody>\n",
              "    <tr>\n",
              "      <th>0</th>\n",
              "      <td>-0.614282</td>\n",
              "      <td>1.464727</td>\n",
              "      <td>0.0</td>\n",
              "      <td>0.0</td>\n",
              "      <td>1.0</td>\n",
              "      <td>0.0</td>\n",
              "      <td>2.393250</td>\n",
              "      <td>2.746196</td>\n",
              "      <td>-0.653311</td>\n",
              "      <td>-0.656913</td>\n",
              "      <td>1.627531</td>\n",
              "      <td>2.462337</td>\n",
              "      <td>2.937244</td>\n",
              "      <td>0.0</td>\n",
              "      <td>0.0</td>\n",
              "      <td>2.843909</td>\n",
              "      <td>0.0</td>\n",
              "      <td>0.0</td>\n",
              "      <td>1.0</td>\n",
              "      <td>0.0</td>\n",
              "    </tr>\n",
              "    <tr>\n",
              "      <th>1</th>\n",
              "      <td>-0.802463</td>\n",
              "      <td>0.101835</td>\n",
              "      <td>0.0</td>\n",
              "      <td>0.0</td>\n",
              "      <td>1.0</td>\n",
              "      <td>0.0</td>\n",
              "      <td>0.109885</td>\n",
              "      <td>0.498271</td>\n",
              "      <td>-0.785284</td>\n",
              "      <td>-0.743407</td>\n",
              "      <td>-0.022502</td>\n",
              "      <td>-0.177193</td>\n",
              "      <td>0.082537</td>\n",
              "      <td>0.0</td>\n",
              "      <td>0.0</td>\n",
              "      <td>0.038422</td>\n",
              "      <td>0.0</td>\n",
              "      <td>0.0</td>\n",
              "      <td>1.0</td>\n",
              "      <td>0.0</td>\n",
              "    </tr>\n",
              "    <tr>\n",
              "      <th>2</th>\n",
              "      <td>-0.896553</td>\n",
              "      <td>-0.238888</td>\n",
              "      <td>1.0</td>\n",
              "      <td>0.0</td>\n",
              "      <td>1.0</td>\n",
              "      <td>1.0</td>\n",
              "      <td>-0.085212</td>\n",
              "      <td>-0.148097</td>\n",
              "      <td>-0.847312</td>\n",
              "      <td>-0.781606</td>\n",
              "      <td>-0.361348</td>\n",
              "      <td>-0.286221</td>\n",
              "      <td>-0.303615</td>\n",
              "      <td>0.0</td>\n",
              "      <td>0.0</td>\n",
              "      <td>-0.191304</td>\n",
              "      <td>0.0</td>\n",
              "      <td>0.0</td>\n",
              "      <td>1.0</td>\n",
              "      <td>0.0</td>\n",
              "    </tr>\n",
              "    <tr>\n",
              "      <th>3</th>\n",
              "      <td>-0.896553</td>\n",
              "      <td>-0.238888</td>\n",
              "      <td>0.0</td>\n",
              "      <td>0.0</td>\n",
              "      <td>0.0</td>\n",
              "      <td>1.0</td>\n",
              "      <td>0.405581</td>\n",
              "      <td>0.325594</td>\n",
              "      <td>-0.847312</td>\n",
              "      <td>-0.781606</td>\n",
              "      <td>-0.361348</td>\n",
              "      <td>0.023020</td>\n",
              "      <td>-0.039630</td>\n",
              "      <td>0.0</td>\n",
              "      <td>0.0</td>\n",
              "      <td>0.173108</td>\n",
              "      <td>0.0</td>\n",
              "      <td>0.0</td>\n",
              "      <td>1.0</td>\n",
              "      <td>1.0</td>\n",
              "    </tr>\n",
              "    <tr>\n",
              "      <th>4</th>\n",
              "      <td>0.138440</td>\n",
              "      <td>-1.601779</td>\n",
              "      <td>1.0</td>\n",
              "      <td>0.0</td>\n",
              "      <td>1.0</td>\n",
              "      <td>1.0</td>\n",
              "      <td>-0.722531</td>\n",
              "      <td>-0.212734</td>\n",
              "      <td>-0.019840</td>\n",
              "      <td>-0.156019</td>\n",
              "      <td>-1.422084</td>\n",
              "      <td>-0.514563</td>\n",
              "      <td>-0.331552</td>\n",
              "      <td>0.0</td>\n",
              "      <td>0.0</td>\n",
              "      <td>-0.779227</td>\n",
              "      <td>0.0</td>\n",
              "      <td>0.0</td>\n",
              "      <td>1.0</td>\n",
              "      <td>0.0</td>\n",
              "    </tr>\n",
              "  </tbody>\n",
              "</table>\n",
              "</div>\n",
              "      <button class=\"colab-df-convert\" onclick=\"convertToInteractive('df-a75964de-4b69-4640-94d2-2880c9aa100f')\"\n",
              "              title=\"Convert this dataframe to an interactive table.\"\n",
              "              style=\"display:none;\">\n",
              "        \n",
              "  <svg xmlns=\"http://www.w3.org/2000/svg\" height=\"24px\"viewBox=\"0 0 24 24\"\n",
              "       width=\"24px\">\n",
              "    <path d=\"M0 0h24v24H0V0z\" fill=\"none\"/>\n",
              "    <path d=\"M18.56 5.44l.94 2.06.94-2.06 2.06-.94-2.06-.94-.94-2.06-.94 2.06-2.06.94zm-11 1L8.5 8.5l.94-2.06 2.06-.94-2.06-.94L8.5 2.5l-.94 2.06-2.06.94zm10 10l.94 2.06.94-2.06 2.06-.94-2.06-.94-.94-2.06-.94 2.06-2.06.94z\"/><path d=\"M17.41 7.96l-1.37-1.37c-.4-.4-.92-.59-1.43-.59-.52 0-1.04.2-1.43.59L10.3 9.45l-7.72 7.72c-.78.78-.78 2.05 0 2.83L4 21.41c.39.39.9.59 1.41.59.51 0 1.02-.2 1.41-.59l7.78-7.78 2.81-2.81c.8-.78.8-2.07 0-2.86zM5.41 20L4 18.59l7.72-7.72 1.47 1.35L5.41 20z\"/>\n",
              "  </svg>\n",
              "      </button>\n",
              "      \n",
              "  <style>\n",
              "    .colab-df-container {\n",
              "      display:flex;\n",
              "      flex-wrap:wrap;\n",
              "      gap: 12px;\n",
              "    }\n",
              "\n",
              "    .colab-df-convert {\n",
              "      background-color: #E8F0FE;\n",
              "      border: none;\n",
              "      border-radius: 50%;\n",
              "      cursor: pointer;\n",
              "      display: none;\n",
              "      fill: #1967D2;\n",
              "      height: 32px;\n",
              "      padding: 0 0 0 0;\n",
              "      width: 32px;\n",
              "    }\n",
              "\n",
              "    .colab-df-convert:hover {\n",
              "      background-color: #E2EBFA;\n",
              "      box-shadow: 0px 1px 2px rgba(60, 64, 67, 0.3), 0px 1px 3px 1px rgba(60, 64, 67, 0.15);\n",
              "      fill: #174EA6;\n",
              "    }\n",
              "\n",
              "    [theme=dark] .colab-df-convert {\n",
              "      background-color: #3B4455;\n",
              "      fill: #D2E3FC;\n",
              "    }\n",
              "\n",
              "    [theme=dark] .colab-df-convert:hover {\n",
              "      background-color: #434B5C;\n",
              "      box-shadow: 0px 1px 3px 1px rgba(0, 0, 0, 0.15);\n",
              "      filter: drop-shadow(0px 1px 2px rgba(0, 0, 0, 0.3));\n",
              "      fill: #FFFFFF;\n",
              "    }\n",
              "  </style>\n",
              "\n",
              "      <script>\n",
              "        const buttonEl =\n",
              "          document.querySelector('#df-a75964de-4b69-4640-94d2-2880c9aa100f button.colab-df-convert');\n",
              "        buttonEl.style.display =\n",
              "          google.colab.kernel.accessAllowed ? 'block' : 'none';\n",
              "\n",
              "        async function convertToInteractive(key) {\n",
              "          const element = document.querySelector('#df-a75964de-4b69-4640-94d2-2880c9aa100f');\n",
              "          const dataTable =\n",
              "            await google.colab.kernel.invokeFunction('convertToInteractive',\n",
              "                                                     [key], {});\n",
              "          if (!dataTable) return;\n",
              "\n",
              "          const docLinkHtml = 'Like what you see? Visit the ' +\n",
              "            '<a target=\"_blank\" href=https://colab.research.google.com/notebooks/data_table.ipynb>data table notebook</a>'\n",
              "            + ' to learn more about interactive tables.';\n",
              "          element.innerHTML = '';\n",
              "          dataTable['output_type'] = 'display_data';\n",
              "          await google.colab.output.renderOutput(dataTable, element);\n",
              "          const docLink = document.createElement('div');\n",
              "          docLink.innerHTML = docLinkHtml;\n",
              "          element.appendChild(docLink);\n",
              "        }\n",
              "      </script>\n",
              "    </div>\n",
              "  </div>\n",
              "  "
            ],
            "text/plain": [
              "         x1        x2   x3   x4   x5   x6  ...  x15       x16  x17    t    y    e\n",
              "0 -0.614282  1.464727  0.0  0.0  1.0  0.0  ...  0.0  2.843909  0.0  0.0  1.0  0.0\n",
              "1 -0.802463  0.101835  0.0  0.0  1.0  0.0  ...  0.0  0.038422  0.0  0.0  1.0  0.0\n",
              "2 -0.896553 -0.238888  1.0  0.0  1.0  1.0  ...  0.0 -0.191304  0.0  0.0  1.0  0.0\n",
              "3 -0.896553 -0.238888  0.0  0.0  0.0  1.0  ...  0.0  0.173108  0.0  0.0  1.0  1.0\n",
              "4  0.138440 -1.601779  1.0  0.0  1.0  1.0  ...  0.0 -0.779227  0.0  0.0  1.0  0.0\n",
              "\n",
              "[5 rows x 20 columns]"
            ]
          },
          "metadata": {},
          "execution_count": 42
        }
      ]
    },
    {
      "cell_type": "code",
      "source": [
        "Jobs_data.describe()"
      ],
      "metadata": {
        "colab": {
          "base_uri": "https://localhost:8080/",
          "height": 364
        },
        "id": "0Nl0ae7dqYi2",
        "outputId": "99742123-db32-4f4e-d40e-21ad13fc5cab"
      },
      "execution_count": 43,
      "outputs": [
        {
          "output_type": "execute_result",
          "data": {
            "text/html": [
              "\n",
              "  <div id=\"df-6a0c9653-a761-473a-a6fe-60e029e392f3\">\n",
              "    <div class=\"colab-df-container\">\n",
              "      <div>\n",
              "<style scoped>\n",
              "    .dataframe tbody tr th:only-of-type {\n",
              "        vertical-align: middle;\n",
              "    }\n",
              "\n",
              "    .dataframe tbody tr th {\n",
              "        vertical-align: top;\n",
              "    }\n",
              "\n",
              "    .dataframe thead th {\n",
              "        text-align: right;\n",
              "    }\n",
              "</style>\n",
              "<table border=\"1\" class=\"dataframe\">\n",
              "  <thead>\n",
              "    <tr style=\"text-align: right;\">\n",
              "      <th></th>\n",
              "      <th>x1</th>\n",
              "      <th>x2</th>\n",
              "      <th>x3</th>\n",
              "      <th>x4</th>\n",
              "      <th>x5</th>\n",
              "      <th>x6</th>\n",
              "      <th>x7</th>\n",
              "      <th>x8</th>\n",
              "      <th>x9</th>\n",
              "      <th>x10</th>\n",
              "      <th>x11</th>\n",
              "      <th>x12</th>\n",
              "      <th>x13</th>\n",
              "      <th>x14</th>\n",
              "      <th>x15</th>\n",
              "      <th>x16</th>\n",
              "      <th>x17</th>\n",
              "      <th>t</th>\n",
              "      <th>y</th>\n",
              "      <th>e</th>\n",
              "    </tr>\n",
              "  </thead>\n",
              "  <tbody>\n",
              "    <tr>\n",
              "      <th>count</th>\n",
              "      <td>3.212000e+03</td>\n",
              "      <td>3.212000e+03</td>\n",
              "      <td>3212.000000</td>\n",
              "      <td>3212.000000</td>\n",
              "      <td>3212.000000</td>\n",
              "      <td>3212.000000</td>\n",
              "      <td>3.212000e+03</td>\n",
              "      <td>3.212000e+03</td>\n",
              "      <td>3.212000e+03</td>\n",
              "      <td>3.212000e+03</td>\n",
              "      <td>3.212000e+03</td>\n",
              "      <td>3.212000e+03</td>\n",
              "      <td>3.212000e+03</td>\n",
              "      <td>3212.000000</td>\n",
              "      <td>3212.000000</td>\n",
              "      <td>3.212000e+03</td>\n",
              "      <td>3212.000000</td>\n",
              "      <td>3212.000000</td>\n",
              "      <td>3212.000000</td>\n",
              "      <td>3212.000000</td>\n",
              "    </tr>\n",
              "    <tr>\n",
              "      <th>mean</th>\n",
              "      <td>2.382901e-16</td>\n",
              "      <td>-3.820971e-16</td>\n",
              "      <td>0.374222</td>\n",
              "      <td>0.048879</td>\n",
              "      <td>0.707970</td>\n",
              "      <td>0.411893</td>\n",
              "      <td>-1.200783e-16</td>\n",
              "      <td>4.956600e-17</td>\n",
              "      <td>-6.083414e-18</td>\n",
              "      <td>1.757408e-14</td>\n",
              "      <td>-2.638422e-16</td>\n",
              "      <td>-1.168292e-17</td>\n",
              "      <td>9.429291e-17</td>\n",
              "      <td>0.168742</td>\n",
              "      <td>0.167497</td>\n",
              "      <td>1.901758e-16</td>\n",
              "      <td>0.010897</td>\n",
              "      <td>0.092466</td>\n",
              "      <td>0.849938</td>\n",
              "      <td>0.224782</td>\n",
              "    </tr>\n",
              "    <tr>\n",
              "      <th>std</th>\n",
              "      <td>1.000000e+00</td>\n",
              "      <td>1.000000e+00</td>\n",
              "      <td>0.483997</td>\n",
              "      <td>0.215649</td>\n",
              "      <td>0.454767</td>\n",
              "      <td>0.492253</td>\n",
              "      <td>1.000000e+00</td>\n",
              "      <td>1.000000e+00</td>\n",
              "      <td>1.000000e+00</td>\n",
              "      <td>1.000000e+00</td>\n",
              "      <td>1.000000e+00</td>\n",
              "      <td>1.000000e+00</td>\n",
              "      <td>1.000000e+00</td>\n",
              "      <td>0.374582</td>\n",
              "      <td>0.373477</td>\n",
              "      <td>1.000000e+00</td>\n",
              "      <td>0.103833</td>\n",
              "      <td>0.289727</td>\n",
              "      <td>0.357188</td>\n",
              "      <td>0.417504</td>\n",
              "    </tr>\n",
              "    <tr>\n",
              "      <th>min</th>\n",
              "      <td>-1.461095e+00</td>\n",
              "      <td>-3.986840e+00</td>\n",
              "      <td>0.000000</td>\n",
              "      <td>0.000000</td>\n",
              "      <td>0.000000</td>\n",
              "      <td>0.000000</td>\n",
              "      <td>-1.147411e+00</td>\n",
              "      <td>-1.110467e+00</td>\n",
              "      <td>-1.164047e+00</td>\n",
              "      <td>-9.488316e-01</td>\n",
              "      <td>-2.143974e+00</td>\n",
              "      <td>-5.580568e-01</td>\n",
              "      <td>-5.188151e-01</td>\n",
              "      <td>0.000000</td>\n",
              "      <td>0.000000</td>\n",
              "      <td>-9.799811e-01</td>\n",
              "      <td>0.000000</td>\n",
              "      <td>0.000000</td>\n",
              "      <td>0.000000</td>\n",
              "      <td>0.000000</td>\n",
              "    </tr>\n",
              "    <tr>\n",
              "      <th>25%</th>\n",
              "      <td>-8.024627e-01</td>\n",
              "      <td>-5.796108e-01</td>\n",
              "      <td>0.000000</td>\n",
              "      <td>0.000000</td>\n",
              "      <td>0.000000</td>\n",
              "      <td>0.000000</td>\n",
              "      <td>-8.923385e-01</td>\n",
              "      <td>-9.139141e-01</td>\n",
              "      <td>-7.852843e-01</td>\n",
              "      <td>-7.434072e-01</td>\n",
              "      <td>-6.707297e-01</td>\n",
              "      <td>-5.423814e-01</td>\n",
              "      <td>-5.098380e-01</td>\n",
              "      <td>0.000000</td>\n",
              "      <td>0.000000</td>\n",
              "      <td>-8.142367e-01</td>\n",
              "      <td>0.000000</td>\n",
              "      <td>0.000000</td>\n",
              "      <td>1.000000</td>\n",
              "      <td>0.000000</td>\n",
              "    </tr>\n",
              "    <tr>\n",
              "      <th>50%</th>\n",
              "      <td>-3.320111e-01</td>\n",
              "      <td>1.018350e-01</td>\n",
              "      <td>0.000000</td>\n",
              "      <td>0.000000</td>\n",
              "      <td>1.000000</td>\n",
              "      <td>0.000000</td>\n",
              "      <td>-8.521244e-02</td>\n",
              "      <td>-8.346011e-02</td>\n",
              "      <td>-4.355556e-01</td>\n",
              "      <td>-4.998533e-01</td>\n",
              "      <td>-2.250229e-02</td>\n",
              "      <td>-2.862214e-01</td>\n",
              "      <td>-2.737369e-01</td>\n",
              "      <td>0.000000</td>\n",
              "      <td>0.000000</td>\n",
              "      <td>-2.035020e-01</td>\n",
              "      <td>0.000000</td>\n",
              "      <td>0.000000</td>\n",
              "      <td>1.000000</td>\n",
              "      <td>0.000000</td>\n",
              "    </tr>\n",
              "    <tr>\n",
              "      <th>75%</th>\n",
              "      <td>7.970728e-01</td>\n",
              "      <td>4.425579e-01</td>\n",
              "      <td>1.000000</td>\n",
              "      <td>0.000000</td>\n",
              "      <td>1.000000</td>\n",
              "      <td>1.000000</td>\n",
              "      <td>5.506613e-01</td>\n",
              "      <td>5.629081e-01</td>\n",
              "      <td>6.730184e-01</td>\n",
              "      <td>5.267384e-01</td>\n",
              "      <td>3.458087e-01</td>\n",
              "      <td>1.366588e-01</td>\n",
              "      <td>1.318304e-01</td>\n",
              "      <td>0.000000</td>\n",
              "      <td>0.000000</td>\n",
              "      <td>4.539777e-01</td>\n",
              "      <td>0.000000</td>\n",
              "      <td>0.000000</td>\n",
              "      <td>1.000000</td>\n",
              "      <td>0.000000</td>\n",
              "    </tr>\n",
              "    <tr>\n",
              "      <th>max</th>\n",
              "      <td>2.114337e+00</td>\n",
              "      <td>1.805449e+00</td>\n",
              "      <td>1.000000</td>\n",
              "      <td>1.000000</td>\n",
              "      <td>1.000000</td>\n",
              "      <td>1.000000</td>\n",
              "      <td>8.751987e+00</td>\n",
              "      <td>1.016507e+01</td>\n",
              "      <td>2.446737e+00</td>\n",
              "      <td>2.773336e+00</td>\n",
              "      <td>2.113702e+00</td>\n",
              "      <td>2.305284e+01</td>\n",
              "      <td>2.902264e+01</td>\n",
              "      <td>1.000000</td>\n",
              "      <td>1.000000</td>\n",
              "      <td>7.136030e+00</td>\n",
              "      <td>1.000000</td>\n",
              "      <td>1.000000</td>\n",
              "      <td>1.000000</td>\n",
              "      <td>1.000000</td>\n",
              "    </tr>\n",
              "  </tbody>\n",
              "</table>\n",
              "</div>\n",
              "      <button class=\"colab-df-convert\" onclick=\"convertToInteractive('df-6a0c9653-a761-473a-a6fe-60e029e392f3')\"\n",
              "              title=\"Convert this dataframe to an interactive table.\"\n",
              "              style=\"display:none;\">\n",
              "        \n",
              "  <svg xmlns=\"http://www.w3.org/2000/svg\" height=\"24px\"viewBox=\"0 0 24 24\"\n",
              "       width=\"24px\">\n",
              "    <path d=\"M0 0h24v24H0V0z\" fill=\"none\"/>\n",
              "    <path d=\"M18.56 5.44l.94 2.06.94-2.06 2.06-.94-2.06-.94-.94-2.06-.94 2.06-2.06.94zm-11 1L8.5 8.5l.94-2.06 2.06-.94-2.06-.94L8.5 2.5l-.94 2.06-2.06.94zm10 10l.94 2.06.94-2.06 2.06-.94-2.06-.94-.94-2.06-.94 2.06-2.06.94z\"/><path d=\"M17.41 7.96l-1.37-1.37c-.4-.4-.92-.59-1.43-.59-.52 0-1.04.2-1.43.59L10.3 9.45l-7.72 7.72c-.78.78-.78 2.05 0 2.83L4 21.41c.39.39.9.59 1.41.59.51 0 1.02-.2 1.41-.59l7.78-7.78 2.81-2.81c.8-.78.8-2.07 0-2.86zM5.41 20L4 18.59l7.72-7.72 1.47 1.35L5.41 20z\"/>\n",
              "  </svg>\n",
              "      </button>\n",
              "      \n",
              "  <style>\n",
              "    .colab-df-container {\n",
              "      display:flex;\n",
              "      flex-wrap:wrap;\n",
              "      gap: 12px;\n",
              "    }\n",
              "\n",
              "    .colab-df-convert {\n",
              "      background-color: #E8F0FE;\n",
              "      border: none;\n",
              "      border-radius: 50%;\n",
              "      cursor: pointer;\n",
              "      display: none;\n",
              "      fill: #1967D2;\n",
              "      height: 32px;\n",
              "      padding: 0 0 0 0;\n",
              "      width: 32px;\n",
              "    }\n",
              "\n",
              "    .colab-df-convert:hover {\n",
              "      background-color: #E2EBFA;\n",
              "      box-shadow: 0px 1px 2px rgba(60, 64, 67, 0.3), 0px 1px 3px 1px rgba(60, 64, 67, 0.15);\n",
              "      fill: #174EA6;\n",
              "    }\n",
              "\n",
              "    [theme=dark] .colab-df-convert {\n",
              "      background-color: #3B4455;\n",
              "      fill: #D2E3FC;\n",
              "    }\n",
              "\n",
              "    [theme=dark] .colab-df-convert:hover {\n",
              "      background-color: #434B5C;\n",
              "      box-shadow: 0px 1px 3px 1px rgba(0, 0, 0, 0.15);\n",
              "      filter: drop-shadow(0px 1px 2px rgba(0, 0, 0, 0.3));\n",
              "      fill: #FFFFFF;\n",
              "    }\n",
              "  </style>\n",
              "\n",
              "      <script>\n",
              "        const buttonEl =\n",
              "          document.querySelector('#df-6a0c9653-a761-473a-a6fe-60e029e392f3 button.colab-df-convert');\n",
              "        buttonEl.style.display =\n",
              "          google.colab.kernel.accessAllowed ? 'block' : 'none';\n",
              "\n",
              "        async function convertToInteractive(key) {\n",
              "          const element = document.querySelector('#df-6a0c9653-a761-473a-a6fe-60e029e392f3');\n",
              "          const dataTable =\n",
              "            await google.colab.kernel.invokeFunction('convertToInteractive',\n",
              "                                                     [key], {});\n",
              "          if (!dataTable) return;\n",
              "\n",
              "          const docLinkHtml = 'Like what you see? Visit the ' +\n",
              "            '<a target=\"_blank\" href=https://colab.research.google.com/notebooks/data_table.ipynb>data table notebook</a>'\n",
              "            + ' to learn more about interactive tables.';\n",
              "          element.innerHTML = '';\n",
              "          dataTable['output_type'] = 'display_data';\n",
              "          await google.colab.output.renderOutput(dataTable, element);\n",
              "          const docLink = document.createElement('div');\n",
              "          docLink.innerHTML = docLinkHtml;\n",
              "          element.appendChild(docLink);\n",
              "        }\n",
              "      </script>\n",
              "    </div>\n",
              "  </div>\n",
              "  "
            ],
            "text/plain": [
              "                 x1            x2  ...            y            e\n",
              "count  3.212000e+03  3.212000e+03  ...  3212.000000  3212.000000\n",
              "mean   2.382901e-16 -3.820971e-16  ...     0.849938     0.224782\n",
              "std    1.000000e+00  1.000000e+00  ...     0.357188     0.417504\n",
              "min   -1.461095e+00 -3.986840e+00  ...     0.000000     0.000000\n",
              "25%   -8.024627e-01 -5.796108e-01  ...     1.000000     0.000000\n",
              "50%   -3.320111e-01  1.018350e-01  ...     1.000000     0.000000\n",
              "75%    7.970728e-01  4.425579e-01  ...     1.000000     0.000000\n",
              "max    2.114337e+00  1.805449e+00  ...     1.000000     1.000000\n",
              "\n",
              "[8 rows x 20 columns]"
            ]
          },
          "metadata": {},
          "execution_count": 43
        }
      ]
    },
    {
      "cell_type": "markdown",
      "source": [
        "Checking the outcomes for how many had undergone NSWP training and has got job placement.\n"
      ],
      "metadata": {
        "id": "38_xNK7nzd56"
      }
    },
    {
      "cell_type": "code",
      "source": [
        "Jobs_data['y'].value_counts()"
      ],
      "metadata": {
        "colab": {
          "base_uri": "https://localhost:8080/"
        },
        "id": "yrfY95TEUru7",
        "outputId": "eae39e35-02d9-491b-8a88-09a6d3bc002e"
      },
      "execution_count": 44,
      "outputs": [
        {
          "output_type": "execute_result",
          "data": {
            "text/plain": [
              "1.0    2730\n",
              "0.0     482\n",
              "Name: y, dtype: int64"
            ]
          },
          "metadata": {},
          "execution_count": 44
        }
      ]
    },
    {
      "cell_type": "markdown",
      "source": [
        "Checking for any null values in data."
      ],
      "metadata": {
        "id": "zaUBrawHzu5x"
      }
    },
    {
      "cell_type": "code",
      "source": [
        "Jobs_data.isnull().sum()"
      ],
      "metadata": {
        "colab": {
          "base_uri": "https://localhost:8080/"
        },
        "id": "fll3xfMuqjnC",
        "outputId": "4efda2d1-a4b9-4db5-ae4d-9029fb5116b2"
      },
      "execution_count": 45,
      "outputs": [
        {
          "output_type": "execute_result",
          "data": {
            "text/plain": [
              "x1     0\n",
              "x2     0\n",
              "x3     0\n",
              "x4     0\n",
              "x5     0\n",
              "x6     0\n",
              "x7     0\n",
              "x8     0\n",
              "x9     0\n",
              "x10    0\n",
              "x11    0\n",
              "x12    0\n",
              "x13    0\n",
              "x14    0\n",
              "x15    0\n",
              "x16    0\n",
              "x17    0\n",
              "t      0\n",
              "y      0\n",
              "e      0\n",
              "dtype: int64"
            ]
          },
          "metadata": {},
          "execution_count": 45
        }
      ]
    },
    {
      "cell_type": "code",
      "source": [
        "X_jobs=Jobs_data[['x1','x2','x3','x4','x5','x6','x7','x8','x9','x10','x11','x12','x13','x14','x15','x16','x17']]\n",
        "T_jobs=Jobs_data['t']\n",
        "Y_jobs=Jobs_data['y']\n",
        "e_jobs=Jobs_data['e']"
      ],
      "metadata": {
        "id": "ulIbRGc9Q75o"
      },
      "execution_count": 46,
      "outputs": []
    },
    {
      "cell_type": "code",
      "source": [
        "e_jobs.value_counts()"
      ],
      "metadata": {
        "colab": {
          "base_uri": "https://localhost:8080/"
        },
        "id": "2TBHp4JQ8Qib",
        "outputId": "238aca1a-5d2d-4e9e-df7c-b7d4be42a7b0"
      },
      "execution_count": 47,
      "outputs": [
        {
          "output_type": "execute_result",
          "data": {
            "text/plain": [
              "0.0    2490\n",
              "1.0     722\n",
              "Name: e, dtype: int64"
            ]
          },
          "metadata": {},
          "execution_count": 47
        }
      ]
    },
    {
      "cell_type": "code",
      "source": [
        "limit = 100\n",
        "plt.scatter(X_jobs[T == 1][:limit], Y_jobs[T == 1][:limit], c = \"r\", label = \"with Family support\")\n",
        "plt.scatter(X_jobs[T == 0][:limit], Y_jobs[T == 0][:limit], c = \"g\", label = \"No family support\")\n",
        "plt.legend(ncol=1)\n",
        "plt.savefig('ihdp_scatter.png',dpi=1200)"
      ],
      "metadata": {
        "colab": {
          "base_uri": "https://localhost:8080/",
          "height": 413
        },
        "id": "lkoNuEbv_peS",
        "outputId": "3c9c3f55-3eed-4dcb-a3ab-4827ce9db7fc"
      },
      "execution_count": 48,
      "outputs": [
        {
          "output_type": "stream",
          "name": "stderr",
          "text": [
            "Boolean Series key will be reindexed to match DataFrame index.\n"
          ]
        },
        {
          "output_type": "error",
          "ename": "IndexingError",
          "evalue": "ignored",
          "traceback": [
            "\u001b[0;31m---------------------------------------------------------------------------\u001b[0m",
            "\u001b[0;31mIndexingError\u001b[0m                             Traceback (most recent call last)",
            "\u001b[0;32m<ipython-input-48-3a6634e45e41>\u001b[0m in \u001b[0;36m<module>\u001b[0;34m()\u001b[0m\n\u001b[1;32m      1\u001b[0m \u001b[0mlimit\u001b[0m \u001b[0;34m=\u001b[0m \u001b[0;36m100\u001b[0m\u001b[0;34m\u001b[0m\u001b[0;34m\u001b[0m\u001b[0m\n\u001b[0;32m----> 2\u001b[0;31m \u001b[0mplt\u001b[0m\u001b[0;34m.\u001b[0m\u001b[0mscatter\u001b[0m\u001b[0;34m(\u001b[0m\u001b[0mX_jobs\u001b[0m\u001b[0;34m[\u001b[0m\u001b[0mT\u001b[0m \u001b[0;34m==\u001b[0m \u001b[0;36m1\u001b[0m\u001b[0;34m]\u001b[0m\u001b[0;34m[\u001b[0m\u001b[0;34m:\u001b[0m\u001b[0mlimit\u001b[0m\u001b[0;34m]\u001b[0m\u001b[0;34m,\u001b[0m \u001b[0mY_jobs\u001b[0m\u001b[0;34m[\u001b[0m\u001b[0mT\u001b[0m \u001b[0;34m==\u001b[0m \u001b[0;36m1\u001b[0m\u001b[0;34m]\u001b[0m\u001b[0;34m[\u001b[0m\u001b[0;34m:\u001b[0m\u001b[0mlimit\u001b[0m\u001b[0;34m]\u001b[0m\u001b[0;34m,\u001b[0m \u001b[0mc\u001b[0m \u001b[0;34m=\u001b[0m \u001b[0;34m\"r\"\u001b[0m\u001b[0;34m,\u001b[0m \u001b[0mlabel\u001b[0m \u001b[0;34m=\u001b[0m \u001b[0;34m\"with Family support\"\u001b[0m\u001b[0;34m)\u001b[0m\u001b[0;34m\u001b[0m\u001b[0;34m\u001b[0m\u001b[0m\n\u001b[0m\u001b[1;32m      3\u001b[0m \u001b[0mplt\u001b[0m\u001b[0;34m.\u001b[0m\u001b[0mscatter\u001b[0m\u001b[0;34m(\u001b[0m\u001b[0mX_jobs\u001b[0m\u001b[0;34m[\u001b[0m\u001b[0mT\u001b[0m \u001b[0;34m==\u001b[0m \u001b[0;36m0\u001b[0m\u001b[0;34m]\u001b[0m\u001b[0;34m[\u001b[0m\u001b[0;34m:\u001b[0m\u001b[0mlimit\u001b[0m\u001b[0;34m]\u001b[0m\u001b[0;34m,\u001b[0m \u001b[0mY_jobs\u001b[0m\u001b[0;34m[\u001b[0m\u001b[0mT\u001b[0m \u001b[0;34m==\u001b[0m \u001b[0;36m0\u001b[0m\u001b[0;34m]\u001b[0m\u001b[0;34m[\u001b[0m\u001b[0;34m:\u001b[0m\u001b[0mlimit\u001b[0m\u001b[0;34m]\u001b[0m\u001b[0;34m,\u001b[0m \u001b[0mc\u001b[0m \u001b[0;34m=\u001b[0m \u001b[0;34m\"g\"\u001b[0m\u001b[0;34m,\u001b[0m \u001b[0mlabel\u001b[0m \u001b[0;34m=\u001b[0m \u001b[0;34m\"No family support\"\u001b[0m\u001b[0;34m)\u001b[0m\u001b[0;34m\u001b[0m\u001b[0;34m\u001b[0m\u001b[0m\n\u001b[1;32m      4\u001b[0m \u001b[0mplt\u001b[0m\u001b[0;34m.\u001b[0m\u001b[0mlegend\u001b[0m\u001b[0;34m(\u001b[0m\u001b[0mncol\u001b[0m\u001b[0;34m=\u001b[0m\u001b[0;36m1\u001b[0m\u001b[0;34m)\u001b[0m\u001b[0;34m\u001b[0m\u001b[0;34m\u001b[0m\u001b[0m\n\u001b[1;32m      5\u001b[0m \u001b[0mplt\u001b[0m\u001b[0;34m.\u001b[0m\u001b[0msavefig\u001b[0m\u001b[0;34m(\u001b[0m\u001b[0;34m'ihdp_scatter.png'\u001b[0m\u001b[0;34m,\u001b[0m\u001b[0mdpi\u001b[0m\u001b[0;34m=\u001b[0m\u001b[0;36m1200\u001b[0m\u001b[0;34m)\u001b[0m\u001b[0;34m\u001b[0m\u001b[0;34m\u001b[0m\u001b[0m\n",
            "\u001b[0;32m/usr/local/lib/python3.7/dist-packages/pandas/core/frame.py\u001b[0m in \u001b[0;36m__getitem__\u001b[0;34m(self, key)\u001b[0m\n\u001b[1;32m   3447\u001b[0m         \u001b[0;31m# Do we have a (boolean) 1d indexer?\u001b[0m\u001b[0;34m\u001b[0m\u001b[0;34m\u001b[0m\u001b[0;34m\u001b[0m\u001b[0m\n\u001b[1;32m   3448\u001b[0m         \u001b[0;32mif\u001b[0m \u001b[0mcom\u001b[0m\u001b[0;34m.\u001b[0m\u001b[0mis_bool_indexer\u001b[0m\u001b[0;34m(\u001b[0m\u001b[0mkey\u001b[0m\u001b[0;34m)\u001b[0m\u001b[0;34m:\u001b[0m\u001b[0;34m\u001b[0m\u001b[0;34m\u001b[0m\u001b[0m\n\u001b[0;32m-> 3449\u001b[0;31m             \u001b[0;32mreturn\u001b[0m \u001b[0mself\u001b[0m\u001b[0;34m.\u001b[0m\u001b[0m_getitem_bool_array\u001b[0m\u001b[0;34m(\u001b[0m\u001b[0mkey\u001b[0m\u001b[0;34m)\u001b[0m\u001b[0;34m\u001b[0m\u001b[0;34m\u001b[0m\u001b[0m\n\u001b[0m\u001b[1;32m   3450\u001b[0m \u001b[0;34m\u001b[0m\u001b[0m\n\u001b[1;32m   3451\u001b[0m         \u001b[0;31m# We are left with two options: a single key, and a collection of keys,\u001b[0m\u001b[0;34m\u001b[0m\u001b[0;34m\u001b[0m\u001b[0;34m\u001b[0m\u001b[0m\n",
            "\u001b[0;32m/usr/local/lib/python3.7/dist-packages/pandas/core/frame.py\u001b[0m in \u001b[0;36m_getitem_bool_array\u001b[0;34m(self, key)\u001b[0m\n\u001b[1;32m   3500\u001b[0m         \u001b[0;31m# check_bool_indexer will throw exception if Series key cannot\u001b[0m\u001b[0;34m\u001b[0m\u001b[0;34m\u001b[0m\u001b[0;34m\u001b[0m\u001b[0m\n\u001b[1;32m   3501\u001b[0m         \u001b[0;31m# be reindexed to match DataFrame rows\u001b[0m\u001b[0;34m\u001b[0m\u001b[0;34m\u001b[0m\u001b[0;34m\u001b[0m\u001b[0m\n\u001b[0;32m-> 3502\u001b[0;31m         \u001b[0mkey\u001b[0m \u001b[0;34m=\u001b[0m \u001b[0mcheck_bool_indexer\u001b[0m\u001b[0;34m(\u001b[0m\u001b[0mself\u001b[0m\u001b[0;34m.\u001b[0m\u001b[0mindex\u001b[0m\u001b[0;34m,\u001b[0m \u001b[0mkey\u001b[0m\u001b[0;34m)\u001b[0m\u001b[0;34m\u001b[0m\u001b[0;34m\u001b[0m\u001b[0m\n\u001b[0m\u001b[1;32m   3503\u001b[0m         \u001b[0mindexer\u001b[0m \u001b[0;34m=\u001b[0m \u001b[0mkey\u001b[0m\u001b[0;34m.\u001b[0m\u001b[0mnonzero\u001b[0m\u001b[0;34m(\u001b[0m\u001b[0;34m)\u001b[0m\u001b[0;34m[\u001b[0m\u001b[0;36m0\u001b[0m\u001b[0;34m]\u001b[0m\u001b[0;34m\u001b[0m\u001b[0;34m\u001b[0m\u001b[0m\n\u001b[1;32m   3504\u001b[0m         \u001b[0;32mreturn\u001b[0m \u001b[0mself\u001b[0m\u001b[0;34m.\u001b[0m\u001b[0m_take_with_is_copy\u001b[0m\u001b[0;34m(\u001b[0m\u001b[0mindexer\u001b[0m\u001b[0;34m,\u001b[0m \u001b[0maxis\u001b[0m\u001b[0;34m=\u001b[0m\u001b[0;36m0\u001b[0m\u001b[0;34m)\u001b[0m\u001b[0;34m\u001b[0m\u001b[0;34m\u001b[0m\u001b[0m\n",
            "\u001b[0;32m/usr/local/lib/python3.7/dist-packages/pandas/core/indexing.py\u001b[0m in \u001b[0;36mcheck_bool_indexer\u001b[0;34m(index, key)\u001b[0m\n\u001b[1;32m   2387\u001b[0m         \u001b[0;32mif\u001b[0m \u001b[0mmask\u001b[0m\u001b[0;34m.\u001b[0m\u001b[0many\u001b[0m\u001b[0;34m(\u001b[0m\u001b[0;34m)\u001b[0m\u001b[0;34m:\u001b[0m\u001b[0;34m\u001b[0m\u001b[0;34m\u001b[0m\u001b[0m\n\u001b[1;32m   2388\u001b[0m             raise IndexingError(\n\u001b[0;32m-> 2389\u001b[0;31m                 \u001b[0;34m\"Unalignable boolean Series provided as \"\u001b[0m\u001b[0;34m\u001b[0m\u001b[0;34m\u001b[0m\u001b[0m\n\u001b[0m\u001b[1;32m   2390\u001b[0m                 \u001b[0;34m\"indexer (index of the boolean Series and of \"\u001b[0m\u001b[0;34m\u001b[0m\u001b[0;34m\u001b[0m\u001b[0m\n\u001b[1;32m   2391\u001b[0m                 \u001b[0;34m\"the indexed object do not match).\"\u001b[0m\u001b[0;34m\u001b[0m\u001b[0;34m\u001b[0m\u001b[0m\n",
            "\u001b[0;31mIndexingError\u001b[0m: Unalignable boolean Series provided as indexer (index of the boolean Series and of the indexed object do not match)."
          ]
        }
      ]
    },
    {
      "cell_type": "markdown",
      "source": [
        "#Data Pre-processing:"
      ],
      "metadata": {
        "id": "dWqOyKqcyyy6"
      }
    },
    {
      "cell_type": "code",
      "source": [
        "X_jobs_train, X_jobs_test, T_jobs_train, T_jobs_test, Y_jobs_train, Y_jobs_test, e_jobs_train, e_jobs_test = train_test_split(X_jobs, T_jobs, Y_jobs, e_jobs, test_size=0.2)\n",
        "\n",
        "scaler_x = StandardScaler()\n",
        "X_jobs_train = scaler_x.fit_transform(X_jobs_train)\n",
        "X_jobs_test = scaler_x.transform(X_jobs_test)"
      ],
      "metadata": {
        "id": "N8-epHqoyxvS"
      },
      "execution_count": null,
      "outputs": []
    }
  ]
}