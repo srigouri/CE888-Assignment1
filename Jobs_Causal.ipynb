{
  "nbformat": 4,
  "nbformat_minor": 0,
  "metadata": {
    "colab": {
      "name": "Jobs_Causal.ipynb",
      "provenance": [],
      "collapsed_sections": [],
      "authorship_tag": "ABX9TyMYi7TAZ4OhWYSP7sDpT4SH",
      "include_colab_link": true
    },
    "kernelspec": {
      "name": "python3",
      "display_name": "Python 3"
    },
    "language_info": {
      "name": "python"
    }
  },
  "cells": [
    {
      "cell_type": "markdown",
      "metadata": {
        "id": "view-in-github",
        "colab_type": "text"
      },
      "source": [
        "<a href=\"https://colab.research.google.com/github/srigouri/CE888-Causal/blob/main/Jobs_Causal.ipynb\" target=\"_parent\"><img src=\"https://colab.research.google.com/assets/colab-badge.svg\" alt=\"Open In Colab\"/></a>"
      ]
    },
    {
      "cell_type": "markdown",
      "source": [
        "# Causal Inference on JOBS Dataset:\n",
        "\n",
        "---\n",
        "\n",
        " Using Random Forest Regression for predictions and Random Forest classifier for classification to estimate causal effects in IHDP data.\n",
        " (Reference: CE888 Lab4 Task)"
      ],
      "metadata": {
        "id": "8ErbhN9Fj7gt"
      }
    },
    {
      "cell_type": "markdown",
      "source": [
        "Loading Required Packages:"
      ],
      "metadata": {
        "id": "ZddIqhKGmioz"
      }
    },
    {
      "cell_type": "code",
      "source": [
        "!pip install econml"
      ],
      "metadata": {
        "colab": {
          "base_uri": "https://localhost:8080/"
        },
        "id": "bRcPoFxukAZV",
        "outputId": "413ded64-05b8-421b-a819-68fbbd004992"
      },
      "execution_count": null,
      "outputs": [
        {
          "output_type": "stream",
          "name": "stdout",
          "text": [
            "Requirement already satisfied: econml in /usr/local/lib/python3.7/dist-packages (0.13.0)\n",
            "Requirement already satisfied: scipy>1.4.0 in /usr/local/lib/python3.7/dist-packages (from econml) (1.4.1)\n",
            "Requirement already satisfied: pandas in /usr/local/lib/python3.7/dist-packages (from econml) (1.3.5)\n",
            "Requirement already satisfied: dowhy<0.7 in /usr/local/lib/python3.7/dist-packages (from econml) (0.6)\n",
            "Requirement already satisfied: shap<0.40.0,>=0.38.1 in /usr/local/lib/python3.7/dist-packages (from econml) (0.39.0)\n",
            "Requirement already satisfied: scikit-learn>0.22.0 in /usr/local/lib/python3.7/dist-packages (from econml) (1.0.2)\n",
            "Requirement already satisfied: lightgbm in /usr/local/lib/python3.7/dist-packages (from econml) (2.2.3)\n",
            "Requirement already satisfied: numpy in /usr/local/lib/python3.7/dist-packages (from econml) (1.21.6)\n",
            "Requirement already satisfied: sparse in /usr/local/lib/python3.7/dist-packages (from econml) (0.13.0)\n",
            "Requirement already satisfied: statsmodels>=0.10 in /usr/local/lib/python3.7/dist-packages (from econml) (0.10.2)\n",
            "Requirement already satisfied: joblib>=0.13.0 in /usr/local/lib/python3.7/dist-packages (from econml) (1.1.0)\n",
            "Requirement already satisfied: networkx>=2.0 in /usr/local/lib/python3.7/dist-packages (from dowhy<0.7->econml) (2.6.3)\n",
            "Requirement already satisfied: pydot>=1.4 in /usr/local/lib/python3.7/dist-packages (from dowhy<0.7->econml) (1.4.2)\n",
            "Requirement already satisfied: sympy>=1.4 in /usr/local/lib/python3.7/dist-packages (from dowhy<0.7->econml) (1.7.1)\n",
            "Requirement already satisfied: python-dateutil>=2.7.3 in /usr/local/lib/python3.7/dist-packages (from pandas->econml) (2.8.2)\n",
            "Requirement already satisfied: pytz>=2017.3 in /usr/local/lib/python3.7/dist-packages (from pandas->econml) (2022.1)\n",
            "Requirement already satisfied: pyparsing>=2.1.4 in /usr/local/lib/python3.7/dist-packages (from pydot>=1.4->dowhy<0.7->econml) (3.0.8)\n",
            "Requirement already satisfied: six>=1.5 in /usr/local/lib/python3.7/dist-packages (from python-dateutil>=2.7.3->pandas->econml) (1.15.0)\n",
            "Requirement already satisfied: threadpoolctl>=2.0.0 in /usr/local/lib/python3.7/dist-packages (from scikit-learn>0.22.0->econml) (3.1.0)\n",
            "Requirement already satisfied: tqdm>4.25.0 in /usr/local/lib/python3.7/dist-packages (from shap<0.40.0,>=0.38.1->econml) (4.64.0)\n",
            "Requirement already satisfied: numba in /usr/local/lib/python3.7/dist-packages (from shap<0.40.0,>=0.38.1->econml) (0.51.2)\n",
            "Requirement already satisfied: cloudpickle in /usr/local/lib/python3.7/dist-packages (from shap<0.40.0,>=0.38.1->econml) (1.3.0)\n",
            "Requirement already satisfied: slicer==0.0.7 in /usr/local/lib/python3.7/dist-packages (from shap<0.40.0,>=0.38.1->econml) (0.0.7)\n",
            "Requirement already satisfied: patsy>=0.4.0 in /usr/local/lib/python3.7/dist-packages (from statsmodels>=0.10->econml) (0.5.2)\n",
            "Requirement already satisfied: mpmath>=0.19 in /usr/local/lib/python3.7/dist-packages (from sympy>=1.4->dowhy<0.7->econml) (1.2.1)\n",
            "Requirement already satisfied: llvmlite<0.35,>=0.34.0.dev0 in /usr/local/lib/python3.7/dist-packages (from numba->shap<0.40.0,>=0.38.1->econml) (0.34.0)\n",
            "Requirement already satisfied: setuptools in /usr/local/lib/python3.7/dist-packages (from numba->shap<0.40.0,>=0.38.1->econml) (57.4.0)\n"
          ]
        }
      ]
    },
    {
      "cell_type": "markdown",
      "source": [
        "\n",
        "Importing Libraries:"
      ],
      "metadata": {
        "id": "kw_QDYaOmvrd"
      }
    },
    {
      "cell_type": "code",
      "source": [
        "from econml.metalearners import XLearner\n",
        "from sklearn.linear_model import LogisticRegression\n",
        "from sklearn.ensemble import RandomForestRegressor, RandomForestClassifier\n",
        "from sklearn.model_selection import train_test_split,GridSearchCV\n",
        "from sklearn.preprocessing import StandardScaler\n",
        "import numpy as np\n",
        "import pandas as pd\n",
        "import scipy.stats as st\n",
        "import matplotlib.pyplot as plt\n",
        "import seaborn as sns\n",
        "from causalfuncs import *"
      ],
      "metadata": {
        "id": "B-Kn8VE9mv86"
      },
      "execution_count": null,
      "outputs": []
    },
    {
      "cell_type": "markdown",
      "source": [
        "Loading Jobs data from https://raw.githubusercontent.com/dmachlanski/CE888_2022/main/project/data/jobs.csv:"
      ],
      "metadata": {
        "id": "oSE50Dh6nZ6n"
      }
    },
    {
      "cell_type": "code",
      "source": [
        "jobs_data=pd.read_csv('https://raw.githubusercontent.com/dmachlanski/CE888_2022/main/project/data/jobs.csv')"
      ],
      "metadata": {
        "id": "XHmiKxTNnaKK"
      },
      "execution_count": null,
      "outputs": []
    },
    {
      "cell_type": "markdown",
      "source": [
        "Exploring JOBS data:"
      ],
      "metadata": {
        "id": "WT5NHM4doKg7"
      }
    },
    {
      "cell_type": "code",
      "source": [
        "jobs_data.head()"
      ],
      "metadata": {
        "colab": {
          "base_uri": "https://localhost:8080/",
          "height": 270
        },
        "id": "nYSrs1OXoK3J",
        "outputId": "0d42d8cd-feb9-4cd8-edee-9d475c556a4f"
      },
      "execution_count": null,
      "outputs": [
        {
          "output_type": "execute_result",
          "data": {
            "text/plain": [
              "         x1        x2   x3   x4   x5   x6        x7        x8        x9  \\\n",
              "0 -0.614282  1.464727  0.0  0.0  1.0  0.0  2.393250  2.746196 -0.653311   \n",
              "1 -0.802463  0.101835  0.0  0.0  1.0  0.0  0.109885  0.498271 -0.785284   \n",
              "2 -0.896553 -0.238888  1.0  0.0  1.0  1.0 -0.085212 -0.148097 -0.847312   \n",
              "3 -0.896553 -0.238888  0.0  0.0  0.0  1.0  0.405581  0.325594 -0.847312   \n",
              "4  0.138440 -1.601779  1.0  0.0  1.0  1.0 -0.722531 -0.212734 -0.019840   \n",
              "\n",
              "        x10       x11       x12       x13  x14  x15       x16  x17    t    y  \\\n",
              "0 -0.656913  1.627531  2.462337  2.937244  0.0  0.0  2.843909  0.0  0.0  1.0   \n",
              "1 -0.743407 -0.022502 -0.177193  0.082537  0.0  0.0  0.038422  0.0  0.0  1.0   \n",
              "2 -0.781606 -0.361348 -0.286221 -0.303615  0.0  0.0 -0.191304  0.0  0.0  1.0   \n",
              "3 -0.781606 -0.361348  0.023020 -0.039630  0.0  0.0  0.173108  0.0  0.0  1.0   \n",
              "4 -0.156019 -1.422084 -0.514563 -0.331552  0.0  0.0 -0.779227  0.0  0.0  1.0   \n",
              "\n",
              "     e  \n",
              "0  0.0  \n",
              "1  0.0  \n",
              "2  0.0  \n",
              "3  1.0  \n",
              "4  0.0  "
            ],
            "text/html": [
              "\n",
              "  <div id=\"df-eff11ad2-d2ba-4774-89c2-769668d0d2b2\">\n",
              "    <div class=\"colab-df-container\">\n",
              "      <div>\n",
              "<style scoped>\n",
              "    .dataframe tbody tr th:only-of-type {\n",
              "        vertical-align: middle;\n",
              "    }\n",
              "\n",
              "    .dataframe tbody tr th {\n",
              "        vertical-align: top;\n",
              "    }\n",
              "\n",
              "    .dataframe thead th {\n",
              "        text-align: right;\n",
              "    }\n",
              "</style>\n",
              "<table border=\"1\" class=\"dataframe\">\n",
              "  <thead>\n",
              "    <tr style=\"text-align: right;\">\n",
              "      <th></th>\n",
              "      <th>x1</th>\n",
              "      <th>x2</th>\n",
              "      <th>x3</th>\n",
              "      <th>x4</th>\n",
              "      <th>x5</th>\n",
              "      <th>x6</th>\n",
              "      <th>x7</th>\n",
              "      <th>x8</th>\n",
              "      <th>x9</th>\n",
              "      <th>x10</th>\n",
              "      <th>x11</th>\n",
              "      <th>x12</th>\n",
              "      <th>x13</th>\n",
              "      <th>x14</th>\n",
              "      <th>x15</th>\n",
              "      <th>x16</th>\n",
              "      <th>x17</th>\n",
              "      <th>t</th>\n",
              "      <th>y</th>\n",
              "      <th>e</th>\n",
              "    </tr>\n",
              "  </thead>\n",
              "  <tbody>\n",
              "    <tr>\n",
              "      <th>0</th>\n",
              "      <td>-0.614282</td>\n",
              "      <td>1.464727</td>\n",
              "      <td>0.0</td>\n",
              "      <td>0.0</td>\n",
              "      <td>1.0</td>\n",
              "      <td>0.0</td>\n",
              "      <td>2.393250</td>\n",
              "      <td>2.746196</td>\n",
              "      <td>-0.653311</td>\n",
              "      <td>-0.656913</td>\n",
              "      <td>1.627531</td>\n",
              "      <td>2.462337</td>\n",
              "      <td>2.937244</td>\n",
              "      <td>0.0</td>\n",
              "      <td>0.0</td>\n",
              "      <td>2.843909</td>\n",
              "      <td>0.0</td>\n",
              "      <td>0.0</td>\n",
              "      <td>1.0</td>\n",
              "      <td>0.0</td>\n",
              "    </tr>\n",
              "    <tr>\n",
              "      <th>1</th>\n",
              "      <td>-0.802463</td>\n",
              "      <td>0.101835</td>\n",
              "      <td>0.0</td>\n",
              "      <td>0.0</td>\n",
              "      <td>1.0</td>\n",
              "      <td>0.0</td>\n",
              "      <td>0.109885</td>\n",
              "      <td>0.498271</td>\n",
              "      <td>-0.785284</td>\n",
              "      <td>-0.743407</td>\n",
              "      <td>-0.022502</td>\n",
              "      <td>-0.177193</td>\n",
              "      <td>0.082537</td>\n",
              "      <td>0.0</td>\n",
              "      <td>0.0</td>\n",
              "      <td>0.038422</td>\n",
              "      <td>0.0</td>\n",
              "      <td>0.0</td>\n",
              "      <td>1.0</td>\n",
              "      <td>0.0</td>\n",
              "    </tr>\n",
              "    <tr>\n",
              "      <th>2</th>\n",
              "      <td>-0.896553</td>\n",
              "      <td>-0.238888</td>\n",
              "      <td>1.0</td>\n",
              "      <td>0.0</td>\n",
              "      <td>1.0</td>\n",
              "      <td>1.0</td>\n",
              "      <td>-0.085212</td>\n",
              "      <td>-0.148097</td>\n",
              "      <td>-0.847312</td>\n",
              "      <td>-0.781606</td>\n",
              "      <td>-0.361348</td>\n",
              "      <td>-0.286221</td>\n",
              "      <td>-0.303615</td>\n",
              "      <td>0.0</td>\n",
              "      <td>0.0</td>\n",
              "      <td>-0.191304</td>\n",
              "      <td>0.0</td>\n",
              "      <td>0.0</td>\n",
              "      <td>1.0</td>\n",
              "      <td>0.0</td>\n",
              "    </tr>\n",
              "    <tr>\n",
              "      <th>3</th>\n",
              "      <td>-0.896553</td>\n",
              "      <td>-0.238888</td>\n",
              "      <td>0.0</td>\n",
              "      <td>0.0</td>\n",
              "      <td>0.0</td>\n",
              "      <td>1.0</td>\n",
              "      <td>0.405581</td>\n",
              "      <td>0.325594</td>\n",
              "      <td>-0.847312</td>\n",
              "      <td>-0.781606</td>\n",
              "      <td>-0.361348</td>\n",
              "      <td>0.023020</td>\n",
              "      <td>-0.039630</td>\n",
              "      <td>0.0</td>\n",
              "      <td>0.0</td>\n",
              "      <td>0.173108</td>\n",
              "      <td>0.0</td>\n",
              "      <td>0.0</td>\n",
              "      <td>1.0</td>\n",
              "      <td>1.0</td>\n",
              "    </tr>\n",
              "    <tr>\n",
              "      <th>4</th>\n",
              "      <td>0.138440</td>\n",
              "      <td>-1.601779</td>\n",
              "      <td>1.0</td>\n",
              "      <td>0.0</td>\n",
              "      <td>1.0</td>\n",
              "      <td>1.0</td>\n",
              "      <td>-0.722531</td>\n",
              "      <td>-0.212734</td>\n",
              "      <td>-0.019840</td>\n",
              "      <td>-0.156019</td>\n",
              "      <td>-1.422084</td>\n",
              "      <td>-0.514563</td>\n",
              "      <td>-0.331552</td>\n",
              "      <td>0.0</td>\n",
              "      <td>0.0</td>\n",
              "      <td>-0.779227</td>\n",
              "      <td>0.0</td>\n",
              "      <td>0.0</td>\n",
              "      <td>1.0</td>\n",
              "      <td>0.0</td>\n",
              "    </tr>\n",
              "  </tbody>\n",
              "</table>\n",
              "</div>\n",
              "      <button class=\"colab-df-convert\" onclick=\"convertToInteractive('df-eff11ad2-d2ba-4774-89c2-769668d0d2b2')\"\n",
              "              title=\"Convert this dataframe to an interactive table.\"\n",
              "              style=\"display:none;\">\n",
              "        \n",
              "  <svg xmlns=\"http://www.w3.org/2000/svg\" height=\"24px\"viewBox=\"0 0 24 24\"\n",
              "       width=\"24px\">\n",
              "    <path d=\"M0 0h24v24H0V0z\" fill=\"none\"/>\n",
              "    <path d=\"M18.56 5.44l.94 2.06.94-2.06 2.06-.94-2.06-.94-.94-2.06-.94 2.06-2.06.94zm-11 1L8.5 8.5l.94-2.06 2.06-.94-2.06-.94L8.5 2.5l-.94 2.06-2.06.94zm10 10l.94 2.06.94-2.06 2.06-.94-2.06-.94-.94-2.06-.94 2.06-2.06.94z\"/><path d=\"M17.41 7.96l-1.37-1.37c-.4-.4-.92-.59-1.43-.59-.52 0-1.04.2-1.43.59L10.3 9.45l-7.72 7.72c-.78.78-.78 2.05 0 2.83L4 21.41c.39.39.9.59 1.41.59.51 0 1.02-.2 1.41-.59l7.78-7.78 2.81-2.81c.8-.78.8-2.07 0-2.86zM5.41 20L4 18.59l7.72-7.72 1.47 1.35L5.41 20z\"/>\n",
              "  </svg>\n",
              "      </button>\n",
              "      \n",
              "  <style>\n",
              "    .colab-df-container {\n",
              "      display:flex;\n",
              "      flex-wrap:wrap;\n",
              "      gap: 12px;\n",
              "    }\n",
              "\n",
              "    .colab-df-convert {\n",
              "      background-color: #E8F0FE;\n",
              "      border: none;\n",
              "      border-radius: 50%;\n",
              "      cursor: pointer;\n",
              "      display: none;\n",
              "      fill: #1967D2;\n",
              "      height: 32px;\n",
              "      padding: 0 0 0 0;\n",
              "      width: 32px;\n",
              "    }\n",
              "\n",
              "    .colab-df-convert:hover {\n",
              "      background-color: #E2EBFA;\n",
              "      box-shadow: 0px 1px 2px rgba(60, 64, 67, 0.3), 0px 1px 3px 1px rgba(60, 64, 67, 0.15);\n",
              "      fill: #174EA6;\n",
              "    }\n",
              "\n",
              "    [theme=dark] .colab-df-convert {\n",
              "      background-color: #3B4455;\n",
              "      fill: #D2E3FC;\n",
              "    }\n",
              "\n",
              "    [theme=dark] .colab-df-convert:hover {\n",
              "      background-color: #434B5C;\n",
              "      box-shadow: 0px 1px 3px 1px rgba(0, 0, 0, 0.15);\n",
              "      filter: drop-shadow(0px 1px 2px rgba(0, 0, 0, 0.3));\n",
              "      fill: #FFFFFF;\n",
              "    }\n",
              "  </style>\n",
              "\n",
              "      <script>\n",
              "        const buttonEl =\n",
              "          document.querySelector('#df-eff11ad2-d2ba-4774-89c2-769668d0d2b2 button.colab-df-convert');\n",
              "        buttonEl.style.display =\n",
              "          google.colab.kernel.accessAllowed ? 'block' : 'none';\n",
              "\n",
              "        async function convertToInteractive(key) {\n",
              "          const element = document.querySelector('#df-eff11ad2-d2ba-4774-89c2-769668d0d2b2');\n",
              "          const dataTable =\n",
              "            await google.colab.kernel.invokeFunction('convertToInteractive',\n",
              "                                                     [key], {});\n",
              "          if (!dataTable) return;\n",
              "\n",
              "          const docLinkHtml = 'Like what you see? Visit the ' +\n",
              "            '<a target=\"_blank\" href=https://colab.research.google.com/notebooks/data_table.ipynb>data table notebook</a>'\n",
              "            + ' to learn more about interactive tables.';\n",
              "          element.innerHTML = '';\n",
              "          dataTable['output_type'] = 'display_data';\n",
              "          await google.colab.output.renderOutput(dataTable, element);\n",
              "          const docLink = document.createElement('div');\n",
              "          docLink.innerHTML = docLinkHtml;\n",
              "          element.appendChild(docLink);\n",
              "        }\n",
              "      </script>\n",
              "    </div>\n",
              "  </div>\n",
              "  "
            ]
          },
          "metadata": {},
          "execution_count": 12
        }
      ]
    },
    {
      "cell_type": "markdown",
      "source": [
        "To check number of rows and columns in JOBS dataset:\n"
      ],
      "metadata": {
        "id": "ZQcKuC-FoeZ0"
      }
    },
    {
      "cell_type": "code",
      "source": [
        "jobs_data.shape"
      ],
      "metadata": {
        "colab": {
          "base_uri": "https://localhost:8080/",
          "height": 38
        },
        "id": "C83ndEeQoZHt",
        "outputId": "065fcd99-76b1-4822-d025-7c6744f694dd"
      },
      "execution_count": null,
      "outputs": [
        {
          "output_type": "execute_result",
          "data": {
            "text/plain": [
              "(3212, 20)"
            ],
            "image/png": "[encoded data removed]",
            "text/latex": "$\\displaystyle \\left( 3212, \\  20\\right)$"
          },
          "metadata": {},
          "execution_count": 13
        }
      ]
    },
    {
      "cell_type": "markdown",
      "source": [
        "JOBS data has got 20 columns in which columns with names x1 to x17 are input features,t denotes for treatment,y is the outcome,and e denotes Effect.The values for particular columns are extracted using integer-location based indexing and\n",
        "assigning these values to the variables X,T,Yand e respectively."
      ],
      "metadata": {
        "id": "c-ssw3-XoLIN"
      }
    },
    {
      "cell_type": "code",
      "source": [
        "X=jobs_data[['x1','x2','x3','x4','x5','x6','x7','x8','x9','x10','x11','x12','x13','x14','x15','x16','x17']]\n",
        "T=jobs_data.iloc[:,17:18].values\n",
        "Y=jobs_data.iloc[:,18:19].values\n",
        "e=jobs_data.iloc[:,19:20].values"
      ],
      "metadata": {
        "id": "29wvPlCjpF61"
      },
      "execution_count": null,
      "outputs": []
    },
    {
      "cell_type": "markdown",
      "source": [
        "Data Pre-processing:\n",
        "Splitting the Jobs data to Training, validation and testing data.First splitting complete dataset to Training and Testing data in 80/20 ratio.Then again splitting training data to Training and Validation data in 80/20 ratio."
      ],
      "metadata": {
        "id": "HBdEkXl3pwgN"
      }
    },
    {
      "cell_type": "code",
      "source": [
        "X_train, X_test, T_train, T_test, Y_train, Y_test,e_train,e_test = train_test_split(X, T, Y,e, test_size=0.2)\n",
        "X_train, X_val,T_train,T_val,Y_train,Y_val,e_train,e_val = train_test_split(X_train,T_train,Y_train,e_train,test_size=0.20)"
      ],
      "metadata": {
        "id": "zVeSEgUjGaiM"
      },
      "execution_count": null,
      "outputs": []
    },
    {
      "cell_type": "markdown",
      "source": [
        "Checking the shapes of training,Validation,Testing Data\n"
      ],
      "metadata": {
        "id": "nQbr1GyPGhIy"
      }
    },
    {
      "cell_type": "code",
      "source": [
        "print(\"X_train shape: {}\".format(X_train.shape))\n",
        "print(\"X_val shape: {}\".format(X_val.shape))\n",
        "print(\"X_test shape: {}\".format(X_test.shape))\n",
        "print(\"T_train shape: {}\".format(T_train.shape))\n",
        "print(\"T_val shape: {}\".format(T_val.shape))\n",
        "print(\"T_test shape: {}\".format(T_test.shape))\n",
        "print(\"Y_train shape: {}\".format(Y_train.shape))\n",
        "print(\"Y_val shape: {}\".format(Y_val.shape))\n",
        "print(\"Y_test shape: {}\".format(Y_test.shape))\n",
        "print(\"e_train shape: {}\".format(e_train.shape))\n",
        "print(\"e_val shape: {}\".format(e_val.shape))\n",
        "print(\"e_test shape: {}\".format(e_test.shape))"
      ],
      "metadata": {
        "colab": {
          "base_uri": "https://localhost:8080/"
        },
        "id": "0OnfUtO7Hns4",
        "outputId": "d506422f-6c3f-4f4b-d8d0-2d60fbe9f972"
      },
      "execution_count": null,
      "outputs": [
        {
          "output_type": "stream",
          "name": "stdout",
          "text": [
            "X_train shape: (2055, 17)\n",
            "X_val shape: (514, 17)\n",
            "X_test shape: (643, 17)\n",
            "T_train shape: (2055, 1)\n",
            "T_val shape: (514, 1)\n",
            "T_test shape: (643, 1)\n",
            "Y_train shape: (2055, 1)\n",
            "Y_val shape: (514, 1)\n",
            "Y_test shape: (643, 1)\n",
            "e_train shape: (2055, 1)\n",
            "e_val shape: (514, 1)\n",
            "e_test shape: (643, 1)\n"
          ]
        }
      ]
    },
    {
      "cell_type": "code",
      "source": [
        "plt.hist(Y)"
      ],
      "metadata": {
        "colab": {
          "base_uri": "https://localhost:8080/",
          "height": 338
        },
        "id": "4mWJyFHZIRe3",
        "outputId": "f9195aea-e87f-45df-d412-526713913ea5"
      },
      "execution_count": null,
      "outputs": [
        {
          "output_type": "execute_result",
          "data": {
            "text/plain": [
              "(array([ 482.,    0.,    0.,    0.,    0.,    0.,    0.,    0.,    0.,\n",
              "        2730.]),\n",
              " array([0. , 0.1, 0.2, 0.3, 0.4, 0.5, 0.6, 0.7, 0.8, 0.9, 1. ]),\n",
              " <a list of 10 Patch objects>)"
            ]
          },
          "metadata": {},
          "execution_count": 26
        },
        {
          "output_type": "display_data",
          "data": {
            "text/plain": [
              "<Figure size 432x288 with 1 Axes>"
            ],
            "image/png": "[encoded data removed]"
          },
          "metadata": {
            "needs_background": "light"
          }
        }
      ]
    },
    {
      "cell_type": "code",
      "source": [
        "plt.hist(T)"
      ],
      "metadata": {
        "colab": {
          "base_uri": "https://localhost:8080/",
          "height": 338
        },
        "id": "9cuomLS5Jgbv",
        "outputId": "ccb49ed7-8fa3-4821-ad18-1170122c0d6b"
      },
      "execution_count": null,
      "outputs": [
        {
          "output_type": "execute_result",
          "data": {
            "text/plain": [
              "(array([2915.,    0.,    0.,    0.,    0.,    0.,    0.,    0.,    0.,\n",
              "         297.]),\n",
              " array([0. , 0.1, 0.2, 0.3, 0.4, 0.5, 0.6, 0.7, 0.8, 0.9, 1. ]),\n",
              " <a list of 10 Patch objects>)"
            ]
          },
          "metadata": {},
          "execution_count": 27
        },
        {
          "output_type": "display_data",
          "data": {
            "text/plain": [
              "<Figure size 432x288 with 1 Axes>"
            ],
            "image/png": "[encoded data removed]"
          },
          "metadata": {
            "needs_background": "light"
          }
        }
      ]
    },
    {
      "cell_type": "markdown",
      "source": [
        "The above histograms of Y shows that the data is imbalanced."
      ],
      "metadata": {
        "id": "I0_EGv9zI4ty"
      }
    },
    {
      "cell_type": "markdown",
      "source": [
        "Standardizing the input training data X. No standardization required for treatment variable T as the data is binary."
      ],
      "metadata": {
        "id": "UkryyizpJ_8R"
      }
    },
    {
      "cell_type": "code",
      "source": [
        "scaler_x = StandardScaler()\n",
        "X_train = scaler_x.fit_transform(X_train)\n",
        "X_val = scaler_x.transform(X_val)\n",
        "X_test = scaler_x.transform(X_test)"
      ],
      "metadata": {
        "id": "ygjcAqqfIFUu"
      },
      "execution_count": null,
      "outputs": []
    },
    {
      "cell_type": "markdown",
      "source": [
        "computing the means of effect in training,validation,test data"
      ],
      "metadata": {
        "id": "FKkpsUcEKZh4"
      }
    },
    {
      "cell_type": "code",
      "source": [
        "np.mean(e_train),np.mean(e_val),np.mean(e_test)"
      ],
      "metadata": {
        "colab": {
          "base_uri": "https://localhost:8080/",
          "height": 38
        },
        "id": "W4CIl3IPKOAg",
        "outputId": "d59205f9-0920-4fb5-dfe5-951cfd865b62"
      },
      "execution_count": null,
      "outputs": [
        {
          "output_type": "execute_result",
          "data": {
            "text/plain": [
              "(0.2291970802919708, 0.2178988326848249, 0.2161741835147745)"
            ],
            "image/png": "[encoded data removed]",
            "text/latex": "$\\displaystyle \\left( 0.229197080291971, \\  0.217898832684825, \\  0.216174183514774\\right)$"
          },
          "metadata": {},
          "execution_count": 56
        }
      ]
    },
    {
      "cell_type": "markdown",
      "source": [
        "Checking the shape of outcome variable:"
      ],
      "metadata": {
        "id": "zy6WEl1aK_RX"
      }
    },
    {
      "cell_type": "code",
      "source": [
        "Y_train.shape"
      ],
      "metadata": {
        "colab": {
          "base_uri": "https://localhost:8080/",
          "height": 38
        },
        "id": "mBfWC0bxyVSR",
        "outputId": "4dfc3613-07dd-43b1-cee9-49aa1b89db1e"
      },
      "execution_count": null,
      "outputs": [
        {
          "output_type": "execute_result",
          "data": {
            "text/plain": [
              "(2055, 1)"
            ],
            "image/png": "[encoded data removed]",
            "text/latex": "$\\displaystyle \\left( 2055, \\  1\\right)$"
          },
          "metadata": {},
          "execution_count": 57
        }
      ]
    },
    {
      "cell_type": "markdown",
      "source": [
        "####Logistic Regression"
      ],
      "metadata": {
        "id": "q0waKsW0zcKo"
      }
    },
    {
      "cell_type": "markdown",
      "source": [
        "Training The Model: Using four estimators for training the model:\n",
        "\n",
        "Logistic Regression,Random forest regressor, Random forest with Inverse Propensity Weighting (IPW), X-learner with RF as base learners.\n",
        "\n",
        "Concatenating X variable with 25 input features and T i.e treatment \n",
        "variable to train the model along with treatment.\n",
        "\n",
        "Fitting Logistic Regressor on training data:\n"
      ],
      "metadata": {
        "id": "Jix-aIe6zwYH"
      }
    },
    {
      "cell_type": "code",
      "source": [
        "lr = LogisticRegression()\n",
        "XT_train = np.concatenate((X_train,T_train),axis=1)\n",
        "\n",
        "lr.fit(XT_train, Y_train.ravel())"
      ],
      "metadata": {
        "colab": {
          "base_uri": "https://localhost:8080/"
        },
        "id": "68JpFhTWLwSW",
        "outputId": "d05b8226-4208-4273-aacc-3c6b9f700ed1"
      },
      "execution_count": null,
      "outputs": [
        {
          "output_type": "execute_result",
          "data": {
            "text/plain": [
              "LogisticRegression()"
            ]
          },
          "metadata": {},
          "execution_count": 59
        }
      ]
    },
    {
      "cell_type": "markdown",
      "source": [
        "For validation of model, y1_val and y0_val are predicted by setting treatment to 1 and 0 respectively.Treatment variable (T=0,T=1) is again merged accordingly with X data.Predicted outcomes for both treated and controlled for each individuals as y1_val,y0_val and obtained treatement effect using e= y1-y0."
      ],
      "metadata": {
        "id": "8JBoaqDm0EKU"
      }
    },
    {
      "cell_type": "code",
      "source": [
        "xt0_val = np.concatenate([X_val, np.zeros_like(T_val)], axis=1)\n",
        "lr_y0_val = lr.predict(xt0_val)\n",
        "\n",
        "xt1_val = np.concatenate([X_val, np.ones_like(T_val)], axis=1)\n",
        "lr_y1_val = lr.predict(xt1_val)\n",
        "\n",
        "lr_te_val = lr_y1_val - lr_y0_val\n",
        "np.mean(lr_te_val)"
      ],
      "metadata": {
        "colab": {
          "base_uri": "https://localhost:8080/",
          "height": 38
        },
        "id": "S6R_yjggfUxU",
        "outputId": "4aad7ead-3828-4ae4-fcff-9044bf7c6f53"
      },
      "execution_count": null,
      "outputs": [
        {
          "output_type": "execute_result",
          "data": {
            "text/plain": [
              "0.07198443579766536"
            ],
            "image/png": "[encoded data removed]",
            "text/latex": "$\\displaystyle 0.0719844357976654$"
          },
          "metadata": {},
          "execution_count": 61
        }
      ]
    },
    {
      "cell_type": "markdown",
      "source": [
        "Predictions using Test data:\n",
        "\n",
        "y1_test and y0_test are predicted by setting treatment to 1 and 0 respectively.\n",
        "Setting T to a 1 and 0 for all individuals using zeros_like and one_like and merge with X_test to obtain effect estimates.\n",
        "Outcomes for both treated and controlled for each individuals as y1_test,y0_test and obtained effect using e=y1-y0"
      ],
      "metadata": {
        "id": "hGz9guaK0qHN"
      }
    },
    {
      "cell_type": "code",
      "source": [
        "xt0_test = np.concatenate([X_test, np.zeros_like(T_test)], axis=1)\n",
        "lr_y0_test = lr.predict(xt0_test)\n",
        "\n",
        "xt1_test = np.concatenate([X_test, np.ones_like(T_test)], axis=1)\n",
        "lr_y1_test = lr.predict(xt1_test)\n",
        "\n",
        "lr_te_test = lr_y1_test - lr_y0_test\n",
        "np.mean(lr_te_test)"
      ],
      "metadata": {
        "colab": {
          "base_uri": "https://localhost:8080/",
          "height": 38
        },
        "id": "Z02ucFvVs0_n",
        "outputId": "b8fb95a4-57e3-44c7-eda9-692d59d31f9d"
      },
      "execution_count": null,
      "outputs": [
        {
          "output_type": "execute_result",
          "data": {
            "text/plain": [
              "0.04665629860031104"
            ],
            "image/png": "[encoded data removed]",
            "text/latex": "$\\displaystyle 0.046656298600311$"
          },
          "metadata": {},
          "execution_count": 68
        }
      ]
    },
    {
      "cell_type": "markdown",
      "source": [
        "#### Random Forest Regression\n",
        "Fitting Random Forest Regressor on training data:\n"
      ],
      "metadata": {
        "id": "PbuPA6BUuDJ6"
      }
    },
    {
      "cell_type": "code",
      "source": [
        "rf = RandomForestRegressor()\n",
        "rf.fit(XT_train, Y_train.flatten())"
      ],
      "metadata": {
        "colab": {
          "base_uri": "https://localhost:8080/"
        },
        "id": "_jZ5sITks1Ll",
        "outputId": "afdcb039-676f-4c50-ea11-c96c080f2cbb"
      },
      "execution_count": null,
      "outputs": [
        {
          "output_type": "execute_result",
          "data": {
            "text/plain": [
              "RandomForestRegressor()"
            ]
          },
          "metadata": {},
          "execution_count": 66
        }
      ]
    },
    {
      "cell_type": "markdown",
      "source": [
        "Using Random Forest Regression model,validating outcomes for both treated and controlled for each individuals as y1_val,y0_val and obtained treatement effect using e= y1-y0."
      ],
      "metadata": {
        "id": "sS35Q7vi1NsU"
      }
    },
    {
      "cell_type": "code",
      "source": [
        "xt0_val = np.concatenate([X_val, np.zeros_like(T_val)], axis=1)\n",
        "rf_y0_val = rf.predict(xt0_val)\n",
        "\n",
        "xt1_val = np.concatenate([X_val, np.ones_like(T_val)], axis=1)\n",
        "rf_y1_val = rf.predict(xt1_val)\n",
        "\n",
        "rf_e_val = rf_y1_val - rf_y0_val\n",
        "np.mean(rf_e_val)"
      ],
      "metadata": {
        "colab": {
          "base_uri": "https://localhost:8080/",
          "height": 38
        },
        "id": "_WBvoXOVuK7U",
        "outputId": "48f661ab-ed8d-4e98-b92f-f7186b7ac7d1"
      },
      "execution_count": null,
      "outputs": [
        {
          "output_type": "execute_result",
          "data": {
            "text/plain": [
              "0.045077033537150264"
            ],
            "image/png": "[encoded data removed]",
            "text/latex": "$\\displaystyle 0.0450770335371503$"
          },
          "metadata": {},
          "execution_count": 67
        }
      ]
    },
    {
      "cell_type": "code",
      "source": [
        "xt0_test = np.concatenate([X_test, np.zeros_like(T_test)], axis=1)\n",
        "rf_y0_test = rf.predict(xt0_test)\n",
        "\n",
        "xt1_test = np.concatenate([X_test, np.ones_like(T_test)], axis=1)\n",
        "rf_y1_test = rf.predict(xt1_test)\n",
        "\n",
        "rf_e_test = rf_y1_test - rf_y0_test\n",
        "np.mean(rf_e_test)"
      ],
      "metadata": {
        "colab": {
          "base_uri": "https://localhost:8080/",
          "height": 38
        },
        "id": "1vDoMCJiuK-1",
        "outputId": "cc0559a7-4965-4c6c-d29b-a4888aa723e3"
      },
      "execution_count": null,
      "outputs": [
        {
          "output_type": "execute_result",
          "data": {
            "text/plain": [
              "0.03755858799054756"
            ],
            "image/png": "[encoded data removed]",
            "text/latex": "$\\displaystyle 0.0375585879905476$"
          },
          "metadata": {},
          "execution_count": 69
        }
      ]
    },
    {
      "cell_type": "markdown",
      "source": [
        "####RandomForestClassifier with Inverse Propensity Score(IPW):"
      ],
      "metadata": {
        "id": "5I4I12jV1rGK"
      }
    },
    {
      "cell_type": "markdown",
      "source": [
        "Training using RandomForestClassifier extending with with the Inverse Propensity Weighting (IPW),to model unit's probability of receiving the treatment, P(ti|xi). This is a classic binary classification problem using input X,treatment T. P(ti|xi)  is called a propensity score.\n",
        "\n",
        "To get the sample weights, get_ps_weights function is called from causalfuncs.py which is available at https://github.com/srigouri/CE888-Causal/blob/main/causalfuncs.py"
      ],
      "metadata": {
        "id": "GoY817am1sPA"
      }
    },
    {
      "cell_type": "code",
      "source": [
        "from causalfuncs import get_ps_weights\n",
        "prop_clf = RandomForestClassifier()\n",
        "weights = get_ps_weights(prop_clf, X_train, T_train)\n",
        "\n",
        "rf_ipsw = RandomForestRegressor()\n",
        "rf_ipsw.fit(XT_train, Y_train.flatten(), sample_weight=weights)"
      ],
      "metadata": {
        "colab": {
          "base_uri": "https://localhost:8080/"
        },
        "id": "WMG01LrD1byT",
        "outputId": "e201c6db-478b-48a4-9f7e-7f2962111d10"
      },
      "execution_count": null,
      "outputs": [
        {
          "output_type": "execute_result",
          "data": {
            "text/plain": [
              "RandomForestRegressor()"
            ]
          },
          "metadata": {},
          "execution_count": 72
        }
      ]
    },
    {
      "cell_type": "code",
      "source": [
        "rf_ipsw_y0_test =rf_ipsw.predict(xt0_test) \n",
        "rf_ipsw_y1_test =rf_ipsw.predict(xt1_test) \n",
        "\n",
        "rf_ipsw_te_test = rf_ipsw_y1_test - rf_ipsw_y0_test \n",
        "np.mean(rf_ipsw_te_test)"
      ],
      "metadata": {
        "colab": {
          "base_uri": "https://localhost:8080/",
          "height": 38
        },
        "id": "hDQpkyMU1biZ",
        "outputId": "ac2e5104-d742-41ea-ae55-a49eb64b61b2"
      },
      "execution_count": null,
      "outputs": [
        {
          "output_type": "execute_result",
          "data": {
            "text/plain": [
              "0.03160920076122254"
            ],
            "image/png": "[encoded data removed]",
            "text/latex": "$\\displaystyle 0.0316092007612225$"
          },
          "metadata": {},
          "execution_count": 73
        }
      ]
    },
    {
      "cell_type": "markdown",
      "source": [
        "Hyper-parameter Tuning:\n",
        "\n",
        "Using GridSearch and RandomForest Classifier."
      ],
      "metadata": {
        "id": "6t7K9tUHfFa2"
      }
    },
    {
      "cell_type": "code",
      "source": [
        "params = {'max_depth': [1, 2, 5, 10, 20, None], 'max_leaf_nodes': [2, 5, 10, 20, 30, None]}\n",
        "gs = GridSearchCV(prop_clf, params, cv=10)\n",
        "\n",
        "gs.fit(XT_train,Y_train)\n",
        "gs.best_params_\n"
      ],
      "metadata": {
        "colab": {
          "base_uri": "https://localhost:8080/",
          "height": 243
        },
        "id": "W3_5wOMMX7XA",
        "outputId": "f681b1ad-f898-4ce4-998e-500849c0cffb"
      },
      "execution_count": null,
      "outputs": [
        {
          "output_type": "error",
          "ename": "NameError",
          "evalue": "ignored",
          "traceback": [
            "\u001b[0;31m---------------------------------------------------------------------------\u001b[0m",
            "\u001b[0;31mNameError\u001b[0m                                 Traceback (most recent call last)",
            "\u001b[0;32m<ipython-input-43-50c7cd90cd2b>\u001b[0m in \u001b[0;36m<module>\u001b[0;34m()\u001b[0m\n\u001b[1;32m      1\u001b[0m \u001b[0mparams\u001b[0m \u001b[0;34m=\u001b[0m \u001b[0;34m{\u001b[0m\u001b[0;34m'max_depth'\u001b[0m\u001b[0;34m:\u001b[0m \u001b[0;34m[\u001b[0m\u001b[0;36m1\u001b[0m\u001b[0;34m,\u001b[0m \u001b[0;36m2\u001b[0m\u001b[0;34m,\u001b[0m \u001b[0;36m5\u001b[0m\u001b[0;34m,\u001b[0m \u001b[0;36m10\u001b[0m\u001b[0;34m,\u001b[0m \u001b[0;36m20\u001b[0m\u001b[0;34m,\u001b[0m \u001b[0;32mNone\u001b[0m\u001b[0;34m]\u001b[0m\u001b[0;34m,\u001b[0m \u001b[0;34m'max_leaf_nodes'\u001b[0m\u001b[0;34m:\u001b[0m \u001b[0;34m[\u001b[0m\u001b[0;36m2\u001b[0m\u001b[0;34m,\u001b[0m \u001b[0;36m5\u001b[0m\u001b[0;34m,\u001b[0m \u001b[0;36m10\u001b[0m\u001b[0;34m,\u001b[0m \u001b[0;36m20\u001b[0m\u001b[0;34m,\u001b[0m \u001b[0;36m30\u001b[0m\u001b[0;34m,\u001b[0m \u001b[0;32mNone\u001b[0m\u001b[0;34m]\u001b[0m\u001b[0;34m}\u001b[0m\u001b[0;34m\u001b[0m\u001b[0;34m\u001b[0m\u001b[0m\n\u001b[0;32m----> 2\u001b[0;31m \u001b[0mgs\u001b[0m \u001b[0;34m=\u001b[0m \u001b[0mGridSearchCV\u001b[0m\u001b[0;34m(\u001b[0m\u001b[0mprop_clf\u001b[0m\u001b[0;34m,\u001b[0m \u001b[0mparams\u001b[0m\u001b[0;34m,\u001b[0m \u001b[0mcv\u001b[0m\u001b[0;34m=\u001b[0m\u001b[0;36m10\u001b[0m\u001b[0;34m)\u001b[0m\u001b[0;34m\u001b[0m\u001b[0;34m\u001b[0m\u001b[0m\n\u001b[0m\u001b[1;32m      3\u001b[0m \u001b[0;34m\u001b[0m\u001b[0m\n\u001b[1;32m      4\u001b[0m \u001b[0mgs\u001b[0m\u001b[0;34m.\u001b[0m\u001b[0mfit\u001b[0m\u001b[0;34m(\u001b[0m\u001b[0mXT_train\u001b[0m\u001b[0;34m,\u001b[0m\u001b[0mY_train\u001b[0m\u001b[0;34m)\u001b[0m\u001b[0;34m\u001b[0m\u001b[0;34m\u001b[0m\u001b[0m\n\u001b[1;32m      5\u001b[0m \u001b[0mgs\u001b[0m\u001b[0;34m.\u001b[0m\u001b[0mbest_params_\u001b[0m\u001b[0;34m\u001b[0m\u001b[0;34m\u001b[0m\u001b[0m\n",
            "\u001b[0;31mNameError\u001b[0m: name 'prop_clf' is not defined"
          ]
        }
      ]
    },
    {
      "cell_type": "code",
      "source": [
        "gs.best_score_\n"
      ],
      "metadata": {
        "colab": {
          "base_uri": "https://localhost:8080/",
          "height": 38
        },
        "id": "SBODA-TlX-RI",
        "outputId": "7d04cda5-ffaf-420a-c20a-1c30ff4669e8"
      },
      "execution_count": null,
      "outputs": [
        {
          "output_type": "execute_result",
          "data": {
            "text/plain": [
              "(2055, 18)"
            ],
            "image/png": "[encoded data removed]",
            "text/latex": "$\\displaystyle \\left( 2055, \\  18\\right)$"
          },
          "metadata": {},
          "execution_count": 40
        }
      ]
    },
    {
      "cell_type": "code",
      "source": [
        "y_pred_test = gs.predict(X_test)\n",
        "\n",
        "gs_report = classification_report(y_test, y_pred_test)\n",
        "print(gs_report)\n",
        "\n",
        "gs_conf_mat = confusion_matrix(y_test, y_pred_test, labels=gs.classes_, normalize='all')\n",
        "disp = ConfusionMatrixDisplay(gs_conf_mat, display_labels=gs.classes_)\n",
        "disp.plot()"
      ],
      "metadata": {
        "id": "ApZ0PcsRd_FO"
      },
      "execution_count": null,
      "outputs": []
    }
  ]
}