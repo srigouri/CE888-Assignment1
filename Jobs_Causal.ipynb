{
  "nbformat": 4,
  "nbformat_minor": 0,
  "metadata": {
    "colab": {
      "name": "Jobs_Causal.ipynb",
      "provenance": [],
      "collapsed_sections": [],
      "authorship_tag": "ABX9TyMBHTrANVh31Bl/G3MWx81y",
      "include_colab_link": true
    },
    "kernelspec": {
      "name": "python3",
      "display_name": "Python 3"
    },
    "language_info": {
      "name": "python"
    }
  },
  "cells": [
    {
      "cell_type": "markdown",
      "metadata": {
        "id": "view-in-github",
        "colab_type": "text"
      },
      "source": [
        "<a href=\"https://colab.research.google.com/github/srigouri/CE888-CausalInference-Assignment2/blob/main/Jobs_Causal.ipynb\" target=\"_parent\"><img src=\"https://colab.research.google.com/assets/colab-badge.svg\" alt=\"Open In Colab\"/></a>"
      ]
    },
    {
      "cell_type": "markdown",
      "source": [
        "# Causal Inference on JOBS Dataset:\n",
        "\n",
        "---\n",
        "Description:\n",
        "\n",
        " -Using Linear Regression,Logistic Regression with Inverse Propensity Weighting (IPW),Random Forest Regression,Random forest with Inverse Propensity Weighting (IPW), CATE estimator X-Learner with RandomForest as base learner to estimate causal effects in JOBS data.\n",
        " (Reference: CE888 Lab4 Task).\n",
        "\n",
        " -Hyperparameter optimization using GridSearchCV.\n",
        "\n",
        " -Evaluation metrics are called from causalfuncs.py\n",
        "(Reference: https://github.com/dmachlanski/CE888_2022/blob/main/project/metrics.py)\n",
        "\n",
        " -Data source: https://github.com/dmachlanski/CE888_2022/tree/main/project/data\n",
        "\n",
        "\n",
        "---\n",
        "\n"
      ],
      "metadata": {
        "id": "8ErbhN9Fj7gt"
      }
    },
    {
      "cell_type": "markdown",
      "source": [
        "#### Packages\n",
        "Loading Required Packages:"
      ],
      "metadata": {
        "id": "ZddIqhKGmioz"
      }
    },
    {
      "cell_type": "code",
      "source": [
        "!pip install econml"
      ],
      "metadata": {
        "colab": {
          "base_uri": "https://localhost:8080/"
        },
        "id": "bRcPoFxukAZV",
        "outputId": "0dac156d-ae9a-40b6-bb66-f2bff79af0d4"
      },
      "execution_count": 41,
      "outputs": [
        {
          "output_type": "stream",
          "name": "stdout",
          "text": [
            "Requirement already satisfied: econml in /usr/local/lib/python3.7/dist-packages (0.13.0)\n",
            "Requirement already satisfied: pandas in /usr/local/lib/python3.7/dist-packages (from econml) (1.3.5)\n",
            "Requirement already satisfied: statsmodels>=0.10 in /usr/local/lib/python3.7/dist-packages (from econml) (0.10.2)\n",
            "Requirement already satisfied: scikit-learn>0.22.0 in /usr/local/lib/python3.7/dist-packages (from econml) (1.0.2)\n",
            "Requirement already satisfied: numpy in /usr/local/lib/python3.7/dist-packages (from econml) (1.21.6)\n",
            "Requirement already satisfied: joblib>=0.13.0 in /usr/local/lib/python3.7/dist-packages (from econml) (1.1.0)\n",
            "Requirement already satisfied: lightgbm in /usr/local/lib/python3.7/dist-packages (from econml) (2.2.3)\n",
            "Requirement already satisfied: dowhy<0.7 in /usr/local/lib/python3.7/dist-packages (from econml) (0.6)\n",
            "Requirement already satisfied: scipy>1.4.0 in /usr/local/lib/python3.7/dist-packages (from econml) (1.4.1)\n",
            "Requirement already satisfied: shap<0.40.0,>=0.38.1 in /usr/local/lib/python3.7/dist-packages (from econml) (0.39.0)\n",
            "Requirement already satisfied: sparse in /usr/local/lib/python3.7/dist-packages (from econml) (0.13.0)\n",
            "Requirement already satisfied: sympy>=1.4 in /usr/local/lib/python3.7/dist-packages (from dowhy<0.7->econml) (1.7.1)\n",
            "Requirement already satisfied: networkx>=2.0 in /usr/local/lib/python3.7/dist-packages (from dowhy<0.7->econml) (2.6.3)\n",
            "Requirement already satisfied: pydot>=1.4 in /usr/local/lib/python3.7/dist-packages (from dowhy<0.7->econml) (1.4.2)\n",
            "Requirement already satisfied: pytz>=2017.3 in /usr/local/lib/python3.7/dist-packages (from pandas->econml) (2022.1)\n",
            "Requirement already satisfied: python-dateutil>=2.7.3 in /usr/local/lib/python3.7/dist-packages (from pandas->econml) (2.8.2)\n",
            "Requirement already satisfied: pyparsing>=2.1.4 in /usr/local/lib/python3.7/dist-packages (from pydot>=1.4->dowhy<0.7->econml) (3.0.8)\n",
            "Requirement already satisfied: six>=1.5 in /usr/local/lib/python3.7/dist-packages (from python-dateutil>=2.7.3->pandas->econml) (1.15.0)\n",
            "Requirement already satisfied: threadpoolctl>=2.0.0 in /usr/local/lib/python3.7/dist-packages (from scikit-learn>0.22.0->econml) (3.1.0)\n",
            "Requirement already satisfied: tqdm>4.25.0 in /usr/local/lib/python3.7/dist-packages (from shap<0.40.0,>=0.38.1->econml) (4.64.0)\n",
            "Requirement already satisfied: slicer==0.0.7 in /usr/local/lib/python3.7/dist-packages (from shap<0.40.0,>=0.38.1->econml) (0.0.7)\n",
            "Requirement already satisfied: numba in /usr/local/lib/python3.7/dist-packages (from shap<0.40.0,>=0.38.1->econml) (0.51.2)\n",
            "Requirement already satisfied: cloudpickle in /usr/local/lib/python3.7/dist-packages (from shap<0.40.0,>=0.38.1->econml) (1.3.0)\n",
            "Requirement already satisfied: patsy>=0.4.0 in /usr/local/lib/python3.7/dist-packages (from statsmodels>=0.10->econml) (0.5.2)\n",
            "Requirement already satisfied: mpmath>=0.19 in /usr/local/lib/python3.7/dist-packages (from sympy>=1.4->dowhy<0.7->econml) (1.2.1)\n",
            "Requirement already satisfied: setuptools in /usr/local/lib/python3.7/dist-packages (from numba->shap<0.40.0,>=0.38.1->econml) (57.4.0)\n",
            "Requirement already satisfied: llvmlite<0.35,>=0.34.0.dev0 in /usr/local/lib/python3.7/dist-packages (from numba->shap<0.40.0,>=0.38.1->econml) (0.34.0)\n"
          ]
        }
      ]
    },
    {
      "cell_type": "markdown",
      "source": [
        "\n",
        "Importing Libraries:"
      ],
      "metadata": {
        "id": "kw_QDYaOmvrd"
      }
    },
    {
      "cell_type": "code",
      "source": [
        "from econml.metalearners import XLearner\n",
        "from sklearn.linear_model import LinearRegression, LogisticRegression\n",
        "from sklearn.ensemble import RandomForestRegressor, RandomForestClassifier\n",
        "from sklearn.model_selection import train_test_split,GridSearchCV\n",
        "from sklearn.preprocessing import StandardScaler\n",
        "import numpy as np\n",
        "import pandas as pd\n",
        "import scipy.stats as st\n",
        "import matplotlib.pyplot as plt\n",
        "import seaborn as sns\n",
        "from causalfuncs import *"
      ],
      "metadata": {
        "id": "B-Kn8VE9mv86"
      },
      "execution_count": 42,
      "outputs": []
    },
    {
      "cell_type": "markdown",
      "source": [
        "#### Data\n",
        "\n",
        "Loading Jobs data from https://raw.githubusercontent.com/dmachlanski/CE888_2022/main/project/data/jobs.csv: using pandas."
      ],
      "metadata": {
        "id": "oSE50Dh6nZ6n"
      }
    },
    {
      "cell_type": "code",
      "source": [
        "jobs_data=pd.read_csv('https://raw.githubusercontent.com/dmachlanski/CE888_2022/main/project/data/jobs.csv')"
      ],
      "metadata": {
        "id": "XHmiKxTNnaKK"
      },
      "execution_count": 43,
      "outputs": []
    },
    {
      "cell_type": "markdown",
      "source": [
        "Exploring JOBS data:"
      ],
      "metadata": {
        "id": "WT5NHM4doKg7"
      }
    },
    {
      "cell_type": "code",
      "source": [
        "jobs_data.head()"
      ],
      "metadata": {
        "colab": {
          "base_uri": "https://localhost:8080/",
          "height": 206
        },
        "id": "nYSrs1OXoK3J",
        "outputId": "f38d947d-62a3-444e-90d6-267ff13e7607"
      },
      "execution_count": 44,
      "outputs": [
        {
          "output_type": "execute_result",
          "data": {
            "text/plain": [
              "         x1        x2   x3   x4   x5   x6        x7        x8        x9  \\\n",
              "0 -0.614282  1.464727  0.0  0.0  1.0  0.0  2.393250  2.746196 -0.653311   \n",
              "1 -0.802463  0.101835  0.0  0.0  1.0  0.0  0.109885  0.498271 -0.785284   \n",
              "2 -0.896553 -0.238888  1.0  0.0  1.0  1.0 -0.085212 -0.148097 -0.847312   \n",
              "3 -0.896553 -0.238888  0.0  0.0  0.0  1.0  0.405581  0.325594 -0.847312   \n",
              "4  0.138440 -1.601779  1.0  0.0  1.0  1.0 -0.722531 -0.212734 -0.019840   \n",
              "\n",
              "        x10       x11       x12       x13  x14  x15       x16  x17    t    y  \\\n",
              "0 -0.656913  1.627531  2.462337  2.937244  0.0  0.0  2.843909  0.0  0.0  1.0   \n",
              "1 -0.743407 -0.022502 -0.177193  0.082537  0.0  0.0  0.038422  0.0  0.0  1.0   \n",
              "2 -0.781606 -0.361348 -0.286221 -0.303615  0.0  0.0 -0.191304  0.0  0.0  1.0   \n",
              "3 -0.781606 -0.361348  0.023020 -0.039630  0.0  0.0  0.173108  0.0  0.0  1.0   \n",
              "4 -0.156019 -1.422084 -0.514563 -0.331552  0.0  0.0 -0.779227  0.0  0.0  1.0   \n",
              "\n",
              "     e  \n",
              "0  0.0  \n",
              "1  0.0  \n",
              "2  0.0  \n",
              "3  1.0  \n",
              "4  0.0  "
            ],
            "text/html": [
              "\n",
              "  <div id=\"df-56bc27a6-8b74-4888-a6c7-d5d6efdf0cef\">\n",
              "    <div class=\"colab-df-container\">\n",
              "      <div>\n",
              "<style scoped>\n",
              "    .dataframe tbody tr th:only-of-type {\n",
              "        vertical-align: middle;\n",
              "    }\n",
              "\n",
              "    .dataframe tbody tr th {\n",
              "        vertical-align: top;\n",
              "    }\n",
              "\n",
              "    .dataframe thead th {\n",
              "        text-align: right;\n",
              "    }\n",
              "</style>\n",
              "<table border=\"1\" class=\"dataframe\">\n",
              "  <thead>\n",
              "    <tr style=\"text-align: right;\">\n",
              "      <th></th>\n",
              "      <th>x1</th>\n",
              "      <th>x2</th>\n",
              "      <th>x3</th>\n",
              "      <th>x4</th>\n",
              "      <th>x5</th>\n",
              "      <th>x6</th>\n",
              "      <th>x7</th>\n",
              "      <th>x8</th>\n",
              "      <th>x9</th>\n",
              "      <th>x10</th>\n",
              "      <th>x11</th>\n",
              "      <th>x12</th>\n",
              "      <th>x13</th>\n",
              "      <th>x14</th>\n",
              "      <th>x15</th>\n",
              "      <th>x16</th>\n",
              "      <th>x17</th>\n",
              "      <th>t</th>\n",
              "      <th>y</th>\n",
              "      <th>e</th>\n",
              "    </tr>\n",
              "  </thead>\n",
              "  <tbody>\n",
              "    <tr>\n",
              "      <th>0</th>\n",
              "      <td>-0.614282</td>\n",
              "      <td>1.464727</td>\n",
              "      <td>0.0</td>\n",
              "      <td>0.0</td>\n",
              "      <td>1.0</td>\n",
              "      <td>0.0</td>\n",
              "      <td>2.393250</td>\n",
              "      <td>2.746196</td>\n",
              "      <td>-0.653311</td>\n",
              "      <td>-0.656913</td>\n",
              "      <td>1.627531</td>\n",
              "      <td>2.462337</td>\n",
              "      <td>2.937244</td>\n",
              "      <td>0.0</td>\n",
              "      <td>0.0</td>\n",
              "      <td>2.843909</td>\n",
              "      <td>0.0</td>\n",
              "      <td>0.0</td>\n",
              "      <td>1.0</td>\n",
              "      <td>0.0</td>\n",
              "    </tr>\n",
              "    <tr>\n",
              "      <th>1</th>\n",
              "      <td>-0.802463</td>\n",
              "      <td>0.101835</td>\n",
              "      <td>0.0</td>\n",
              "      <td>0.0</td>\n",
              "      <td>1.0</td>\n",
              "      <td>0.0</td>\n",
              "      <td>0.109885</td>\n",
              "      <td>0.498271</td>\n",
              "      <td>-0.785284</td>\n",
              "      <td>-0.743407</td>\n",
              "      <td>-0.022502</td>\n",
              "      <td>-0.177193</td>\n",
              "      <td>0.082537</td>\n",
              "      <td>0.0</td>\n",
              "      <td>0.0</td>\n",
              "      <td>0.038422</td>\n",
              "      <td>0.0</td>\n",
              "      <td>0.0</td>\n",
              "      <td>1.0</td>\n",
              "      <td>0.0</td>\n",
              "    </tr>\n",
              "    <tr>\n",
              "      <th>2</th>\n",
              "      <td>-0.896553</td>\n",
              "      <td>-0.238888</td>\n",
              "      <td>1.0</td>\n",
              "      <td>0.0</td>\n",
              "      <td>1.0</td>\n",
              "      <td>1.0</td>\n",
              "      <td>-0.085212</td>\n",
              "      <td>-0.148097</td>\n",
              "      <td>-0.847312</td>\n",
              "      <td>-0.781606</td>\n",
              "      <td>-0.361348</td>\n",
              "      <td>-0.286221</td>\n",
              "      <td>-0.303615</td>\n",
              "      <td>0.0</td>\n",
              "      <td>0.0</td>\n",
              "      <td>-0.191304</td>\n",
              "      <td>0.0</td>\n",
              "      <td>0.0</td>\n",
              "      <td>1.0</td>\n",
              "      <td>0.0</td>\n",
              "    </tr>\n",
              "    <tr>\n",
              "      <th>3</th>\n",
              "      <td>-0.896553</td>\n",
              "      <td>-0.238888</td>\n",
              "      <td>0.0</td>\n",
              "      <td>0.0</td>\n",
              "      <td>0.0</td>\n",
              "      <td>1.0</td>\n",
              "      <td>0.405581</td>\n",
              "      <td>0.325594</td>\n",
              "      <td>-0.847312</td>\n",
              "      <td>-0.781606</td>\n",
              "      <td>-0.361348</td>\n",
              "      <td>0.023020</td>\n",
              "      <td>-0.039630</td>\n",
              "      <td>0.0</td>\n",
              "      <td>0.0</td>\n",
              "      <td>0.173108</td>\n",
              "      <td>0.0</td>\n",
              "      <td>0.0</td>\n",
              "      <td>1.0</td>\n",
              "      <td>1.0</td>\n",
              "    </tr>\n",
              "    <tr>\n",
              "      <th>4</th>\n",
              "      <td>0.138440</td>\n",
              "      <td>-1.601779</td>\n",
              "      <td>1.0</td>\n",
              "      <td>0.0</td>\n",
              "      <td>1.0</td>\n",
              "      <td>1.0</td>\n",
              "      <td>-0.722531</td>\n",
              "      <td>-0.212734</td>\n",
              "      <td>-0.019840</td>\n",
              "      <td>-0.156019</td>\n",
              "      <td>-1.422084</td>\n",
              "      <td>-0.514563</td>\n",
              "      <td>-0.331552</td>\n",
              "      <td>0.0</td>\n",
              "      <td>0.0</td>\n",
              "      <td>-0.779227</td>\n",
              "      <td>0.0</td>\n",
              "      <td>0.0</td>\n",
              "      <td>1.0</td>\n",
              "      <td>0.0</td>\n",
              "    </tr>\n",
              "  </tbody>\n",
              "</table>\n",
              "</div>\n",
              "      <button class=\"colab-df-convert\" onclick=\"convertToInteractive('df-56bc27a6-8b74-4888-a6c7-d5d6efdf0cef')\"\n",
              "              title=\"Convert this dataframe to an interactive table.\"\n",
              "              style=\"display:none;\">\n",
              "        \n",
              "  <svg xmlns=\"http://www.w3.org/2000/svg\" height=\"24px\"viewBox=\"0 0 24 24\"\n",
              "       width=\"24px\">\n",
              "    <path d=\"M0 0h24v24H0V0z\" fill=\"none\"/>\n",
              "    <path d=\"M18.56 5.44l.94 2.06.94-2.06 2.06-.94-2.06-.94-.94-2.06-.94 2.06-2.06.94zm-11 1L8.5 8.5l.94-2.06 2.06-.94-2.06-.94L8.5 2.5l-.94 2.06-2.06.94zm10 10l.94 2.06.94-2.06 2.06-.94-2.06-.94-.94-2.06-.94 2.06-2.06.94z\"/><path d=\"M17.41 7.96l-1.37-1.37c-.4-.4-.92-.59-1.43-.59-.52 0-1.04.2-1.43.59L10.3 9.45l-7.72 7.72c-.78.78-.78 2.05 0 2.83L4 21.41c.39.39.9.59 1.41.59.51 0 1.02-.2 1.41-.59l7.78-7.78 2.81-2.81c.8-.78.8-2.07 0-2.86zM5.41 20L4 18.59l7.72-7.72 1.47 1.35L5.41 20z\"/>\n",
              "  </svg>\n",
              "      </button>\n",
              "      \n",
              "  <style>\n",
              "    .colab-df-container {\n",
              "      display:flex;\n",
              "      flex-wrap:wrap;\n",
              "      gap: 12px;\n",
              "    }\n",
              "\n",
              "    .colab-df-convert {\n",
              "      background-color: #E8F0FE;\n",
              "      border: none;\n",
              "      border-radius: 50%;\n",
              "      cursor: pointer;\n",
              "      display: none;\n",
              "      fill: #1967D2;\n",
              "      height: 32px;\n",
              "      padding: 0 0 0 0;\n",
              "      width: 32px;\n",
              "    }\n",
              "\n",
              "    .colab-df-convert:hover {\n",
              "      background-color: #E2EBFA;\n",
              "      box-shadow: 0px 1px 2px rgba(60, 64, 67, 0.3), 0px 1px 3px 1px rgba(60, 64, 67, 0.15);\n",
              "      fill: #174EA6;\n",
              "    }\n",
              "\n",
              "    [theme=dark] .colab-df-convert {\n",
              "      background-color: #3B4455;\n",
              "      fill: #D2E3FC;\n",
              "    }\n",
              "\n",
              "    [theme=dark] .colab-df-convert:hover {\n",
              "      background-color: #434B5C;\n",
              "      box-shadow: 0px 1px 3px 1px rgba(0, 0, 0, 0.15);\n",
              "      filter: drop-shadow(0px 1px 2px rgba(0, 0, 0, 0.3));\n",
              "      fill: #FFFFFF;\n",
              "    }\n",
              "  </style>\n",
              "\n",
              "      <script>\n",
              "        const buttonEl =\n",
              "          document.querySelector('#df-56bc27a6-8b74-4888-a6c7-d5d6efdf0cef button.colab-df-convert');\n",
              "        buttonEl.style.display =\n",
              "          google.colab.kernel.accessAllowed ? 'block' : 'none';\n",
              "\n",
              "        async function convertToInteractive(key) {\n",
              "          const element = document.querySelector('#df-56bc27a6-8b74-4888-a6c7-d5d6efdf0cef');\n",
              "          const dataTable =\n",
              "            await google.colab.kernel.invokeFunction('convertToInteractive',\n",
              "                                                     [key], {});\n",
              "          if (!dataTable) return;\n",
              "\n",
              "          const docLinkHtml = 'Like what you see? Visit the ' +\n",
              "            '<a target=\"_blank\" href=https://colab.research.google.com/notebooks/data_table.ipynb>data table notebook</a>'\n",
              "            + ' to learn more about interactive tables.';\n",
              "          element.innerHTML = '';\n",
              "          dataTable['output_type'] = 'display_data';\n",
              "          await google.colab.output.renderOutput(dataTable, element);\n",
              "          const docLink = document.createElement('div');\n",
              "          docLink.innerHTML = docLinkHtml;\n",
              "          element.appendChild(docLink);\n",
              "        }\n",
              "      </script>\n",
              "    </div>\n",
              "  </div>\n",
              "  "
            ]
          },
          "metadata": {},
          "execution_count": 44
        }
      ]
    },
    {
      "cell_type": "markdown",
      "source": [
        "To check number of rows and columns in JOBS dataset:\n"
      ],
      "metadata": {
        "id": "ZQcKuC-FoeZ0"
      }
    },
    {
      "cell_type": "code",
      "source": [
        "jobs_data.shape"
      ],
      "metadata": {
        "colab": {
          "base_uri": "https://localhost:8080/",
          "height": 38
        },
        "id": "C83ndEeQoZHt",
        "outputId": "1b616f43-f171-471e-d9b9-a7f92221991d"
      },
      "execution_count": 45,
      "outputs": [
        {
          "output_type": "execute_result",
          "data": {
            "text/plain": [
              "(3212, 20)"
            ],
            "image/png": "[encoded data removed]",
            "text/latex": "$\\displaystyle \\left( 3212, \\  20\\right)$"
          },
          "metadata": {},
          "execution_count": 45
        }
      ]
    },
    {
      "cell_type": "markdown",
      "source": [
        "JOBS data has got 20 columns in which columns with names x1 to x17 are input features, t denotes for treatment, y is the outcome, and e denotes Effect.The values for particular columns are extracted using integer-location based indexing and\n",
        "assigning these values to the variables X,T,Yand e respectively."
      ],
      "metadata": {
        "id": "c-ssw3-XoLIN"
      }
    },
    {
      "cell_type": "code",
      "source": [
        "X=jobs_data[['x1','x2','x3','x4','x5','x6','x7','x8','x9','x10','x11','x12','x13','x14','x15','x16','x17']]\n",
        "T=jobs_data.iloc[:,17:18].values\n",
        "Y=jobs_data.iloc[:,18:19].values\n",
        "e=jobs_data.iloc[:,19:20].values"
      ],
      "metadata": {
        "id": "29wvPlCjpF61"
      },
      "execution_count": 46,
      "outputs": []
    },
    {
      "cell_type": "markdown",
      "source": [
        "####Data Pre-processing:\n",
        "\n",
        "Splitting the Jobs data to Training, validation and testing data.First splitting complete dataset to Training and Testing data in 80/20 ratio.Then again splitting training data to Training and Validation data in 80/20 ratio."
      ],
      "metadata": {
        "id": "HBdEkXl3pwgN"
      }
    },
    {
      "cell_type": "code",
      "source": [
        "X_train, X_test, T_train, T_test, Y_train, Y_test,e_train,e_test = train_test_split(X, T, Y,e, test_size=0.2)\n",
        "X_train, X_val,T_train,T_val,Y_train,Y_val,e_train,e_val = train_test_split(X_train,T_train,Y_train,e_train,test_size=0.20)"
      ],
      "metadata": {
        "id": "zVeSEgUjGaiM"
      },
      "execution_count": 47,
      "outputs": []
    },
    {
      "cell_type": "markdown",
      "source": [
        "Checking the shapes of training,Validation,Testing Data\n"
      ],
      "metadata": {
        "id": "nQbr1GyPGhIy"
      }
    },
    {
      "cell_type": "code",
      "source": [
        "print(\"X_train shape: {}\".format(X_train.shape))\n",
        "print(\"X_val shape: {}\".format(X_val.shape))\n",
        "print(\"X_test shape: {}\".format(X_test.shape))\n",
        "print(\"T_train shape: {}\".format(T_train.shape))\n",
        "print(\"T_val shape: {}\".format(T_val.shape))\n",
        "print(\"T_test shape: {}\".format(T_test.shape))\n",
        "print(\"Y_train shape: {}\".format(Y_train.shape))\n",
        "print(\"Y_val shape: {}\".format(Y_val.shape))\n",
        "print(\"Y_test shape: {}\".format(Y_test.shape))\n",
        "print(\"e_train shape: {}\".format(e_train.shape))\n",
        "print(\"e_val shape: {}\".format(e_val.shape))\n",
        "print(\"e_test shape: {}\".format(e_test.shape))"
      ],
      "metadata": {
        "colab": {
          "base_uri": "https://localhost:8080/"
        },
        "id": "0OnfUtO7Hns4",
        "outputId": "a8a17379-af38-4d5e-a20b-e29a872d4b73"
      },
      "execution_count": 48,
      "outputs": [
        {
          "output_type": "stream",
          "name": "stdout",
          "text": [
            "X_train shape: (2055, 17)\n",
            "X_val shape: (514, 17)\n",
            "X_test shape: (643, 17)\n",
            "T_train shape: (2055, 1)\n",
            "T_val shape: (514, 1)\n",
            "T_test shape: (643, 1)\n",
            "Y_train shape: (2055, 1)\n",
            "Y_val shape: (514, 1)\n",
            "Y_test shape: (643, 1)\n",
            "e_train shape: (2055, 1)\n",
            "e_val shape: (514, 1)\n",
            "e_test shape: (643, 1)\n"
          ]
        }
      ]
    },
    {
      "cell_type": "markdown",
      "source": [
        "Plotting histograms of outcome variable and treatment variable:"
      ],
      "metadata": {
        "id": "Yv-iTLmkx0sp"
      }
    },
    {
      "cell_type": "code",
      "source": [
        "plt.hist(Y)"
      ],
      "metadata": {
        "colab": {
          "base_uri": "https://localhost:8080/",
          "height": 338
        },
        "id": "4mWJyFHZIRe3",
        "outputId": "aeb75751-9340-4a64-e2cb-7b085a92ef6f"
      },
      "execution_count": 49,
      "outputs": [
        {
          "output_type": "execute_result",
          "data": {
            "text/plain": [
              "(array([ 482.,    0.,    0.,    0.,    0.,    0.,    0.,    0.,    0.,\n",
              "        2730.]),\n",
              " array([0. , 0.1, 0.2, 0.3, 0.4, 0.5, 0.6, 0.7, 0.8, 0.9, 1. ]),\n",
              " <a list of 10 Patch objects>)"
            ]
          },
          "metadata": {},
          "execution_count": 49
        },
        {
          "output_type": "display_data",
          "data": {
            "text/plain": [
              "<Figure size 432x288 with 1 Axes>"
            ],
            "image/png": "[encoded data removed]"
          },
          "metadata": {
            "needs_background": "light"
          }
        }
      ]
    },
    {
      "cell_type": "code",
      "source": [
        "plt.hist(T)"
      ],
      "metadata": {
        "colab": {
          "base_uri": "https://localhost:8080/",
          "height": 338
        },
        "id": "9cuomLS5Jgbv",
        "outputId": "4bb994d1-7859-4114-8ef7-ff5b66c8d145"
      },
      "execution_count": 50,
      "outputs": [
        {
          "output_type": "execute_result",
          "data": {
            "text/plain": [
              "(array([2915.,    0.,    0.,    0.,    0.,    0.,    0.,    0.,    0.,\n",
              "         297.]),\n",
              " array([0. , 0.1, 0.2, 0.3, 0.4, 0.5, 0.6, 0.7, 0.8, 0.9, 1. ]),\n",
              " <a list of 10 Patch objects>)"
            ]
          },
          "metadata": {},
          "execution_count": 50
        },
        {
          "output_type": "display_data",
          "data": {
            "text/plain": [
              "<Figure size 432x288 with 1 Axes>"
            ],
            "image/png": "[encoded data removed]"
          },
          "metadata": {
            "needs_background": "light"
          }
        }
      ]
    },
    {
      "cell_type": "code",
      "source": [
        "plt.hist(e)"
      ],
      "metadata": {
        "id": "i3qkutFFyXYz",
        "outputId": "795cbe53-0933-463f-c621-5968f81d1101",
        "colab": {
          "base_uri": "https://localhost:8080/",
          "height": 338
        }
      },
      "execution_count": 51,
      "outputs": [
        {
          "output_type": "execute_result",
          "data": {
            "text/plain": [
              "(array([2490.,    0.,    0.,    0.,    0.,    0.,    0.,    0.,    0.,\n",
              "         722.]),\n",
              " array([0. , 0.1, 0.2, 0.3, 0.4, 0.5, 0.6, 0.7, 0.8, 0.9, 1. ]),\n",
              " <a list of 10 Patch objects>)"
            ]
          },
          "metadata": {},
          "execution_count": 51
        },
        {
          "output_type": "display_data",
          "data": {
            "text/plain": [
              "<Figure size 432x288 with 1 Axes>"
            ],
            "image/png": "[encoded data removed]"
          },
          "metadata": {
            "needs_background": "light"
          }
        }
      ]
    },
    {
      "cell_type": "markdown",
      "source": [
        "The above histograms of Y shows that the data is imbalanced. both y and t are binary with 0 and 1 as values."
      ],
      "metadata": {
        "id": "I0_EGv9zI4ty"
      }
    },
    {
      "cell_type": "markdown",
      "source": [
        "Standardizing the input training data X. No standardization required for treatment variable T as the data is binary."
      ],
      "metadata": {
        "id": "UkryyizpJ_8R"
      }
    },
    {
      "cell_type": "code",
      "source": [
        "scaler_x = StandardScaler()\n",
        "X_train = scaler_x.fit_transform(X_train)\n",
        "X_val = scaler_x.transform(X_val)\n",
        "X_test = scaler_x.transform(X_test)"
      ],
      "metadata": {
        "id": "ygjcAqqfIFUu"
      },
      "execution_count": 52,
      "outputs": []
    },
    {
      "cell_type": "markdown",
      "source": [
        "computing the means of effect in training,validation,test data"
      ],
      "metadata": {
        "id": "FKkpsUcEKZh4"
      }
    },
    {
      "cell_type": "code",
      "source": [
        "np.mean(e_train),np.mean(e_val),np.mean(e_test)"
      ],
      "metadata": {
        "colab": {
          "base_uri": "https://localhost:8080/",
          "height": 38
        },
        "id": "W4CIl3IPKOAg",
        "outputId": "08fa3963-bb39-4afe-d74b-2caf237ac5f0"
      },
      "execution_count": 53,
      "outputs": [
        {
          "output_type": "execute_result",
          "data": {
            "text/plain": [
              "(0.22189781021897811, 0.2198443579766537, 0.2379471228615863)"
            ],
            "image/png": "[encoded data removed]",
            "text/latex": "$\\displaystyle \\left( 0.221897810218978, \\  0.219844357976654, \\  0.237947122861586\\right)$"
          },
          "metadata": {},
          "execution_count": 53
        }
      ]
    },
    {
      "cell_type": "markdown",
      "source": [
        "Checking the shape of outcome variable:"
      ],
      "metadata": {
        "id": "zy6WEl1aK_RX"
      }
    },
    {
      "cell_type": "code",
      "source": [
        "Y_train.shape"
      ],
      "metadata": {
        "colab": {
          "base_uri": "https://localhost:8080/",
          "height": 38
        },
        "id": "mBfWC0bxyVSR",
        "outputId": "ebdbc04b-f948-4d36-a6d9-c256849fc7d3"
      },
      "execution_count": 54,
      "outputs": [
        {
          "output_type": "execute_result",
          "data": {
            "text/plain": [
              "(2055, 1)"
            ],
            "image/png": "[encoded data removed]",
            "text/latex": "$\\displaystyle \\left( 2055, \\  1\\right)$"
          },
          "metadata": {},
          "execution_count": 54
        }
      ]
    },
    {
      "cell_type": "markdown",
      "source": [
        "#### 3.Training the models & Making predictions to compute relevant metrics:\n",
        "#### 4.Training classifier to predict propensity scores and using same regressors \n",
        "\n",
        "####Linear Regression"
      ],
      "metadata": {
        "id": "q0waKsW0zcKo"
      }
    },
    {
      "cell_type": "markdown",
      "source": [
        "Training The Model: Using four estimators for training the model:\n",
        "\n",
        "\n",
        "Concatenating X variable with 25 input features and T i.e treatment \n",
        "variable to train the model along with treatment.\n",
        "\n",
        "Fitting Linear Regressor on training data:\n"
      ],
      "metadata": {
        "id": "Jix-aIe6zwYH"
      }
    },
    {
      "cell_type": "code",
      "source": [
        "lr = LinearRegression()\n",
        "XT_train = np.concatenate((X_train,T_train),axis=1)\n",
        "\n",
        "lr.fit(XT_train, Y_train.ravel())\n",
        "\n",
        "#For validation of model, y1_val and y0_val are predicted by setting treatment to 1 and 0 respectively.\n",
        "#Treatment variable (T=0,T=1) is again merged accordingly with X data.\n",
        "#Predicted outcomes for both treated and controlled for each individuals as y1_val,y0_val and obtained treatement effect using e= y1-y0.\n",
        "xt0_val = np.concatenate([X_val, np.zeros_like(T_val)], axis=1)\n",
        "lr_y0_val = lr.predict(xt0_val)\n",
        "\n",
        "xt1_val = np.concatenate([X_val, np.ones_like(T_val)], axis=1)\n",
        "lr_y1_val = lr.predict(xt1_val)\n",
        "\n",
        "lr_t_val = lr_y1_val - lr_y0_val\n",
        "\n",
        "#Predictions using Test data:\n",
        "#y1_test and y0_test are predicted by setting treatment to 1 and 0 respectively.\n",
        "#Setting T to a 1 and 0 for all individuals using zeros_like and one_like and merge with X_test to obtain effect estimates.\n",
        "#Outcomes for both treated and controlled for each individuals as y1_test,y0_test and obtained effect using e=y1-y0.\n",
        "\n",
        "xt0_test = np.concatenate([X_test, np.zeros_like(T_test)], axis=1)\n",
        "lr_y0_test = lr.predict(xt0_test)\n",
        "\n",
        "xt1_test = np.concatenate([X_test, np.ones_like(T_test)], axis=1)\n",
        "lr_y1_test = lr.predict(xt1_test)\n",
        "\n",
        "lr_e_test = lr_y1_test - lr_y0_test\n",
        "\n"
      ],
      "metadata": {
        "id": "68JpFhTWLwSW"
      },
      "execution_count": 55,
      "outputs": []
    },
    {
      "cell_type": "code",
      "source": [
        "####Logistic Regression Classifier with Inverse Propensity Score(IPW):\n",
        "\n",
        "lr_clf = LogisticRegression()\n",
        "weights = get_ps_weights(lr_clf, X_train, T_train)\n",
        "\n",
        "lr_ipsw = LinearRegression()\n",
        "\n",
        "lr_ipsw.fit(XT_train, Y_train.flatten(), sample_weight=weights)\n",
        "\n",
        "lr_ipsw_y0 = lr_ipsw.predict(xt0_val)\n",
        "lr_ipsw_y1 = lr_ipsw.predict(xt1_val)\n",
        "\n",
        "lr_ipsw_e = lr_ipsw_y1 - lr_ipsw_y0\n",
        "\n",
        "lr_ipsw_y0_test = lr_ipsw.predict(xt0_test)\n",
        "lr_ipsw_y1_test = lr_ipsw.predict(xt1_test)\n",
        "\n",
        "lr_ipsw_e_test = lr_ipsw_y1_test - lr_ipsw_y0_test\n"
      ],
      "metadata": {
        "id": "k_nCfLDy_BZ8"
      },
      "execution_count": 56,
      "outputs": []
    },
    {
      "cell_type": "markdown",
      "source": [
        "#### Random Forest Regression\n"
      ],
      "metadata": {
        "id": "PbuPA6BUuDJ6"
      }
    },
    {
      "cell_type": "code",
      "source": [
        "#Fitting Random Forest Regressor on training data:\n",
        "\n",
        "rf = RandomForestRegressor()\n",
        "rf.fit(XT_train, Y_train.flatten())\n",
        "\n",
        "#Using Random Forest Regression model,validating outcomes for both treated and controlled \n",
        "#for each individuals as y1_val,y0_val and obtained treatement effect using e= y1-y0.\n",
        "\n",
        "rf_y0_val = rf.predict(xt0_val)\n",
        "rf_y1_val = rf.predict(xt1_val)\n",
        "\n",
        "rf_e_val = rf_y1_val - rf_y0_val\n",
        "\n",
        "\n",
        "rf_y0_test = rf.predict(xt0_test)\n",
        "rf_y1_test = rf.predict(xt1_test)\n",
        "\n",
        "rf_e_test = rf_y1_test - rf_y0_test"
      ],
      "metadata": {
        "id": "_jZ5sITks1Ll"
      },
      "execution_count": 57,
      "outputs": []
    },
    {
      "cell_type": "markdown",
      "source": [
        "####RandomForestClassifier with Inverse Propensity Score(IPW):"
      ],
      "metadata": {
        "id": "5I4I12jV1rGK"
      }
    },
    {
      "cell_type": "markdown",
      "source": [
        "Training using RandomForestClassifier extending with with the Inverse Propensity Weighting (IPW),to model unit's probability of receiving the treatment, P(ti|xi). This is a classic binary classification problem using input X,treatment T. P(ti|xi)  is called a propensity score.\n",
        "\n",
        "To get the sample weights, get_ps_weights function is called from causalfuncs.py which is available at https://github.com/srigouri/CE888-Causal/blob/main/causalfuncs.py"
      ],
      "metadata": {
        "id": "GoY817am1sPA"
      }
    },
    {
      "cell_type": "code",
      "source": [
        "from causalfuncs import get_ps_weights\n",
        "prop_clf = RandomForestClassifier()\n",
        "weights = get_ps_weights(prop_clf, X_train, T_train)\n",
        "\n",
        "rf_ipsw = RandomForestRegressor()\n",
        "rf_ipsw.fit(XT_train, Y_train.flatten(), sample_weight=weights)"
      ],
      "metadata": {
        "colab": {
          "base_uri": "https://localhost:8080/"
        },
        "id": "WMG01LrD1byT",
        "outputId": "3c1dd10c-2069-40e4-8661-3616e0d5dbf0"
      },
      "execution_count": 58,
      "outputs": [
        {
          "output_type": "execute_result",
          "data": {
            "text/plain": [
              "RandomForestRegressor()"
            ]
          },
          "metadata": {},
          "execution_count": 58
        }
      ]
    },
    {
      "cell_type": "code",
      "source": [
        "rf_ipsw_y0_test =rf_ipsw.predict(xt0_test) \n",
        "rf_ipsw_y1_test =rf_ipsw.predict(xt1_test) \n",
        "\n",
        "rf_ipsw_e_test = rf_ipsw_y1_test - rf_ipsw_y0_test \n"
      ],
      "metadata": {
        "id": "hDQpkyMU1biZ"
      },
      "execution_count": 59,
      "outputs": []
    },
    {
      "cell_type": "markdown",
      "source": [
        "#### Hyper-parameter Tuning:\n",
        "\n",
        "Using GridSearch and RandomForest Classifier."
      ],
      "metadata": {
        "id": "6t7K9tUHfFa2"
      }
    },
    {
      "cell_type": "code",
      "source": [
        "prop_clf.get_params().keys()"
      ],
      "metadata": {
        "id": "zEtTHf2n2rbS",
        "outputId": "26f6d1c6-6c00-4290-9160-39e712b5674a",
        "colab": {
          "base_uri": "https://localhost:8080/"
        }
      },
      "execution_count": 60,
      "outputs": [
        {
          "output_type": "execute_result",
          "data": {
            "text/plain": [
              "dict_keys(['bootstrap', 'ccp_alpha', 'class_weight', 'criterion', 'max_depth', 'max_features', 'max_leaf_nodes', 'max_samples', 'min_impurity_decrease', 'min_samples_leaf', 'min_samples_split', 'min_weight_fraction_leaf', 'n_estimators', 'n_jobs', 'oob_score', 'random_state', 'verbose', 'warm_start'])"
            ]
          },
          "metadata": {},
          "execution_count": 60
        }
      ]
    },
    {
      "cell_type": "markdown",
      "source": [
        "#### 5.X-Learner:\n",
        "  CATE estimator X-learner is a meta-learner implemented via EconML. Used linear regressors and logistic classifiers to model and predict effect. We need not merge inputs and treatment to train the model. "
      ],
      "metadata": {
        "id": "qCiFwe1y_uVy"
      }
    },
    {
      "cell_type": "code",
      "source": [
        "xl = XLearner(models=LinearRegression(), propensity_model=LogisticRegression())\n",
        "xl.fit(Y_train, T_train.flatten(), X=X_train)\n",
        "\n",
        "xl_e_test = xl.effect(X_test)"
      ],
      "metadata": {
        "id": "FLAhShiM_gRO",
        "outputId": "670f3de4-ead8-424d-e19a-3d48f91bb7ea",
        "colab": {
          "base_uri": "https://localhost:8080/"
        }
      },
      "execution_count": 61,
      "outputs": [
        {
          "output_type": "stream",
          "name": "stderr",
          "text": [
            "Function get_feature_names is deprecated; get_feature_names is deprecated in 1.0 and will be removed in 1.2. Please use get_feature_names_out instead.\n"
          ]
        }
      ]
    },
    {
      "cell_type": "markdown",
      "source": [
        "##Evaluation\n",
        "\n",
        "Metrics Chosen: ϵATT  and  Policy_risk \n",
        "\n"
      ],
      "metadata": {
        "id": "T7YAKVrKDIjh"
      }
    },
    {
      "cell_type": "code",
      "source": [
        "# Using 'abs_att' function from causalfuncs.py, Average Treatment Effect on the Treated.\n",
        "lr_att_test = abs_att(lr_e_test.reshape(-1,1),Y_test,T_test,e_test)\n",
        "lr_ipsw_att_test = abs_att(lr_ipsw_e_test.reshape(-1,1),Y_test,T_test,e_test)\n",
        "rf_att_test = abs_att(rf_e_test.reshape(-1,1),Y_test,T_test,e_test)\n",
        "rf_ipsw_att_test = abs_att(rf_ipsw_e_test.reshape(-1,1),Y_test,T_test,e_test)\n",
        "xl_att_test = abs_att(xl_e_test.reshape(-1,1),Y_test,T_test,e_test) \n",
        "\n",
        "# Using 'policy_risk' function from causalfuncs.py, risk of the policy defined by predicted effect.\n",
        "lr_pr_test =policy_risk(lr_e_test.reshape(-1,1),Y_test,T_test,e_test) \n",
        "lr_ipsw_pr_test =policy_risk(lr_ipsw_e_test.reshape(-1,1),Y_test,T_test,e_test) \n",
        "rf_pr_test =policy_risk(rf_e_test.reshape(-1,1),Y_test,T_test,e_test) \n",
        "rf_ipsw_pr_test = policy_risk(rf_ipsw_e_test.reshape(-1,1),Y_test,T_test,e_test) \n",
        "xl_pr_test = policy_risk(xl_e_test.reshape(-1,1),Y_test,T_test,e_test) "
      ],
      "metadata": {
        "id": "Uee_s1YqDaTq"
      },
      "execution_count": 62,
      "outputs": []
    },
    {
      "cell_type": "code",
      "source": [
        "results = []\n",
        "results.append(['LR', lr_att_test, lr_pr_test])\n",
        "results.append(['LR (IPSW)', lr_ipsw_att_test, lr_ipsw_pr_test])\n",
        "results.append(['RF', rf_att_test, rf_pr_test])\n",
        "results.append(['RF (IPSW)', rf_ipsw_att_test, rf_ipsw_pr_test])\n",
        "results.append(['XL', xl_att_test, xl_pr_test])\n",
        "\n",
        "cols = ['Method', 'ATT test', 'Policy_risk test']\n",
        "\n",
        "df_jobs = pd.DataFrame(results, columns=cols)\n",
        "df_jobs"
      ],
      "metadata": {
        "colab": {
          "base_uri": "https://localhost:8080/",
          "height": 206
        },
        "id": "jzNQKGIqPmuf",
        "outputId": "dd3fe61b-acd4-4dd9-a6b5-68387226c275"
      },
      "execution_count": 63,
      "outputs": [
        {
          "output_type": "execute_result",
          "data": {
            "text/plain": [
              "      Method  ATT test  Policy_risk test\n",
              "0         LR  0.084219          0.277778\n",
              "1  LR (IPSW)  0.064369          0.277778\n",
              "2         RF  0.033753          0.179889\n",
              "3  RF (IPSW)  0.048242          0.199079\n",
              "4         XL  0.107174          0.198241"
            ],
            "text/html": [
              "\n",
              "  <div id=\"df-c67489fa-811b-426f-87b5-e55bb4d7355b\">\n",
              "    <div class=\"colab-df-container\">\n",
              "      <div>\n",
              "<style scoped>\n",
              "    .dataframe tbody tr th:only-of-type {\n",
              "        vertical-align: middle;\n",
              "    }\n",
              "\n",
              "    .dataframe tbody tr th {\n",
              "        vertical-align: top;\n",
              "    }\n",
              "\n",
              "    .dataframe thead th {\n",
              "        text-align: right;\n",
              "    }\n",
              "</style>\n",
              "<table border=\"1\" class=\"dataframe\">\n",
              "  <thead>\n",
              "    <tr style=\"text-align: right;\">\n",
              "      <th></th>\n",
              "      <th>Method</th>\n",
              "      <th>ATT test</th>\n",
              "      <th>Policy_risk test</th>\n",
              "    </tr>\n",
              "  </thead>\n",
              "  <tbody>\n",
              "    <tr>\n",
              "      <th>0</th>\n",
              "      <td>LR</td>\n",
              "      <td>0.084219</td>\n",
              "      <td>0.277778</td>\n",
              "    </tr>\n",
              "    <tr>\n",
              "      <th>1</th>\n",
              "      <td>LR (IPSW)</td>\n",
              "      <td>0.064369</td>\n",
              "      <td>0.277778</td>\n",
              "    </tr>\n",
              "    <tr>\n",
              "      <th>2</th>\n",
              "      <td>RF</td>\n",
              "      <td>0.033753</td>\n",
              "      <td>0.179889</td>\n",
              "    </tr>\n",
              "    <tr>\n",
              "      <th>3</th>\n",
              "      <td>RF (IPSW)</td>\n",
              "      <td>0.048242</td>\n",
              "      <td>0.199079</td>\n",
              "    </tr>\n",
              "    <tr>\n",
              "      <th>4</th>\n",
              "      <td>XL</td>\n",
              "      <td>0.107174</td>\n",
              "      <td>0.198241</td>\n",
              "    </tr>\n",
              "  </tbody>\n",
              "</table>\n",
              "</div>\n",
              "      <button class=\"colab-df-convert\" onclick=\"convertToInteractive('df-c67489fa-811b-426f-87b5-e55bb4d7355b')\"\n",
              "              title=\"Convert this dataframe to an interactive table.\"\n",
              "              style=\"display:none;\">\n",
              "        \n",
              "  <svg xmlns=\"http://www.w3.org/2000/svg\" height=\"24px\"viewBox=\"0 0 24 24\"\n",
              "       width=\"24px\">\n",
              "    <path d=\"M0 0h24v24H0V0z\" fill=\"none\"/>\n",
              "    <path d=\"M18.56 5.44l.94 2.06.94-2.06 2.06-.94-2.06-.94-.94-2.06-.94 2.06-2.06.94zm-11 1L8.5 8.5l.94-2.06 2.06-.94-2.06-.94L8.5 2.5l-.94 2.06-2.06.94zm10 10l.94 2.06.94-2.06 2.06-.94-2.06-.94-.94-2.06-.94 2.06-2.06.94z\"/><path d=\"M17.41 7.96l-1.37-1.37c-.4-.4-.92-.59-1.43-.59-.52 0-1.04.2-1.43.59L10.3 9.45l-7.72 7.72c-.78.78-.78 2.05 0 2.83L4 21.41c.39.39.9.59 1.41.59.51 0 1.02-.2 1.41-.59l7.78-7.78 2.81-2.81c.8-.78.8-2.07 0-2.86zM5.41 20L4 18.59l7.72-7.72 1.47 1.35L5.41 20z\"/>\n",
              "  </svg>\n",
              "      </button>\n",
              "      \n",
              "  <style>\n",
              "    .colab-df-container {\n",
              "      display:flex;\n",
              "      flex-wrap:wrap;\n",
              "      gap: 12px;\n",
              "    }\n",
              "\n",
              "    .colab-df-convert {\n",
              "      background-color: #E8F0FE;\n",
              "      border: none;\n",
              "      border-radius: 50%;\n",
              "      cursor: pointer;\n",
              "      display: none;\n",
              "      fill: #1967D2;\n",
              "      height: 32px;\n",
              "      padding: 0 0 0 0;\n",
              "      width: 32px;\n",
              "    }\n",
              "\n",
              "    .colab-df-convert:hover {\n",
              "      background-color: #E2EBFA;\n",
              "      box-shadow: 0px 1px 2px rgba(60, 64, 67, 0.3), 0px 1px 3px 1px rgba(60, 64, 67, 0.15);\n",
              "      fill: #174EA6;\n",
              "    }\n",
              "\n",
              "    [theme=dark] .colab-df-convert {\n",
              "      background-color: #3B4455;\n",
              "      fill: #D2E3FC;\n",
              "    }\n",
              "\n",
              "    [theme=dark] .colab-df-convert:hover {\n",
              "      background-color: #434B5C;\n",
              "      box-shadow: 0px 1px 3px 1px rgba(0, 0, 0, 0.15);\n",
              "      filter: drop-shadow(0px 1px 2px rgba(0, 0, 0, 0.3));\n",
              "      fill: #FFFFFF;\n",
              "    }\n",
              "  </style>\n",
              "\n",
              "      <script>\n",
              "        const buttonEl =\n",
              "          document.querySelector('#df-c67489fa-811b-426f-87b5-e55bb4d7355b button.colab-df-convert');\n",
              "        buttonEl.style.display =\n",
              "          google.colab.kernel.accessAllowed ? 'block' : 'none';\n",
              "\n",
              "        async function convertToInteractive(key) {\n",
              "          const element = document.querySelector('#df-c67489fa-811b-426f-87b5-e55bb4d7355b');\n",
              "          const dataTable =\n",
              "            await google.colab.kernel.invokeFunction('convertToInteractive',\n",
              "                                                     [key], {});\n",
              "          if (!dataTable) return;\n",
              "\n",
              "          const docLinkHtml = 'Like what you see? Visit the ' +\n",
              "            '<a target=\"_blank\" href=https://colab.research.google.com/notebooks/data_table.ipynb>data table notebook</a>'\n",
              "            + ' to learn more about interactive tables.';\n",
              "          element.innerHTML = '';\n",
              "          dataTable['output_type'] = 'display_data';\n",
              "          await google.colab.output.renderOutput(dataTable, element);\n",
              "          const docLink = document.createElement('div');\n",
              "          docLink.innerHTML = docLinkHtml;\n",
              "          element.appendChild(docLink);\n",
              "        }\n",
              "      </script>\n",
              "    </div>\n",
              "  </div>\n",
              "  "
            ]
          },
          "metadata": {},
          "execution_count": 63
        }
      ]
    },
    {
      "cell_type": "code",
      "source": [
        "#### Confidence Intervals"
      ],
      "metadata": {
        "id": "8yGsESx_RJeq"
      },
      "execution_count": 64,
      "outputs": []
    },
    {
      "cell_type": "markdown",
      "source": [
        "Confidence intervals of predicted ATEs"
      ],
      "metadata": {
        "id": "mtaZ_fZwRAV7"
      }
    },
    {
      "cell_type": "code",
      "source": [
        "lr_ate_bounds = mean_ci(lr_e_test)\n",
        "lr_ipsw_ate_bounds = mean_ci(lr_ipsw_e_test)\n",
        "rf_ate_bounds = mean_ci(rf_e_test)\n",
        "rf_ipsw_ate_bounds = mean_ci(rf_ipsw_e_test)\n",
        "xl_ate_bounds = mean_ci(xl_e_test)\n",
        "\n",
        "\n",
        "results = []\n",
        "results.append(['LR', lr_ate_bounds[0], lr_ate_bounds[1], lr_ate_bounds[2]])\n",
        "results.append(['LR (IPSW)', lr_ipsw_ate_bounds[0], lr_ipsw_ate_bounds[1], lr_ipsw_ate_bounds[2]])\n",
        "results.append(['RF', rf_ate_bounds[0], rf_ate_bounds[1], rf_ate_bounds[2]])\n",
        "results.append(['RF (IPSW)', rf_ipsw_ate_bounds[0], rf_ipsw_ate_bounds[1], rf_ipsw_ate_bounds[2]])\n",
        "results.append(['XL', xl_ate_bounds[0], xl_ate_bounds[1], xl_ate_bounds[2]])\n",
        "\n",
        "cols = ['Method', 'ATE mean', 'CI lower', 'CI upper']\n",
        "\n",
        "df2 = pd.DataFrame(results, columns=cols)\n",
        "df2"
      ],
      "metadata": {
        "colab": {
          "base_uri": "https://localhost:8080/",
          "height": 206
        },
        "id": "T1Xk9DTGPmx1",
        "outputId": "80ebadae-e8b1-414f-fb97-e17e9885be03"
      },
      "execution_count": 65,
      "outputs": [
        {
          "output_type": "execute_result",
          "data": {
            "text/plain": [
              "      Method  ATE mean                 CI lower               CI upper\n",
              "0         LR  0.079169                 0.079169               0.079169\n",
              "1  LR (IPSW)  0.059318                 0.059318               0.059318\n",
              "2         RF  0.024755                 0.010076               0.039434\n",
              "3  RF (IPSW)  0.027472                 0.013479               0.041465\n",
              "4         XL  0.044140  [0.0008859081111323788]  [0.08739492355788706]"
            ],
            "text/html": [
              "\n",
              "  <div id=\"df-04761255-adc8-4aa9-9fdc-0fa4b32f547a\">\n",
              "    <div class=\"colab-df-container\">\n",
              "      <div>\n",
              "<style scoped>\n",
              "    .dataframe tbody tr th:only-of-type {\n",
              "        vertical-align: middle;\n",
              "    }\n",
              "\n",
              "    .dataframe tbody tr th {\n",
              "        vertical-align: top;\n",
              "    }\n",
              "\n",
              "    .dataframe thead th {\n",
              "        text-align: right;\n",
              "    }\n",
              "</style>\n",
              "<table border=\"1\" class=\"dataframe\">\n",
              "  <thead>\n",
              "    <tr style=\"text-align: right;\">\n",
              "      <th></th>\n",
              "      <th>Method</th>\n",
              "      <th>ATE mean</th>\n",
              "      <th>CI lower</th>\n",
              "      <th>CI upper</th>\n",
              "    </tr>\n",
              "  </thead>\n",
              "  <tbody>\n",
              "    <tr>\n",
              "      <th>0</th>\n",
              "      <td>LR</td>\n",
              "      <td>0.079169</td>\n",
              "      <td>0.079169</td>\n",
              "      <td>0.079169</td>\n",
              "    </tr>\n",
              "    <tr>\n",
              "      <th>1</th>\n",
              "      <td>LR (IPSW)</td>\n",
              "      <td>0.059318</td>\n",
              "      <td>0.059318</td>\n",
              "      <td>0.059318</td>\n",
              "    </tr>\n",
              "    <tr>\n",
              "      <th>2</th>\n",
              "      <td>RF</td>\n",
              "      <td>0.024755</td>\n",
              "      <td>0.010076</td>\n",
              "      <td>0.039434</td>\n",
              "    </tr>\n",
              "    <tr>\n",
              "      <th>3</th>\n",
              "      <td>RF (IPSW)</td>\n",
              "      <td>0.027472</td>\n",
              "      <td>0.013479</td>\n",
              "      <td>0.041465</td>\n",
              "    </tr>\n",
              "    <tr>\n",
              "      <th>4</th>\n",
              "      <td>XL</td>\n",
              "      <td>0.044140</td>\n",
              "      <td>[0.0008859081111323788]</td>\n",
              "      <td>[0.08739492355788706]</td>\n",
              "    </tr>\n",
              "  </tbody>\n",
              "</table>\n",
              "</div>\n",
              "      <button class=\"colab-df-convert\" onclick=\"convertToInteractive('df-04761255-adc8-4aa9-9fdc-0fa4b32f547a')\"\n",
              "              title=\"Convert this dataframe to an interactive table.\"\n",
              "              style=\"display:none;\">\n",
              "        \n",
              "  <svg xmlns=\"http://www.w3.org/2000/svg\" height=\"24px\"viewBox=\"0 0 24 24\"\n",
              "       width=\"24px\">\n",
              "    <path d=\"M0 0h24v24H0V0z\" fill=\"none\"/>\n",
              "    <path d=\"M18.56 5.44l.94 2.06.94-2.06 2.06-.94-2.06-.94-.94-2.06-.94 2.06-2.06.94zm-11 1L8.5 8.5l.94-2.06 2.06-.94-2.06-.94L8.5 2.5l-.94 2.06-2.06.94zm10 10l.94 2.06.94-2.06 2.06-.94-2.06-.94-.94-2.06-.94 2.06-2.06.94z\"/><path d=\"M17.41 7.96l-1.37-1.37c-.4-.4-.92-.59-1.43-.59-.52 0-1.04.2-1.43.59L10.3 9.45l-7.72 7.72c-.78.78-.78 2.05 0 2.83L4 21.41c.39.39.9.59 1.41.59.51 0 1.02-.2 1.41-.59l7.78-7.78 2.81-2.81c.8-.78.8-2.07 0-2.86zM5.41 20L4 18.59l7.72-7.72 1.47 1.35L5.41 20z\"/>\n",
              "  </svg>\n",
              "      </button>\n",
              "      \n",
              "  <style>\n",
              "    .colab-df-container {\n",
              "      display:flex;\n",
              "      flex-wrap:wrap;\n",
              "      gap: 12px;\n",
              "    }\n",
              "\n",
              "    .colab-df-convert {\n",
              "      background-color: #E8F0FE;\n",
              "      border: none;\n",
              "      border-radius: 50%;\n",
              "      cursor: pointer;\n",
              "      display: none;\n",
              "      fill: #1967D2;\n",
              "      height: 32px;\n",
              "      padding: 0 0 0 0;\n",
              "      width: 32px;\n",
              "    }\n",
              "\n",
              "    .colab-df-convert:hover {\n",
              "      background-color: #E2EBFA;\n",
              "      box-shadow: 0px 1px 2px rgba(60, 64, 67, 0.3), 0px 1px 3px 1px rgba(60, 64, 67, 0.15);\n",
              "      fill: #174EA6;\n",
              "    }\n",
              "\n",
              "    [theme=dark] .colab-df-convert {\n",
              "      background-color: #3B4455;\n",
              "      fill: #D2E3FC;\n",
              "    }\n",
              "\n",
              "    [theme=dark] .colab-df-convert:hover {\n",
              "      background-color: #434B5C;\n",
              "      box-shadow: 0px 1px 3px 1px rgba(0, 0, 0, 0.15);\n",
              "      filter: drop-shadow(0px 1px 2px rgba(0, 0, 0, 0.3));\n",
              "      fill: #FFFFFF;\n",
              "    }\n",
              "  </style>\n",
              "\n",
              "      <script>\n",
              "        const buttonEl =\n",
              "          document.querySelector('#df-04761255-adc8-4aa9-9fdc-0fa4b32f547a button.colab-df-convert');\n",
              "        buttonEl.style.display =\n",
              "          google.colab.kernel.accessAllowed ? 'block' : 'none';\n",
              "\n",
              "        async function convertToInteractive(key) {\n",
              "          const element = document.querySelector('#df-04761255-adc8-4aa9-9fdc-0fa4b32f547a');\n",
              "          const dataTable =\n",
              "            await google.colab.kernel.invokeFunction('convertToInteractive',\n",
              "                                                     [key], {});\n",
              "          if (!dataTable) return;\n",
              "\n",
              "          const docLinkHtml = 'Like what you see? Visit the ' +\n",
              "            '<a target=\"_blank\" href=https://colab.research.google.com/notebooks/data_table.ipynb>data table notebook</a>'\n",
              "            + ' to learn more about interactive tables.';\n",
              "          element.innerHTML = '';\n",
              "          dataTable['output_type'] = 'display_data';\n",
              "          await google.colab.output.renderOutput(dataTable, element);\n",
              "          const docLink = document.createElement('div');\n",
              "          docLink.innerHTML = docLinkHtml;\n",
              "          element.appendChild(docLink);\n",
              "        }\n",
              "      </script>\n",
              "    </div>\n",
              "  </div>\n",
              "  "
            ]
          },
          "metadata": {},
          "execution_count": 65
        }
      ]
    },
    {
      "cell_type": "markdown",
      "source": [
        "#### Visualizations"
      ],
      "metadata": {
        "id": "enk8K1QrRqL9"
      }
    },
    {
      "cell_type": "markdown",
      "source": [
        "Box plot showing treatment effect with different models:\n"
      ],
      "metadata": {
        "id": "E7rl0VyZSgn5"
      }
    },
    {
      "cell_type": "code",
      "source": [
        "plt.figure()\n",
        "plt.boxplot([lr_e_test,lr_ipsw_e_test,rf_e_test, rf_ipsw_e_test, xl_e_test.flatten()], labels=['LR','LR(IPSW)','RF', 'RF (IPSW)', 'X-learner'])\n",
        "plt.ylabel('Treatment Effect')\n",
        "\n",
        "plt.show()"
      ],
      "metadata": {
        "colab": {
          "base_uri": "https://localhost:8080/",
          "height": 265
        },
        "id": "6BP2G8mYRyH0",
        "outputId": "47bc05ae-e1d8-4ee2-fcea-f69a20a7c1bc"
      },
      "execution_count": 66,
      "outputs": [
        {
          "output_type": "display_data",
          "data": {
            "text/plain": [
              "<Figure size 432x288 with 1 Axes>"
            ],
            "image/png": "[encoded data removed]"
          },
          "metadata": {
            "needs_background": "light"
          }
        }
      ]
    },
    {
      "cell_type": "markdown",
      "source": [
        "Scatter plot showing treatment effect with different models:"
      ],
      "metadata": {
        "id": "2CA9Vcm8Sq_i"
      }
    },
    {
      "cell_type": "code",
      "source": [
        "plt.figure(figsize=(12, 10))\n",
        "m_size = 10\n",
        "plt.scatter(Y_test,lr_e_test, label=\"LR\", s=m_size)\n",
        "plt.scatter(Y_test,lr_ipsw_e_test, label=\"LR (IPSW)\", s=m_size)\n",
        "plt.scatter(Y_test,rf_e_test, label=\"RF\", s=m_size)\n",
        "plt.scatter(Y_test,rf_ipsw_e_test, label=\"RF (IPSW)\", s=m_size)\n",
        "plt.scatter(Y_test,xl_e_test, label=\"X-learner\", s=m_size)\n",
        "plt.xlabel('X')\n",
        "plt.ylabel('Treatment Effect')\n",
        "plt.legend()\n",
        "plt.show()"
      ],
      "metadata": {
        "colab": {
          "base_uri": "https://localhost:8080/",
          "height": 606
        },
        "id": "t1wkMupxSNVa",
        "outputId": "7b350044-ad78-4f26-fb2c-9d4b15ac1ff1"
      },
      "execution_count": 67,
      "outputs": [
        {
          "output_type": "display_data",
          "data": {
            "text/plain": [
              "<Figure size 864x720 with 1 Axes>"
            ],
            "image/png": "[encoded data removed]"
          },
          "metadata": {
            "needs_background": "light"
          }
        }
      ]
    }
  ]
}