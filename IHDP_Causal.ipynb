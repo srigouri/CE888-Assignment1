{
  "nbformat": 4,
  "nbformat_minor": 0,
  "metadata": {
    "colab": {
      "name": "IHDP_Causal.ipynb",
      "provenance": [],
      "collapsed_sections": [],
      "mount_file_id": "1PcLXUQ5woDtcHCODIFYmhBAHZaNaoACh",
      "authorship_tag": "ABX9TyNrPAA4OBM2VTkygzmnuP5Z",
      "include_colab_link": true
    },
    "kernelspec": {
      "name": "python3",
      "display_name": "Python 3"
    },
    "language_info": {
      "name": "python"
    }
  },
  "cells": [
    {
      "cell_type": "markdown",
      "metadata": {
        "id": "view-in-github",
        "colab_type": "text"
      },
      "source": [
        "<a href=\"https://colab.research.google.com/github/srigouri/CE888-CausalInference-Assignment2/blob/main/IHDP_Causal.ipynb\" target=\"_parent\"><img src=\"https://colab.research.google.com/assets/colab-badge.svg\" alt=\"Open In Colab\"/></a>"
      ]
    },
    {
      "cell_type": "markdown",
      "source": [
        "# Causal Inference on IHDP Dataset:\n",
        "\n",
        "---\n",
        "Description:\n",
        "\n",
        "Using Random Forest Regression,Random forest with Inverse Propensity Weighting (IPW), CATE estimator X-Learner with RandomForest as base learner to estimate causal effects in IHDP data.\n",
        "\n",
        "-(Reference: CE888 Lab4 Task)\n",
        "\n",
        "-Evaluation metrics are called from causalfuncs.py (Reference: https://github.com/dmachlanski/CE888_2022/blob/main/project/metrics.py)\n",
        "\n",
        "-Data source: https://github.com/dmachlanski/CE888_2022/tree/main/project/data"
      ],
      "metadata": {
        "id": "9OSsrROlWBVd"
      }
    },
    {
      "cell_type": "markdown",
      "source": [
        "#### Packages"
      ],
      "metadata": {
        "id": "BWZrrjVvaDS8"
      }
    },
    {
      "cell_type": "markdown",
      "source": [
        "Loading required packages:"
      ],
      "metadata": {
        "id": "yKAD77u8WoAP"
      }
    },
    {
      "cell_type": "code",
      "execution_count": 37,
      "metadata": {
        "colab": {
          "base_uri": "https://localhost:8080/"
        },
        "id": "mISJzQwUV4t-",
        "outputId": "518ec1a6-8890-414e-84fa-306064976cbe"
      },
      "outputs": [
        {
          "output_type": "stream",
          "name": "stdout",
          "text": [
            "Requirement already satisfied: econml in /usr/local/lib/python3.7/dist-packages (0.13.0)\n",
            "Requirement already satisfied: lightgbm in /usr/local/lib/python3.7/dist-packages (from econml) (2.2.3)\n",
            "Requirement already satisfied: numpy in /usr/local/lib/python3.7/dist-packages (from econml) (1.21.6)\n",
            "Requirement already satisfied: shap<0.40.0,>=0.38.1 in /usr/local/lib/python3.7/dist-packages (from econml) (0.39.0)\n",
            "Requirement already satisfied: scipy>1.4.0 in /usr/local/lib/python3.7/dist-packages (from econml) (1.4.1)\n",
            "Requirement already satisfied: scikit-learn>0.22.0 in /usr/local/lib/python3.7/dist-packages (from econml) (1.0.2)\n",
            "Requirement already satisfied: pandas in /usr/local/lib/python3.7/dist-packages (from econml) (1.3.5)\n",
            "Requirement already satisfied: dowhy<0.7 in /usr/local/lib/python3.7/dist-packages (from econml) (0.6)\n",
            "Requirement already satisfied: statsmodels>=0.10 in /usr/local/lib/python3.7/dist-packages (from econml) (0.10.2)\n",
            "Requirement already satisfied: sparse in /usr/local/lib/python3.7/dist-packages (from econml) (0.13.0)\n",
            "Requirement already satisfied: joblib>=0.13.0 in /usr/local/lib/python3.7/dist-packages (from econml) (1.1.0)\n",
            "Requirement already satisfied: networkx>=2.0 in /usr/local/lib/python3.7/dist-packages (from dowhy<0.7->econml) (2.6.3)\n",
            "Requirement already satisfied: pydot>=1.4 in /usr/local/lib/python3.7/dist-packages (from dowhy<0.7->econml) (1.4.2)\n",
            "Requirement already satisfied: sympy>=1.4 in /usr/local/lib/python3.7/dist-packages (from dowhy<0.7->econml) (1.7.1)\n",
            "Requirement already satisfied: python-dateutil>=2.7.3 in /usr/local/lib/python3.7/dist-packages (from pandas->econml) (2.8.2)\n",
            "Requirement already satisfied: pytz>=2017.3 in /usr/local/lib/python3.7/dist-packages (from pandas->econml) (2022.1)\n",
            "Requirement already satisfied: pyparsing>=2.1.4 in /usr/local/lib/python3.7/dist-packages (from pydot>=1.4->dowhy<0.7->econml) (3.0.8)\n",
            "Requirement already satisfied: six>=1.5 in /usr/local/lib/python3.7/dist-packages (from python-dateutil>=2.7.3->pandas->econml) (1.15.0)\n",
            "Requirement already satisfied: threadpoolctl>=2.0.0 in /usr/local/lib/python3.7/dist-packages (from scikit-learn>0.22.0->econml) (3.1.0)\n",
            "Requirement already satisfied: cloudpickle in /usr/local/lib/python3.7/dist-packages (from shap<0.40.0,>=0.38.1->econml) (1.3.0)\n",
            "Requirement already satisfied: slicer==0.0.7 in /usr/local/lib/python3.7/dist-packages (from shap<0.40.0,>=0.38.1->econml) (0.0.7)\n",
            "Requirement already satisfied: numba in /usr/local/lib/python3.7/dist-packages (from shap<0.40.0,>=0.38.1->econml) (0.51.2)\n",
            "Requirement already satisfied: tqdm>4.25.0 in /usr/local/lib/python3.7/dist-packages (from shap<0.40.0,>=0.38.1->econml) (4.64.0)\n",
            "Requirement already satisfied: patsy>=0.4.0 in /usr/local/lib/python3.7/dist-packages (from statsmodels>=0.10->econml) (0.5.2)\n",
            "Requirement already satisfied: mpmath>=0.19 in /usr/local/lib/python3.7/dist-packages (from sympy>=1.4->dowhy<0.7->econml) (1.2.1)\n",
            "Requirement already satisfied: setuptools in /usr/local/lib/python3.7/dist-packages (from numba->shap<0.40.0,>=0.38.1->econml) (57.4.0)\n",
            "Requirement already satisfied: llvmlite<0.35,>=0.34.0.dev0 in /usr/local/lib/python3.7/dist-packages (from numba->shap<0.40.0,>=0.38.1->econml) (0.34.0)\n"
          ]
        }
      ],
      "source": [
        "!pip install econml"
      ]
    },
    {
      "cell_type": "markdown",
      "source": [
        "Importing Libraries:\n",
        "\n",
        "\n",
        "\n"
      ],
      "metadata": {
        "id": "4707MssBWB25"
      }
    },
    {
      "cell_type": "code",
      "source": [
        "from econml.metalearners import XLearner\n",
        "from sklearn.ensemble import RandomForestRegressor, RandomForestClassifier\n",
        "from sklearn.model_selection import train_test_split\n",
        "from sklearn.preprocessing import StandardScaler\n",
        "import numpy as np\n",
        "import pandas as pd\n",
        "import scipy.stats as st\n",
        "import matplotlib.pyplot as plt\n",
        "from sklearn.metrics import mean_squared_error,accuracy_score\n",
        "import seaborn as sns\n",
        "from causalfuncs import *\n",
        "from sklearn.model_selection import GridSearchCV\n",
        "from sklearn.model_selection import cross_val_score\n"
      ],
      "metadata": {
        "id": "TTl2e2LIV--e"
      },
      "execution_count": 38,
      "outputs": []
    },
    {
      "cell_type": "markdown",
      "source": [
        "#### Data"
      ],
      "metadata": {
        "id": "NaFrrH0-Z-Xb"
      }
    },
    {
      "cell_type": "markdown",
      "source": [
        "Loading IHDP Data from https://raw.githubusercontent.com/dmachlanski/CE888_2022/main/project/data/ihdp.csv:"
      ],
      "metadata": {
        "id": "oXOlx3AAFFO3"
      }
    },
    {
      "cell_type": "code",
      "source": [
        "ihdp_data=pd.read_csv('https://raw.githubusercontent.com/dmachlanski/CE888_2022/main/project/data/ihdp.csv')"
      ],
      "metadata": {
        "id": "HjPsZc8DXoaJ"
      },
      "execution_count": 39,
      "outputs": []
    },
    {
      "cell_type": "markdown",
      "source": [
        "Exploring the IHDP Data:"
      ],
      "metadata": {
        "id": "yidwgRcmX7l6"
      }
    },
    {
      "cell_type": "code",
      "source": [
        "ihdp_data.head()"
      ],
      "metadata": {
        "colab": {
          "base_uri": "https://localhost:8080/",
          "height": 299
        },
        "id": "wwbDIIhhX2uH",
        "outputId": "52fb051f-3792-42d0-a214-a8777aa2dfb2"
      },
      "execution_count": 40,
      "outputs": [
        {
          "output_type": "execute_result",
          "data": {
            "text/plain": [
              "         x1        x2        x3        x4        x5        x6   x7   x8   x9  \\\n",
              "0  1.397395  0.996346 -1.105624 -0.879606  0.308569 -1.023402  1.0  0.0  0.0   \n",
              "1  0.269033  0.196818  0.383828  0.161703 -0.629189  1.460832  1.0  0.0  1.0   \n",
              "2  1.051537  1.795874 -1.105624  0.161703 -0.629189  0.963985  1.0  0.0  1.0   \n",
              "3  0.662446  0.196818 -0.733261 -0.879606  0.371086 -0.692171  1.0  0.0  0.0   \n",
              "4  0.856992  1.795874  0.011465 -0.879606  0.558638  0.301522  0.0  1.0  1.0   \n",
              "\n",
              "   x10  ...  x20  x21  x22  x23  x24  x25    t        yf       ycf       ite  \n",
              "0  0.0  ...  0.0  0.0  0.0  0.0  0.0  1.0  1.0  4.771232 -0.298509  4.657928  \n",
              "1  0.0  ...  0.0  0.0  0.0  0.0  0.0  0.0  0.0  2.956273  5.783770  3.428604  \n",
              "2  1.0  ...  0.0  0.0  0.0  0.0  0.0  1.0  0.0  4.164164  7.055789  3.658195  \n",
              "3  0.0  ...  1.0  0.0  0.0  0.0  0.0  0.0  1.0  6.172307  1.379697  4.585505  \n",
              "4  0.0  ...  0.0  0.0  0.0  0.0  0.0  0.0  1.0  7.834469  2.747986  4.265591  \n",
              "\n",
              "[5 rows x 29 columns]"
            ],
            "text/html": [
              "\n",
              "  <div id=\"df-d6b5f130-9286-4987-b44c-c89436e573f2\">\n",
              "    <div class=\"colab-df-container\">\n",
              "      <div>\n",
              "<style scoped>\n",
              "    .dataframe tbody tr th:only-of-type {\n",
              "        vertical-align: middle;\n",
              "    }\n",
              "\n",
              "    .dataframe tbody tr th {\n",
              "        vertical-align: top;\n",
              "    }\n",
              "\n",
              "    .dataframe thead th {\n",
              "        text-align: right;\n",
              "    }\n",
              "</style>\n",
              "<table border=\"1\" class=\"dataframe\">\n",
              "  <thead>\n",
              "    <tr style=\"text-align: right;\">\n",
              "      <th></th>\n",
              "      <th>x1</th>\n",
              "      <th>x2</th>\n",
              "      <th>x3</th>\n",
              "      <th>x4</th>\n",
              "      <th>x5</th>\n",
              "      <th>x6</th>\n",
              "      <th>x7</th>\n",
              "      <th>x8</th>\n",
              "      <th>x9</th>\n",
              "      <th>x10</th>\n",
              "      <th>...</th>\n",
              "      <th>x20</th>\n",
              "      <th>x21</th>\n",
              "      <th>x22</th>\n",
              "      <th>x23</th>\n",
              "      <th>x24</th>\n",
              "      <th>x25</th>\n",
              "      <th>t</th>\n",
              "      <th>yf</th>\n",
              "      <th>ycf</th>\n",
              "      <th>ite</th>\n",
              "    </tr>\n",
              "  </thead>\n",
              "  <tbody>\n",
              "    <tr>\n",
              "      <th>0</th>\n",
              "      <td>1.397395</td>\n",
              "      <td>0.996346</td>\n",
              "      <td>-1.105624</td>\n",
              "      <td>-0.879606</td>\n",
              "      <td>0.308569</td>\n",
              "      <td>-1.023402</td>\n",
              "      <td>1.0</td>\n",
              "      <td>0.0</td>\n",
              "      <td>0.0</td>\n",
              "      <td>0.0</td>\n",
              "      <td>...</td>\n",
              "      <td>0.0</td>\n",
              "      <td>0.0</td>\n",
              "      <td>0.0</td>\n",
              "      <td>0.0</td>\n",
              "      <td>0.0</td>\n",
              "      <td>1.0</td>\n",
              "      <td>1.0</td>\n",
              "      <td>4.771232</td>\n",
              "      <td>-0.298509</td>\n",
              "      <td>4.657928</td>\n",
              "    </tr>\n",
              "    <tr>\n",
              "      <th>1</th>\n",
              "      <td>0.269033</td>\n",
              "      <td>0.196818</td>\n",
              "      <td>0.383828</td>\n",
              "      <td>0.161703</td>\n",
              "      <td>-0.629189</td>\n",
              "      <td>1.460832</td>\n",
              "      <td>1.0</td>\n",
              "      <td>0.0</td>\n",
              "      <td>1.0</td>\n",
              "      <td>0.0</td>\n",
              "      <td>...</td>\n",
              "      <td>0.0</td>\n",
              "      <td>0.0</td>\n",
              "      <td>0.0</td>\n",
              "      <td>0.0</td>\n",
              "      <td>0.0</td>\n",
              "      <td>0.0</td>\n",
              "      <td>0.0</td>\n",
              "      <td>2.956273</td>\n",
              "      <td>5.783770</td>\n",
              "      <td>3.428604</td>\n",
              "    </tr>\n",
              "    <tr>\n",
              "      <th>2</th>\n",
              "      <td>1.051537</td>\n",
              "      <td>1.795874</td>\n",
              "      <td>-1.105624</td>\n",
              "      <td>0.161703</td>\n",
              "      <td>-0.629189</td>\n",
              "      <td>0.963985</td>\n",
              "      <td>1.0</td>\n",
              "      <td>0.0</td>\n",
              "      <td>1.0</td>\n",
              "      <td>1.0</td>\n",
              "      <td>...</td>\n",
              "      <td>0.0</td>\n",
              "      <td>0.0</td>\n",
              "      <td>0.0</td>\n",
              "      <td>0.0</td>\n",
              "      <td>0.0</td>\n",
              "      <td>1.0</td>\n",
              "      <td>0.0</td>\n",
              "      <td>4.164164</td>\n",
              "      <td>7.055789</td>\n",
              "      <td>3.658195</td>\n",
              "    </tr>\n",
              "    <tr>\n",
              "      <th>3</th>\n",
              "      <td>0.662446</td>\n",
              "      <td>0.196818</td>\n",
              "      <td>-0.733261</td>\n",
              "      <td>-0.879606</td>\n",
              "      <td>0.371086</td>\n",
              "      <td>-0.692171</td>\n",
              "      <td>1.0</td>\n",
              "      <td>0.0</td>\n",
              "      <td>0.0</td>\n",
              "      <td>0.0</td>\n",
              "      <td>...</td>\n",
              "      <td>1.0</td>\n",
              "      <td>0.0</td>\n",
              "      <td>0.0</td>\n",
              "      <td>0.0</td>\n",
              "      <td>0.0</td>\n",
              "      <td>0.0</td>\n",
              "      <td>1.0</td>\n",
              "      <td>6.172307</td>\n",
              "      <td>1.379697</td>\n",
              "      <td>4.585505</td>\n",
              "    </tr>\n",
              "    <tr>\n",
              "      <th>4</th>\n",
              "      <td>0.856992</td>\n",
              "      <td>1.795874</td>\n",
              "      <td>0.011465</td>\n",
              "      <td>-0.879606</td>\n",
              "      <td>0.558638</td>\n",
              "      <td>0.301522</td>\n",
              "      <td>0.0</td>\n",
              "      <td>1.0</td>\n",
              "      <td>1.0</td>\n",
              "      <td>0.0</td>\n",
              "      <td>...</td>\n",
              "      <td>0.0</td>\n",
              "      <td>0.0</td>\n",
              "      <td>0.0</td>\n",
              "      <td>0.0</td>\n",
              "      <td>0.0</td>\n",
              "      <td>0.0</td>\n",
              "      <td>1.0</td>\n",
              "      <td>7.834469</td>\n",
              "      <td>2.747986</td>\n",
              "      <td>4.265591</td>\n",
              "    </tr>\n",
              "  </tbody>\n",
              "</table>\n",
              "<p>5 rows × 29 columns</p>\n",
              "</div>\n",
              "      <button class=\"colab-df-convert\" onclick=\"convertToInteractive('df-d6b5f130-9286-4987-b44c-c89436e573f2')\"\n",
              "              title=\"Convert this dataframe to an interactive table.\"\n",
              "              style=\"display:none;\">\n",
              "        \n",
              "  <svg xmlns=\"http://www.w3.org/2000/svg\" height=\"24px\"viewBox=\"0 0 24 24\"\n",
              "       width=\"24px\">\n",
              "    <path d=\"M0 0h24v24H0V0z\" fill=\"none\"/>\n",
              "    <path d=\"M18.56 5.44l.94 2.06.94-2.06 2.06-.94-2.06-.94-.94-2.06-.94 2.06-2.06.94zm-11 1L8.5 8.5l.94-2.06 2.06-.94-2.06-.94L8.5 2.5l-.94 2.06-2.06.94zm10 10l.94 2.06.94-2.06 2.06-.94-2.06-.94-.94-2.06-.94 2.06-2.06.94z\"/><path d=\"M17.41 7.96l-1.37-1.37c-.4-.4-.92-.59-1.43-.59-.52 0-1.04.2-1.43.59L10.3 9.45l-7.72 7.72c-.78.78-.78 2.05 0 2.83L4 21.41c.39.39.9.59 1.41.59.51 0 1.02-.2 1.41-.59l7.78-7.78 2.81-2.81c.8-.78.8-2.07 0-2.86zM5.41 20L4 18.59l7.72-7.72 1.47 1.35L5.41 20z\"/>\n",
              "  </svg>\n",
              "      </button>\n",
              "      \n",
              "  <style>\n",
              "    .colab-df-container {\n",
              "      display:flex;\n",
              "      flex-wrap:wrap;\n",
              "      gap: 12px;\n",
              "    }\n",
              "\n",
              "    .colab-df-convert {\n",
              "      background-color: #E8F0FE;\n",
              "      border: none;\n",
              "      border-radius: 50%;\n",
              "      cursor: pointer;\n",
              "      display: none;\n",
              "      fill: #1967D2;\n",
              "      height: 32px;\n",
              "      padding: 0 0 0 0;\n",
              "      width: 32px;\n",
              "    }\n",
              "\n",
              "    .colab-df-convert:hover {\n",
              "      background-color: #E2EBFA;\n",
              "      box-shadow: 0px 1px 2px rgba(60, 64, 67, 0.3), 0px 1px 3px 1px rgba(60, 64, 67, 0.15);\n",
              "      fill: #174EA6;\n",
              "    }\n",
              "\n",
              "    [theme=dark] .colab-df-convert {\n",
              "      background-color: #3B4455;\n",
              "      fill: #D2E3FC;\n",
              "    }\n",
              "\n",
              "    [theme=dark] .colab-df-convert:hover {\n",
              "      background-color: #434B5C;\n",
              "      box-shadow: 0px 1px 3px 1px rgba(0, 0, 0, 0.15);\n",
              "      filter: drop-shadow(0px 1px 2px rgba(0, 0, 0, 0.3));\n",
              "      fill: #FFFFFF;\n",
              "    }\n",
              "  </style>\n",
              "\n",
              "      <script>\n",
              "        const buttonEl =\n",
              "          document.querySelector('#df-d6b5f130-9286-4987-b44c-c89436e573f2 button.colab-df-convert');\n",
              "        buttonEl.style.display =\n",
              "          google.colab.kernel.accessAllowed ? 'block' : 'none';\n",
              "\n",
              "        async function convertToInteractive(key) {\n",
              "          const element = document.querySelector('#df-d6b5f130-9286-4987-b44c-c89436e573f2');\n",
              "          const dataTable =\n",
              "            await google.colab.kernel.invokeFunction('convertToInteractive',\n",
              "                                                     [key], {});\n",
              "          if (!dataTable) return;\n",
              "\n",
              "          const docLinkHtml = 'Like what you see? Visit the ' +\n",
              "            '<a target=\"_blank\" href=https://colab.research.google.com/notebooks/data_table.ipynb>data table notebook</a>'\n",
              "            + ' to learn more about interactive tables.';\n",
              "          element.innerHTML = '';\n",
              "          dataTable['output_type'] = 'display_data';\n",
              "          await google.colab.output.renderOutput(dataTable, element);\n",
              "          const docLink = document.createElement('div');\n",
              "          docLink.innerHTML = docLinkHtml;\n",
              "          element.appendChild(docLink);\n",
              "        }\n",
              "      </script>\n",
              "    </div>\n",
              "  </div>\n",
              "  "
            ]
          },
          "metadata": {},
          "execution_count": 40
        }
      ]
    },
    {
      "cell_type": "markdown",
      "source": [
        "To check number of rows and columns in IHDP dataset:\n"
      ],
      "metadata": {
        "id": "oBrkCfedYUch"
      }
    },
    {
      "cell_type": "code",
      "source": [
        "ihdp_data.shape"
      ],
      "metadata": {
        "colab": {
          "base_uri": "https://localhost:8080/",
          "height": 38
        },
        "id": "NLxV0fWpYUwH",
        "outputId": "e6e57217-d320-4cd7-8cf6-b7aa42b1142e"
      },
      "execution_count": 41,
      "outputs": [
        {
          "output_type": "execute_result",
          "data": {
            "text/plain": [
              "(747, 29)"
            ],
            "image/png": "[encoded data removed]",
            "text/latex": "$\\displaystyle \\left( 747, \\  29\\right)$"
          },
          "metadata": {},
          "execution_count": 41
        }
      ]
    },
    {
      "cell_type": "markdown",
      "source": [
        "\n",
        "IHDP data has got 29 columns in which columns with names x1 to x25 are input features,t denotes for treatment,yf is the factual outcome,ycf is the counterfactual outcome and ite is the Individual Treatment Effect.The values for particular columns are extracted using integer-location based indexing and\n",
        "assigning these values to the variables X,T,Yf,Ycf and ite respectively.\n",
        "\n"
      ],
      "metadata": {
        "id": "IoIS9cWhYU_S"
      }
    },
    {
      "cell_type": "code",
      "source": [
        "X=ihdp_data[['x1','x2','x3','x4','x5','x6','x7','x8','x9','x10','x11','x12','x13','x14','x15','x16','x17','x18','x19','x20','x21','x22','x23','x24','x25']]\n",
        "T=ihdp_data.iloc[:,25:26].values\n",
        "Yf=ihdp_data.iloc[:,26:27].values\n",
        "Ycf=ihdp_data.iloc[:,27:28].values\n",
        "ite=ihdp_data.iloc[:,28:29].values"
      ],
      "metadata": {
        "id": "EAhml5kxYVL2"
      },
      "execution_count": 42,
      "outputs": []
    },
    {
      "cell_type": "markdown",
      "source": [
        "####Data Pre-processing:\n",
        "\n",
        "Splitting the data to Training, validation and testing data.First splitting complete dataset to Training and Testing data in 80/20 ratio.Then again splitting training data to Training and Validation data in 80/20 ratio."
      ],
      "metadata": {
        "id": "xN4ssY0nb5RS"
      }
    },
    {
      "cell_type": "code",
      "source": [
        "X_train, X_test, T_train, T_test, Yf_train, Yf_test,Ycf_train,Ycf_test,ite_train, ite_test = train_test_split(X, T, Yf,Ycf, ite, test_size=0.2)\n",
        "X_train, X_val,T_train,T_val,Yf_train,Yf_val,Ycf_train,Ycf_val,ite_train,ite_val = train_test_split(X_train,T_train,Yf_train,Ycf_train,ite_train,test_size=0.20)"
      ],
      "metadata": {
        "id": "-qWvanazb5h3"
      },
      "execution_count": 43,
      "outputs": []
    },
    {
      "cell_type": "markdown",
      "source": [
        "Checking the shapes of training,Validation,Testing Data\n"
      ],
      "metadata": {
        "id": "8vIcW_Ymb5xK"
      }
    },
    {
      "cell_type": "code",
      "source": [
        "print(\"X_train shape: {}\".format(X_train.shape))\n",
        "print(\"X_val shape: {}\".format(X_val.shape))\n",
        "print(\"X_test shape: {}\".format(X_test.shape))\n",
        "print(\"T_train shape: {}\".format(T_train.shape))\n",
        "print(\"T_val shape: {}\".format(T_val.shape))\n",
        "print(\"T_test shape: {}\".format(T_test.shape))\n",
        "print(\"Yf_train shape: {}\".format(Yf_train.shape))\n",
        "print(\"Yf_val shape: {}\".format(Yf_val.shape))\n",
        "print(\"Yf_test shape: {}\".format(Yf_test.shape))\n",
        "print(\"Ycf_train shape: {}\".format(Ycf_train.shape))\n",
        "print(\"Ycf_val shape: {}\".format(Ycf_val.shape))\n",
        "print(\"Ycf_test shape: {}\".format(Ycf_test.shape))\n",
        "print(\"ite_train shape: {}\".format(ite_train.shape))\n",
        "print(\"ite_val shape: {}\".format(ite_val.shape))\n",
        "print(\"ite_test shape: {}\".format(ite_test.shape))"
      ],
      "metadata": {
        "colab": {
          "base_uri": "https://localhost:8080/"
        },
        "id": "LDDIl4OMe_aO",
        "outputId": "f57ac16e-fc63-4c75-aa9b-16cbe5289ce9"
      },
      "execution_count": 44,
      "outputs": [
        {
          "output_type": "stream",
          "name": "stdout",
          "text": [
            "X_train shape: (477, 25)\n",
            "X_val shape: (120, 25)\n",
            "X_test shape: (150, 25)\n",
            "T_train shape: (477, 1)\n",
            "T_val shape: (120, 1)\n",
            "T_test shape: (150, 1)\n",
            "Yf_train shape: (477, 1)\n",
            "Yf_val shape: (120, 1)\n",
            "Yf_test shape: (150, 1)\n",
            "Ycf_train shape: (477, 1)\n",
            "Ycf_val shape: (120, 1)\n",
            "Ycf_test shape: (150, 1)\n",
            "ite_train shape: (477, 1)\n",
            "ite_val shape: (120, 1)\n",
            "ite_test shape: (150, 1)\n"
          ]
        }
      ]
    },
    {
      "cell_type": "markdown",
      "source": [
        "Standardizing the input training data X.No standardization required for treatment variable T as the data is binary."
      ],
      "metadata": {
        "id": "r9KEww5OgOm2"
      }
    },
    {
      "cell_type": "code",
      "source": [
        "scaler_x = StandardScaler()\n",
        "X_train = scaler_x.fit_transform(X_train)\n",
        "X_val = scaler_x.transform(X_val)\n",
        "X_test = scaler_x.transform(X_test)"
      ],
      "metadata": {
        "id": "5WZfRA03b5_U"
      },
      "execution_count": 45,
      "outputs": []
    },
    {
      "cell_type": "markdown",
      "source": [
        "Plotting histograms of outcome variable ,treatment variable and ite:"
      ],
      "metadata": {
        "id": "ihI6TfT4C5nj"
      }
    },
    {
      "cell_type": "code",
      "source": [
        "bins=20\n",
        "fig, axs = plt.subplots(1, 3, figsize=(16, 4))\n",
        "axs[0].hist(T, bins=bins)\n",
        "axs[1].hist(Yf, bins=bins)\n",
        "axs[2].hist(ite, bins=bins)\n",
        "plt.show()"
      ],
      "metadata": {
        "colab": {
          "base_uri": "https://localhost:8080/",
          "height": 265
        },
        "id": "Oq80eLTVjIZl",
        "outputId": "c1962ca3-6629-4034-c81b-5adbceff930d"
      },
      "execution_count": 46,
      "outputs": [
        {
          "output_type": "display_data",
          "data": {
            "text/plain": [
              "<Figure size 1152x288 with 3 Axes>"
            ],
            "image/png": "[encoded data removed]"
          },
          "metadata": {
            "needs_background": "light"
          }
        }
      ]
    },
    {
      "cell_type": "markdown",
      "source": [
        "The above histograms of Yf shows that the data is imbalanced.t is binary with 0 and 1 as values."
      ],
      "metadata": {
        "id": "1Zj4mUwuDKbP"
      }
    },
    {
      "cell_type": "markdown",
      "source": [
        "Checking the means of Individual treatment effects after splitting the data:"
      ],
      "metadata": {
        "id": "dd5OO4bah3a-"
      }
    },
    {
      "cell_type": "code",
      "source": [
        "np.mean(ite_train),np.mean(ite_val),np.mean(ite_test)"
      ],
      "metadata": {
        "colab": {
          "base_uri": "https://localhost:8080/",
          "height": 38
        },
        "id": "CBeGNSe_h2VS",
        "outputId": "d3697aed-4bc5-4431-843b-9e5ffb1e0a2d"
      },
      "execution_count": 47,
      "outputs": [
        {
          "output_type": "execute_result",
          "data": {
            "text/plain": [
              "(4.027138548206744, 3.990308297015962, 4.001465921759106)"
            ],
            "image/png": "[encoded data removed]",
            "text/latex": "$\\displaystyle \\left( 4.02713854820674, \\  3.99030829701596, \\  4.00146592175911\\right)$"
          },
          "metadata": {},
          "execution_count": 47
        }
      ]
    },
    {
      "cell_type": "markdown",
      "source": [
        "#### 3.Random Forest Regression:"
      ],
      "metadata": {
        "id": "EQx4TKxB0g6L"
      }
    },
    {
      "cell_type": "markdown",
      "source": [
        "Training The Model:\n",
        "Using three estimators for training the model:\n",
        "\n",
        "Random forest regressor,\n",
        "Random forest with Inverse Propensity Weighting (IPW),\n",
        "X-learner with RF as base learners."
      ],
      "metadata": {
        "id": "Ale1kjHQkaxJ"
      }
    },
    {
      "cell_type": "markdown",
      "source": [
        "Concatenating X variable with 25 input features and T i.e treatment \n",
        "variable to train the model along with treatment."
      ],
      "metadata": {
        "id": "eUlSI-2ak_m0"
      }
    },
    {
      "cell_type": "code",
      "source": [
        "XT_train = np.concatenate((X_train,T_train),axis=1)"
      ],
      "metadata": {
        "id": "2JX_HRqah2ds"
      },
      "execution_count": 48,
      "outputs": []
    },
    {
      "cell_type": "code",
      "source": [
        "#Fitting Random Forest Regressor on training data:\n",
        "\n",
        "rf = RandomForestRegressor()\n",
        "rf.fit(XT_train, Yf_train.flatten())\n",
        "\n",
        "#For validation of model, y1_val and y0_val are predicted by setting treatment to 1 and 0 respectively.\n",
        "#Treatment variable (T=0,T=1) is again merged accordingly with X data.\n",
        "#Predicted outcomes for both treated and controlled for each individuals as y1_val,y0_val and obtained treatement effect using ite=y1-y0.\n",
        "\n",
        "xt0_val = np.concatenate([X_val, np.zeros_like(T_val)], axis=1)\n",
        "rf_y0_val = rf.predict(xt0_val)\n",
        "\n",
        "xt1_val = np.concatenate([X_val, np.ones_like(T_val)], axis=1)\n",
        "rf_y1_val = rf.predict(xt1_val)\n",
        "\n",
        "rf_te_val = rf_y1_val - rf_y0_val\n",
        "np.mean(rf_te_val)\n",
        "\n"
      ],
      "metadata": {
        "colab": {
          "base_uri": "https://localhost:8080/",
          "height": 38
        },
        "id": "bxvyBQ7HlPam",
        "outputId": "468b9fda-d60e-4288-e08b-c581edc8e798"
      },
      "execution_count": 49,
      "outputs": [
        {
          "output_type": "execute_result",
          "data": {
            "text/plain": [
              "3.774217381628447"
            ],
            "image/png": "[encoded data removed]",
            "text/latex": "$\\displaystyle 3.77421738162845$"
          },
          "metadata": {},
          "execution_count": 49
        }
      ]
    },
    {
      "cell_type": "markdown",
      "source": [
        "Predictions using Test data:\n",
        "\n",
        "y1_test and y0_test are predicted by setting treatment to 1 and 0 respectively.\n",
        "Setting T to a 1 and 0 for all individuals using zeros_like and one_like and merge with X_test to obtain treatment effect estimates\n",
        "Outcomes for both treated and controlled for each individuals as y1_test,y0_test and obtained treatement effect using ite=y1-y0"
      ],
      "metadata": {
        "id": "azRSg3wfqCY0"
      }
    },
    {
      "cell_type": "code",
      "source": [
        "xt0_test = np.concatenate([X_test, np.zeros_like(T_test)], axis=1)\n",
        "rf_y0_test = rf.predict(xt0_test)\n",
        "\n",
        "xt1_test = np.concatenate([X_test, np.ones_like(T_test)], axis=1)\n",
        "rf_y1_test = rf.predict(xt1_test)\n",
        "\n",
        "rf_te_test = rf_y1_test - rf_y0_test\n",
        "np.mean(rf_te_test)\n"
      ],
      "metadata": {
        "colab": {
          "base_uri": "https://localhost:8080/",
          "height": 38
        },
        "id": "OmGrvYJNnhI8",
        "outputId": "281544ea-feac-4edd-9dbd-7aeaaa0e6445"
      },
      "execution_count": 67,
      "outputs": [
        {
          "output_type": "execute_result",
          "data": {
            "text/plain": [
              "3.9035142856765668"
            ],
            "image/png": "[encoded data removed]",
            "text/latex": "$\\displaystyle 3.90351428567657$"
          },
          "metadata": {},
          "execution_count": 67
        }
      ]
    },
    {
      "cell_type": "code",
      "source": [
        "#Accuracy using Root Mean Squared Error\n",
        "rf_rmse_test = np.sqrt(mean_squared_error(ite_test, rf_te_test))\n",
        "print(rf_rmse_test)"
      ],
      "metadata": {
        "id": "cSjW96PKKcV8",
        "outputId": "c6a62cd1-909e-45e0-a227-fc9734b3d1c4",
        "colab": {
          "base_uri": "https://localhost:8080/"
        }
      },
      "execution_count": 66,
      "outputs": [
        {
          "output_type": "stream",
          "name": "stdout",
          "text": [
            "0.6190344598135872\n"
          ]
        }
      ]
    },
    {
      "cell_type": "code",
      "source": [
        "# Hyperparameter optimization using GridSearchCV:\n",
        "gs_rf = RandomForestRegressor()\n",
        "\n",
        "params = {'bootstrap': [True],'max_depth': [1, 2, 5, 10, 20, None], 'max_leaf_nodes': [2, 5, 10, 20, 30, None]}\n",
        "gs_cv = GridSearchCV(gs_rf, cv=10, param_grid=params,n_jobs = -1)\n",
        "\n",
        "gs_cv.fit(XT_train,Yf_train.ravel())\n",
        "\n"
      ],
      "metadata": {
        "id": "84tN4h_7EteZ",
        "outputId": "7ec975dc-ff43-4d8e-cfc3-bff0b4d21c04",
        "colab": {
          "base_uri": "https://localhost:8080/"
        }
      },
      "execution_count": 51,
      "outputs": [
        {
          "output_type": "execute_result",
          "data": {
            "text/plain": [
              "GridSearchCV(cv=10, estimator=RandomForestRegressor(), n_jobs=-1,\n",
              "             param_grid={'bootstrap': [True],\n",
              "                         'max_depth': [1, 2, 5, 10, 20, None],\n",
              "                         'max_leaf_nodes': [2, 5, 10, 20, 30, None]})"
            ]
          },
          "metadata": {},
          "execution_count": 51
        }
      ]
    },
    {
      "cell_type": "code",
      "source": [
        "gs_cv.best_params_"
      ],
      "metadata": {
        "id": "QX_dPAtUFdiQ",
        "outputId": "b3b84005-a567-40f9-f08c-a80f73b2ac6e",
        "colab": {
          "base_uri": "https://localhost:8080/"
        }
      },
      "execution_count": 52,
      "outputs": [
        {
          "output_type": "execute_result",
          "data": {
            "text/plain": [
              "{'bootstrap': True, 'max_depth': 5, 'max_leaf_nodes': 20}"
            ]
          },
          "metadata": {},
          "execution_count": 52
        }
      ]
    },
    {
      "cell_type": "code",
      "source": [
        "gs_cv.best_score_"
      ],
      "metadata": {
        "id": "8F1IS2TIFer-",
        "outputId": "a186deae-d0d7-4dc6-f749-33f2bc642aa4",
        "colab": {
          "base_uri": "https://localhost:8080/",
          "height": 38
        }
      },
      "execution_count": 53,
      "outputs": [
        {
          "output_type": "execute_result",
          "data": {
            "text/plain": [
              "0.739037731178618"
            ],
            "image/png": "[encoded data removed]",
            "text/latex": "$\\displaystyle 0.739037731178618$"
          },
          "metadata": {},
          "execution_count": 53
        }
      ]
    },
    {
      "cell_type": "code",
      "source": [
        "gs_cv_y0_test = gs_cv.predict(xt0_test)\n",
        "\n",
        "gs_cv_y1_test = gs_cv.predict(xt1_test)\n",
        "gs_cv_pred=gs_cv_y1_test-gs_cv_y0_test\n",
        "\n",
        "\n",
        "#Accuracy using Root Mean Squared Error\n",
        "rf_rmse_test = np.sqrt(mean_squared_error(ite_test, gs_cv_pred))\n",
        "print(rf_rmse_test)\n"
      ],
      "metadata": {
        "id": "bMYm4W5QFrna",
        "outputId": "99d9a333-ad66-468d-fbb1-c754bedab78a",
        "colab": {
          "base_uri": "https://localhost:8080/"
        }
      },
      "execution_count": 63,
      "outputs": [
        {
          "output_type": "stream",
          "name": "stdout",
          "text": [
            "0.5395886022644033\n"
          ]
        }
      ]
    },
    {
      "cell_type": "markdown",
      "source": [
        "#### 4.RandomForestClassifier with Inverse Propensity Score(IPSW):"
      ],
      "metadata": {
        "id": "9aFc3-6y0HRV"
      }
    },
    {
      "cell_type": "markdown",
      "source": [
        "Training using RandomForestClassifier extending with with the Inverse Propensity Weighting (IPW),to model unit's probability of receiving the treatment, P(ti|xi). This is a classic binary classification problem using input X,treatment T. P(ti|xi)  is called a propensity score.\n",
        "\n",
        "To get the sample weights, get_ps_weights function is called from causalfuncs.py which is available at https://github.com/srigouri/CE888-Causal/blob/main/causalfuncs.py"
      ],
      "metadata": {
        "id": "G6SR4I3Uq0qv"
      }
    },
    {
      "cell_type": "code",
      "source": [
        "from causalfuncs import get_ps_weights\n",
        "prop_clf = RandomForestClassifier()\n",
        "weights = get_ps_weights(prop_clf, X_train, T_train)\n",
        "\n",
        "rf_ipsw = RandomForestRegressor()\n",
        "rf_ipsw.fit(XT_train, Yf_train.flatten(), sample_weight=weights)\n",
        "\n",
        "#Making Predictions using Classifier with Inverse Propensity Scores (IPSW) and computing ITE's.\n",
        "#Mean of ITEs is calculated.\n",
        "\n",
        "rf_ipsw_y0_test =rf_ipsw.predict(xt0_test) \n",
        "rf_ipsw_y1_test =rf_ipsw.predict(xt1_test) \n",
        "\n",
        "rf_ipsw_te_test = rf_ipsw_y1_test - rf_ipsw_y0_test \n",
        "np.mean(rf_ipsw_te_test)"
      ],
      "metadata": {
        "id": "z-n_wlzj0bVn",
        "colab": {
          "base_uri": "https://localhost:8080/",
          "height": 38
        },
        "outputId": "f6553540-1323-4bfd-8b54-44f835560c3b"
      },
      "execution_count": 55,
      "outputs": [
        {
          "output_type": "execute_result",
          "data": {
            "text/plain": [
              "3.898595645466334"
            ],
            "image/png": "[encoded data removed]",
            "text/latex": "$\\displaystyle 3.89859564546633$"
          },
          "metadata": {},
          "execution_count": 55
        }
      ]
    },
    {
      "cell_type": "code",
      "source": [
        "#Accuracy using Root Mean Squared Error\n",
        "rf_ipsw_rmse_test = np.sqrt(mean_squared_error(ite_test, rf_ipsw_te_test))\n",
        "print(rf_ipsw_rmse_test)"
      ],
      "metadata": {
        "id": "sLWEV1IlKGSh",
        "outputId": "1cfbe85f-be97-4689-a040-a788f4896b10",
        "colab": {
          "base_uri": "https://localhost:8080/"
        }
      },
      "execution_count": 65,
      "outputs": [
        {
          "output_type": "stream",
          "name": "stdout",
          "text": [
            "0.6238691640053835\n"
          ]
        }
      ]
    },
    {
      "cell_type": "markdown",
      "source": [
        "#### 5.X-Learner:\n",
        "  CATE estimator X-learner is a meta-learner implemented via EconML. Uses provided regressors and classifiers to model and predict effect. We need not merge inputs and treatment to train the model. "
      ],
      "metadata": {
        "id": "YeMCCEHSPWoB"
      }
    },
    {
      "cell_type": "code",
      "source": [
        "xl = XLearner(models=RandomForestRegressor(), propensity_model=RandomForestClassifier())\n",
        "xl.fit(Yf_train, T_train.flatten(), X=X_train)\n",
        "\n",
        "xl_te_test = xl.effect(X_test)"
      ],
      "metadata": {
        "id": "fFBwIgQfOckw",
        "colab": {
          "base_uri": "https://localhost:8080/"
        },
        "outputId": "436e6c3c-6220-49a3-969c-94c7dff9c46e"
      },
      "execution_count": 56,
      "outputs": [
        {
          "output_type": "stream",
          "name": "stderr",
          "text": [
            "Function get_feature_names is deprecated; get_feature_names is deprecated in 1.0 and will be removed in 1.2. Please use get_feature_names_out instead.\n"
          ]
        }
      ]
    },
    {
      "cell_type": "markdown",
      "source": [
        "#### Evaluation"
      ],
      "metadata": {
        "id": "s4Kz1Y1oP-Dj"
      }
    },
    {
      "cell_type": "markdown",
      "source": [
        "Metrics Chosen: ϵATE  and  ϵPEHE \n",
        "\n"
      ],
      "metadata": {
        "id": "cv9GXlGmQDcT"
      }
    },
    {
      "cell_type": "code",
      "source": [
        "# Using 'abs_ate' function from causalfuncs.py, true ITEs and predicted ITEs to get the measurements.\n",
        "rf_ate_test = abs_ate(ite_test,rf_te_test)\n",
        "rf_ipsw_ate_test = abs_ate(ite_test,rf_ipsw_te_test)\n",
        "xl_ate_test = abs_ate(ite_test,xl_te_test) \n",
        "\n",
        "# Using 'pehe' function from causalfuncs.py, true ITEs and predicted ITEs to get the measurements.\n",
        "rf_pehe_test =pehe(ite_test,rf_te_test) \n",
        "rf_ipsw_pehe_test = pehe(ite_test,rf_ipsw_te_test) \n",
        "xl_pehe_test = pehe(ite_test,xl_te_test) "
      ],
      "metadata": {
        "id": "1Fzi_zsoQmld"
      },
      "execution_count": 57,
      "outputs": []
    },
    {
      "cell_type": "code",
      "source": [
        "results = []\n",
        "results.append(['RF', rf_ate_test, rf_pehe_test])\n",
        "results.append(['RF (IPW)', rf_ipsw_ate_test, rf_ipsw_pehe_test])\n",
        "results.append(['XL', xl_ate_test, xl_pehe_test])\n",
        "\n",
        "cols = ['Method', 'ATE test', 'PEHE test']\n",
        "\n",
        "df = pd.DataFrame(results, columns=cols)\n",
        "df"
      ],
      "metadata": {
        "id": "DUEhYsbASw6U",
        "colab": {
          "base_uri": "https://localhost:8080/",
          "height": 143
        },
        "outputId": "ad849026-1fc6-4a41-b970-eb84ca7759d2"
      },
      "execution_count": 58,
      "outputs": [
        {
          "output_type": "execute_result",
          "data": {
            "text/plain": [
              "     Method  ATE test  PEHE test\n",
              "0        RF  0.097952   1.403898\n",
              "1  RF (IPW)  0.102870   1.372371\n",
              "2        XL  0.078221   0.779749"
            ],
            "text/html": [
              "\n",
              "  <div id=\"df-25a60498-7eb7-4a16-be8a-9c071471ac89\">\n",
              "    <div class=\"colab-df-container\">\n",
              "      <div>\n",
              "<style scoped>\n",
              "    .dataframe tbody tr th:only-of-type {\n",
              "        vertical-align: middle;\n",
              "    }\n",
              "\n",
              "    .dataframe tbody tr th {\n",
              "        vertical-align: top;\n",
              "    }\n",
              "\n",
              "    .dataframe thead th {\n",
              "        text-align: right;\n",
              "    }\n",
              "</style>\n",
              "<table border=\"1\" class=\"dataframe\">\n",
              "  <thead>\n",
              "    <tr style=\"text-align: right;\">\n",
              "      <th></th>\n",
              "      <th>Method</th>\n",
              "      <th>ATE test</th>\n",
              "      <th>PEHE test</th>\n",
              "    </tr>\n",
              "  </thead>\n",
              "  <tbody>\n",
              "    <tr>\n",
              "      <th>0</th>\n",
              "      <td>RF</td>\n",
              "      <td>0.097952</td>\n",
              "      <td>1.403898</td>\n",
              "    </tr>\n",
              "    <tr>\n",
              "      <th>1</th>\n",
              "      <td>RF (IPW)</td>\n",
              "      <td>0.102870</td>\n",
              "      <td>1.372371</td>\n",
              "    </tr>\n",
              "    <tr>\n",
              "      <th>2</th>\n",
              "      <td>XL</td>\n",
              "      <td>0.078221</td>\n",
              "      <td>0.779749</td>\n",
              "    </tr>\n",
              "  </tbody>\n",
              "</table>\n",
              "</div>\n",
              "      <button class=\"colab-df-convert\" onclick=\"convertToInteractive('df-25a60498-7eb7-4a16-be8a-9c071471ac89')\"\n",
              "              title=\"Convert this dataframe to an interactive table.\"\n",
              "              style=\"display:none;\">\n",
              "        \n",
              "  <svg xmlns=\"http://www.w3.org/2000/svg\" height=\"24px\"viewBox=\"0 0 24 24\"\n",
              "       width=\"24px\">\n",
              "    <path d=\"M0 0h24v24H0V0z\" fill=\"none\"/>\n",
              "    <path d=\"M18.56 5.44l.94 2.06.94-2.06 2.06-.94-2.06-.94-.94-2.06-.94 2.06-2.06.94zm-11 1L8.5 8.5l.94-2.06 2.06-.94-2.06-.94L8.5 2.5l-.94 2.06-2.06.94zm10 10l.94 2.06.94-2.06 2.06-.94-2.06-.94-.94-2.06-.94 2.06-2.06.94z\"/><path d=\"M17.41 7.96l-1.37-1.37c-.4-.4-.92-.59-1.43-.59-.52 0-1.04.2-1.43.59L10.3 9.45l-7.72 7.72c-.78.78-.78 2.05 0 2.83L4 21.41c.39.39.9.59 1.41.59.51 0 1.02-.2 1.41-.59l7.78-7.78 2.81-2.81c.8-.78.8-2.07 0-2.86zM5.41 20L4 18.59l7.72-7.72 1.47 1.35L5.41 20z\"/>\n",
              "  </svg>\n",
              "      </button>\n",
              "      \n",
              "  <style>\n",
              "    .colab-df-container {\n",
              "      display:flex;\n",
              "      flex-wrap:wrap;\n",
              "      gap: 12px;\n",
              "    }\n",
              "\n",
              "    .colab-df-convert {\n",
              "      background-color: #E8F0FE;\n",
              "      border: none;\n",
              "      border-radius: 50%;\n",
              "      cursor: pointer;\n",
              "      display: none;\n",
              "      fill: #1967D2;\n",
              "      height: 32px;\n",
              "      padding: 0 0 0 0;\n",
              "      width: 32px;\n",
              "    }\n",
              "\n",
              "    .colab-df-convert:hover {\n",
              "      background-color: #E2EBFA;\n",
              "      box-shadow: 0px 1px 2px rgba(60, 64, 67, 0.3), 0px 1px 3px 1px rgba(60, 64, 67, 0.15);\n",
              "      fill: #174EA6;\n",
              "    }\n",
              "\n",
              "    [theme=dark] .colab-df-convert {\n",
              "      background-color: #3B4455;\n",
              "      fill: #D2E3FC;\n",
              "    }\n",
              "\n",
              "    [theme=dark] .colab-df-convert:hover {\n",
              "      background-color: #434B5C;\n",
              "      box-shadow: 0px 1px 3px 1px rgba(0, 0, 0, 0.15);\n",
              "      filter: drop-shadow(0px 1px 2px rgba(0, 0, 0, 0.3));\n",
              "      fill: #FFFFFF;\n",
              "    }\n",
              "  </style>\n",
              "\n",
              "      <script>\n",
              "        const buttonEl =\n",
              "          document.querySelector('#df-25a60498-7eb7-4a16-be8a-9c071471ac89 button.colab-df-convert');\n",
              "        buttonEl.style.display =\n",
              "          google.colab.kernel.accessAllowed ? 'block' : 'none';\n",
              "\n",
              "        async function convertToInteractive(key) {\n",
              "          const element = document.querySelector('#df-25a60498-7eb7-4a16-be8a-9c071471ac89');\n",
              "          const dataTable =\n",
              "            await google.colab.kernel.invokeFunction('convertToInteractive',\n",
              "                                                     [key], {});\n",
              "          if (!dataTable) return;\n",
              "\n",
              "          const docLinkHtml = 'Like what you see? Visit the ' +\n",
              "            '<a target=\"_blank\" href=https://colab.research.google.com/notebooks/data_table.ipynb>data table notebook</a>'\n",
              "            + ' to learn more about interactive tables.';\n",
              "          element.innerHTML = '';\n",
              "          dataTable['output_type'] = 'display_data';\n",
              "          await google.colab.output.renderOutput(dataTable, element);\n",
              "          const docLink = document.createElement('div');\n",
              "          docLink.innerHTML = docLinkHtml;\n",
              "          element.appendChild(docLink);\n",
              "        }\n",
              "      </script>\n",
              "    </div>\n",
              "  </div>\n",
              "  "
            ]
          },
          "metadata": {},
          "execution_count": 58
        }
      ]
    },
    {
      "cell_type": "markdown",
      "source": [
        "#### Confidence Intervals"
      ],
      "metadata": {
        "id": "Wdz5NUHMTeF7"
      }
    },
    {
      "cell_type": "markdown",
      "source": [
        "Confidence intervals of predicted ATEs"
      ],
      "metadata": {
        "id": "99A2yixzDepi"
      }
    },
    {
      "cell_type": "code",
      "source": [
        "rf_ate_bounds = mean_ci(rf_te_test)\n",
        "rf_ipsw_ate_bounds = mean_ci(rf_ipsw_te_test)\n",
        "xl_ate_bounds = mean_ci(xl_te_test)\n",
        "\n",
        "\n",
        "results = []\n",
        "results.append(['RF', rf_ate_bounds[0], rf_ate_bounds[1], rf_ate_bounds[2]])\n",
        "results.append(['RF (IPSW)', rf_ipsw_ate_bounds[0], rf_ipsw_ate_bounds[1], rf_ipsw_ate_bounds[2]])\n",
        "results.append(['XL', xl_ate_bounds[0], xl_ate_bounds[1], xl_ate_bounds[2]])\n",
        "\n",
        "cols = ['Method', 'ATE mean', 'CI lower', 'CI upper']\n",
        "\n",
        "df2 = pd.DataFrame(results, columns=cols)\n",
        "df2"
      ],
      "metadata": {
        "id": "cE8gjZ2ESw9w",
        "colab": {
          "base_uri": "https://localhost:8080/",
          "height": 143
        },
        "outputId": "9de1ee6d-d08e-4139-e3c6-6a5f55900cb9"
      },
      "execution_count": 59,
      "outputs": [
        {
          "output_type": "execute_result",
          "data": {
            "text/plain": [
              "      Method  ATE mean              CI lower             CI upper\n",
              "0         RF  3.903514               3.72483             4.082198\n",
              "1  RF (IPSW)  3.898596              3.726525             4.070667\n",
              "2         XL  4.079687  [3.9649722595644765]  [4.194401015040041]"
            ],
            "text/html": [
              "\n",
              "  <div id=\"df-73776495-e9d4-4c11-9d92-711c1c2a1ee3\">\n",
              "    <div class=\"colab-df-container\">\n",
              "      <div>\n",
              "<style scoped>\n",
              "    .dataframe tbody tr th:only-of-type {\n",
              "        vertical-align: middle;\n",
              "    }\n",
              "\n",
              "    .dataframe tbody tr th {\n",
              "        vertical-align: top;\n",
              "    }\n",
              "\n",
              "    .dataframe thead th {\n",
              "        text-align: right;\n",
              "    }\n",
              "</style>\n",
              "<table border=\"1\" class=\"dataframe\">\n",
              "  <thead>\n",
              "    <tr style=\"text-align: right;\">\n",
              "      <th></th>\n",
              "      <th>Method</th>\n",
              "      <th>ATE mean</th>\n",
              "      <th>CI lower</th>\n",
              "      <th>CI upper</th>\n",
              "    </tr>\n",
              "  </thead>\n",
              "  <tbody>\n",
              "    <tr>\n",
              "      <th>0</th>\n",
              "      <td>RF</td>\n",
              "      <td>3.903514</td>\n",
              "      <td>3.72483</td>\n",
              "      <td>4.082198</td>\n",
              "    </tr>\n",
              "    <tr>\n",
              "      <th>1</th>\n",
              "      <td>RF (IPSW)</td>\n",
              "      <td>3.898596</td>\n",
              "      <td>3.726525</td>\n",
              "      <td>4.070667</td>\n",
              "    </tr>\n",
              "    <tr>\n",
              "      <th>2</th>\n",
              "      <td>XL</td>\n",
              "      <td>4.079687</td>\n",
              "      <td>[3.9649722595644765]</td>\n",
              "      <td>[4.194401015040041]</td>\n",
              "    </tr>\n",
              "  </tbody>\n",
              "</table>\n",
              "</div>\n",
              "      <button class=\"colab-df-convert\" onclick=\"convertToInteractive('df-73776495-e9d4-4c11-9d92-711c1c2a1ee3')\"\n",
              "              title=\"Convert this dataframe to an interactive table.\"\n",
              "              style=\"display:none;\">\n",
              "        \n",
              "  <svg xmlns=\"http://www.w3.org/2000/svg\" height=\"24px\"viewBox=\"0 0 24 24\"\n",
              "       width=\"24px\">\n",
              "    <path d=\"M0 0h24v24H0V0z\" fill=\"none\"/>\n",
              "    <path d=\"M18.56 5.44l.94 2.06.94-2.06 2.06-.94-2.06-.94-.94-2.06-.94 2.06-2.06.94zm-11 1L8.5 8.5l.94-2.06 2.06-.94-2.06-.94L8.5 2.5l-.94 2.06-2.06.94zm10 10l.94 2.06.94-2.06 2.06-.94-2.06-.94-.94-2.06-.94 2.06-2.06.94z\"/><path d=\"M17.41 7.96l-1.37-1.37c-.4-.4-.92-.59-1.43-.59-.52 0-1.04.2-1.43.59L10.3 9.45l-7.72 7.72c-.78.78-.78 2.05 0 2.83L4 21.41c.39.39.9.59 1.41.59.51 0 1.02-.2 1.41-.59l7.78-7.78 2.81-2.81c.8-.78.8-2.07 0-2.86zM5.41 20L4 18.59l7.72-7.72 1.47 1.35L5.41 20z\"/>\n",
              "  </svg>\n",
              "      </button>\n",
              "      \n",
              "  <style>\n",
              "    .colab-df-container {\n",
              "      display:flex;\n",
              "      flex-wrap:wrap;\n",
              "      gap: 12px;\n",
              "    }\n",
              "\n",
              "    .colab-df-convert {\n",
              "      background-color: #E8F0FE;\n",
              "      border: none;\n",
              "      border-radius: 50%;\n",
              "      cursor: pointer;\n",
              "      display: none;\n",
              "      fill: #1967D2;\n",
              "      height: 32px;\n",
              "      padding: 0 0 0 0;\n",
              "      width: 32px;\n",
              "    }\n",
              "\n",
              "    .colab-df-convert:hover {\n",
              "      background-color: #E2EBFA;\n",
              "      box-shadow: 0px 1px 2px rgba(60, 64, 67, 0.3), 0px 1px 3px 1px rgba(60, 64, 67, 0.15);\n",
              "      fill: #174EA6;\n",
              "    }\n",
              "\n",
              "    [theme=dark] .colab-df-convert {\n",
              "      background-color: #3B4455;\n",
              "      fill: #D2E3FC;\n",
              "    }\n",
              "\n",
              "    [theme=dark] .colab-df-convert:hover {\n",
              "      background-color: #434B5C;\n",
              "      box-shadow: 0px 1px 3px 1px rgba(0, 0, 0, 0.15);\n",
              "      filter: drop-shadow(0px 1px 2px rgba(0, 0, 0, 0.3));\n",
              "      fill: #FFFFFF;\n",
              "    }\n",
              "  </style>\n",
              "\n",
              "      <script>\n",
              "        const buttonEl =\n",
              "          document.querySelector('#df-73776495-e9d4-4c11-9d92-711c1c2a1ee3 button.colab-df-convert');\n",
              "        buttonEl.style.display =\n",
              "          google.colab.kernel.accessAllowed ? 'block' : 'none';\n",
              "\n",
              "        async function convertToInteractive(key) {\n",
              "          const element = document.querySelector('#df-73776495-e9d4-4c11-9d92-711c1c2a1ee3');\n",
              "          const dataTable =\n",
              "            await google.colab.kernel.invokeFunction('convertToInteractive',\n",
              "                                                     [key], {});\n",
              "          if (!dataTable) return;\n",
              "\n",
              "          const docLinkHtml = 'Like what you see? Visit the ' +\n",
              "            '<a target=\"_blank\" href=https://colab.research.google.com/notebooks/data_table.ipynb>data table notebook</a>'\n",
              "            + ' to learn more about interactive tables.';\n",
              "          element.innerHTML = '';\n",
              "          dataTable['output_type'] = 'display_data';\n",
              "          await google.colab.output.renderOutput(dataTable, element);\n",
              "          const docLink = document.createElement('div');\n",
              "          docLink.innerHTML = docLinkHtml;\n",
              "          element.appendChild(docLink);\n",
              "        }\n",
              "      </script>\n",
              "    </div>\n",
              "  </div>\n",
              "  "
            ]
          },
          "metadata": {},
          "execution_count": 59
        }
      ]
    },
    {
      "cell_type": "markdown",
      "source": [
        "#### Visualizations"
      ],
      "metadata": {
        "id": "QPqQ1SvgT5oW"
      }
    },
    {
      "cell_type": "markdown",
      "source": [
        "Box plot showing treatment effect with different models:\n"
      ],
      "metadata": {
        "id": "pOmPyMF6TdtS"
      }
    },
    {
      "cell_type": "code",
      "source": [
        "plt.figure()\n",
        "plt.boxplot([rf_te_test, rf_ipsw_te_test, xl_te_test.flatten()], labels=['RF', 'RF (IPSW)', 'X-learner'])\n",
        "plt.ylabel('Treatment Effect')\n",
        "\n",
        "plt.show()"
      ],
      "metadata": {
        "id": "ovAjh2onT3sC",
        "colab": {
          "base_uri": "https://localhost:8080/",
          "height": 265
        },
        "outputId": "b038f88a-4ac5-4d8b-e76e-49876c4dccae"
      },
      "execution_count": 60,
      "outputs": [
        {
          "output_type": "display_data",
          "data": {
            "text/plain": [
              "<Figure size 432x288 with 1 Axes>"
            ],
            "image/png": "[encoded data removed]"
          },
          "metadata": {
            "needs_background": "light"
          }
        }
      ]
    },
    {
      "cell_type": "markdown",
      "source": [
        "Scatter plot showing treatment effect with different models:\n"
      ],
      "metadata": {
        "id": "y5KsFTH5TgGT"
      }
    },
    {
      "cell_type": "code",
      "source": [
        "plt.figure(figsize=(12, 10))\n",
        "m_size = 10\n",
        "plt.scatter(Yf_test,rf_te_test, label=\"RF\", s=m_size)\n",
        "plt.scatter(Yf_test,rf_ipsw_te_test, label=\"RF (IPW)\", s=m_size)\n",
        "plt.scatter(Yf_test,xl_te_test, label=\"X-learner\", s=m_size)\n",
        "plt.xlabel('X')\n",
        "plt.ylabel('Treatment Effect')\n",
        "plt.legend()\n",
        "plt.show()"
      ],
      "metadata": {
        "id": "vkHU2Dj1T-4m",
        "colab": {
          "base_uri": "https://localhost:8080/",
          "height": 606
        },
        "outputId": "9b03b19f-fd22-45ca-ca42-01c2200fb34b"
      },
      "execution_count": 61,
      "outputs": [
        {
          "output_type": "display_data",
          "data": {
            "text/plain": [
              "<Figure size 864x720 with 1 Axes>"
            ],
            "image/png": "[encoded data removed]"
          },
          "metadata": {
            "needs_background": "light"
          }
        }
      ]
    }
  ]
}